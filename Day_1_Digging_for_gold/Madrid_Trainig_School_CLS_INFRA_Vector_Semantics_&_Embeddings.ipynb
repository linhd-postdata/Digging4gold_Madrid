{
  "nbformat": 4,
  "nbformat_minor": 0,
  "metadata": {
    "colab": {
      "provenance": [],
      "machine_shape": "hm",
      "gpuType": "T4",
      "toc_visible": true
    },
    "kernelspec": {
      "name": "python3",
      "display_name": "Python 3"
    },
    "accelerator": "GPU",
    "gpuClass": "standard",
    "widgets": {
      "application/vnd.jupyter.widget-state+json": {
        "e902fcef85b94312a634376259692b56": {
          "model_module": "@jupyter-widgets/controls",
          "model_name": "HBoxModel",
          "model_module_version": "1.5.0",
          "state": {
            "_dom_classes": [],
            "_model_module": "@jupyter-widgets/controls",
            "_model_module_version": "1.5.0",
            "_model_name": "HBoxModel",
            "_view_count": null,
            "_view_module": "@jupyter-widgets/controls",
            "_view_module_version": "1.5.0",
            "_view_name": "HBoxView",
            "box_style": "",
            "children": [
              "IPY_MODEL_f0012376e32e42d4a9783dde8700b290",
              "IPY_MODEL_8d2401e1c8f6441684747e59d5c61957",
              "IPY_MODEL_44e768cbf8264ab08989ec0ee64bc446"
            ],
            "layout": "IPY_MODEL_76c2121a55d14f7cad506cc64442cb8b"
          }
        },
        "f0012376e32e42d4a9783dde8700b290": {
          "model_module": "@jupyter-widgets/controls",
          "model_name": "HTMLModel",
          "model_module_version": "1.5.0",
          "state": {
            "_dom_classes": [],
            "_model_module": "@jupyter-widgets/controls",
            "_model_module_version": "1.5.0",
            "_model_name": "HTMLModel",
            "_view_count": null,
            "_view_module": "@jupyter-widgets/controls",
            "_view_module_version": "1.5.0",
            "_view_name": "HTMLView",
            "description": "",
            "description_tooltip": null,
            "layout": "IPY_MODEL_01e0f06f4edb4cc4ab4674feb6d56574",
            "placeholder": "​",
            "style": "IPY_MODEL_09e6970f89454a31b2a33c982260fb67",
            "value": "Downloading (…)lve/main/config.json: 100%"
          }
        },
        "8d2401e1c8f6441684747e59d5c61957": {
          "model_module": "@jupyter-widgets/controls",
          "model_name": "FloatProgressModel",
          "model_module_version": "1.5.0",
          "state": {
            "_dom_classes": [],
            "_model_module": "@jupyter-widgets/controls",
            "_model_module_version": "1.5.0",
            "_model_name": "FloatProgressModel",
            "_view_count": null,
            "_view_module": "@jupyter-widgets/controls",
            "_view_module_version": "1.5.0",
            "_view_name": "ProgressView",
            "bar_style": "success",
            "description": "",
            "description_tooltip": null,
            "layout": "IPY_MODEL_bbac940bd1dc49c6a9352236968c406b",
            "max": 411,
            "min": 0,
            "orientation": "horizontal",
            "style": "IPY_MODEL_39c7f309e6484168906125429c40ac99",
            "value": 411
          }
        },
        "44e768cbf8264ab08989ec0ee64bc446": {
          "model_module": "@jupyter-widgets/controls",
          "model_name": "HTMLModel",
          "model_module_version": "1.5.0",
          "state": {
            "_dom_classes": [],
            "_model_module": "@jupyter-widgets/controls",
            "_model_module_version": "1.5.0",
            "_model_name": "HTMLModel",
            "_view_count": null,
            "_view_module": "@jupyter-widgets/controls",
            "_view_module_version": "1.5.0",
            "_view_name": "HTMLView",
            "description": "",
            "description_tooltip": null,
            "layout": "IPY_MODEL_e53b62b2aef84185acea4408f900bfab",
            "placeholder": "​",
            "style": "IPY_MODEL_b9d866d1b56440ff918d96048907c849",
            "value": " 411/411 [00:00&lt;00:00, 22.4kB/s]"
          }
        },
        "76c2121a55d14f7cad506cc64442cb8b": {
          "model_module": "@jupyter-widgets/base",
          "model_name": "LayoutModel",
          "model_module_version": "1.2.0",
          "state": {
            "_model_module": "@jupyter-widgets/base",
            "_model_module_version": "1.2.0",
            "_model_name": "LayoutModel",
            "_view_count": null,
            "_view_module": "@jupyter-widgets/base",
            "_view_module_version": "1.2.0",
            "_view_name": "LayoutView",
            "align_content": null,
            "align_items": null,
            "align_self": null,
            "border": null,
            "bottom": null,
            "display": null,
            "flex": null,
            "flex_flow": null,
            "grid_area": null,
            "grid_auto_columns": null,
            "grid_auto_flow": null,
            "grid_auto_rows": null,
            "grid_column": null,
            "grid_gap": null,
            "grid_row": null,
            "grid_template_areas": null,
            "grid_template_columns": null,
            "grid_template_rows": null,
            "height": null,
            "justify_content": null,
            "justify_items": null,
            "left": null,
            "margin": null,
            "max_height": null,
            "max_width": null,
            "min_height": null,
            "min_width": null,
            "object_fit": null,
            "object_position": null,
            "order": null,
            "overflow": null,
            "overflow_x": null,
            "overflow_y": null,
            "padding": null,
            "right": null,
            "top": null,
            "visibility": null,
            "width": null
          }
        },
        "01e0f06f4edb4cc4ab4674feb6d56574": {
          "model_module": "@jupyter-widgets/base",
          "model_name": "LayoutModel",
          "model_module_version": "1.2.0",
          "state": {
            "_model_module": "@jupyter-widgets/base",
            "_model_module_version": "1.2.0",
            "_model_name": "LayoutModel",
            "_view_count": null,
            "_view_module": "@jupyter-widgets/base",
            "_view_module_version": "1.2.0",
            "_view_name": "LayoutView",
            "align_content": null,
            "align_items": null,
            "align_self": null,
            "border": null,
            "bottom": null,
            "display": null,
            "flex": null,
            "flex_flow": null,
            "grid_area": null,
            "grid_auto_columns": null,
            "grid_auto_flow": null,
            "grid_auto_rows": null,
            "grid_column": null,
            "grid_gap": null,
            "grid_row": null,
            "grid_template_areas": null,
            "grid_template_columns": null,
            "grid_template_rows": null,
            "height": null,
            "justify_content": null,
            "justify_items": null,
            "left": null,
            "margin": null,
            "max_height": null,
            "max_width": null,
            "min_height": null,
            "min_width": null,
            "object_fit": null,
            "object_position": null,
            "order": null,
            "overflow": null,
            "overflow_x": null,
            "overflow_y": null,
            "padding": null,
            "right": null,
            "top": null,
            "visibility": null,
            "width": null
          }
        },
        "09e6970f89454a31b2a33c982260fb67": {
          "model_module": "@jupyter-widgets/controls",
          "model_name": "DescriptionStyleModel",
          "model_module_version": "1.5.0",
          "state": {
            "_model_module": "@jupyter-widgets/controls",
            "_model_module_version": "1.5.0",
            "_model_name": "DescriptionStyleModel",
            "_view_count": null,
            "_view_module": "@jupyter-widgets/base",
            "_view_module_version": "1.2.0",
            "_view_name": "StyleView",
            "description_width": ""
          }
        },
        "bbac940bd1dc49c6a9352236968c406b": {
          "model_module": "@jupyter-widgets/base",
          "model_name": "LayoutModel",
          "model_module_version": "1.2.0",
          "state": {
            "_model_module": "@jupyter-widgets/base",
            "_model_module_version": "1.2.0",
            "_model_name": "LayoutModel",
            "_view_count": null,
            "_view_module": "@jupyter-widgets/base",
            "_view_module_version": "1.2.0",
            "_view_name": "LayoutView",
            "align_content": null,
            "align_items": null,
            "align_self": null,
            "border": null,
            "bottom": null,
            "display": null,
            "flex": null,
            "flex_flow": null,
            "grid_area": null,
            "grid_auto_columns": null,
            "grid_auto_flow": null,
            "grid_auto_rows": null,
            "grid_column": null,
            "grid_gap": null,
            "grid_row": null,
            "grid_template_areas": null,
            "grid_template_columns": null,
            "grid_template_rows": null,
            "height": null,
            "justify_content": null,
            "justify_items": null,
            "left": null,
            "margin": null,
            "max_height": null,
            "max_width": null,
            "min_height": null,
            "min_width": null,
            "object_fit": null,
            "object_position": null,
            "order": null,
            "overflow": null,
            "overflow_x": null,
            "overflow_y": null,
            "padding": null,
            "right": null,
            "top": null,
            "visibility": null,
            "width": null
          }
        },
        "39c7f309e6484168906125429c40ac99": {
          "model_module": "@jupyter-widgets/controls",
          "model_name": "ProgressStyleModel",
          "model_module_version": "1.5.0",
          "state": {
            "_model_module": "@jupyter-widgets/controls",
            "_model_module_version": "1.5.0",
            "_model_name": "ProgressStyleModel",
            "_view_count": null,
            "_view_module": "@jupyter-widgets/base",
            "_view_module_version": "1.2.0",
            "_view_name": "StyleView",
            "bar_color": null,
            "description_width": ""
          }
        },
        "e53b62b2aef84185acea4408f900bfab": {
          "model_module": "@jupyter-widgets/base",
          "model_name": "LayoutModel",
          "model_module_version": "1.2.0",
          "state": {
            "_model_module": "@jupyter-widgets/base",
            "_model_module_version": "1.2.0",
            "_model_name": "LayoutModel",
            "_view_count": null,
            "_view_module": "@jupyter-widgets/base",
            "_view_module_version": "1.2.0",
            "_view_name": "LayoutView",
            "align_content": null,
            "align_items": null,
            "align_self": null,
            "border": null,
            "bottom": null,
            "display": null,
            "flex": null,
            "flex_flow": null,
            "grid_area": null,
            "grid_auto_columns": null,
            "grid_auto_flow": null,
            "grid_auto_rows": null,
            "grid_column": null,
            "grid_gap": null,
            "grid_row": null,
            "grid_template_areas": null,
            "grid_template_columns": null,
            "grid_template_rows": null,
            "height": null,
            "justify_content": null,
            "justify_items": null,
            "left": null,
            "margin": null,
            "max_height": null,
            "max_width": null,
            "min_height": null,
            "min_width": null,
            "object_fit": null,
            "object_position": null,
            "order": null,
            "overflow": null,
            "overflow_x": null,
            "overflow_y": null,
            "padding": null,
            "right": null,
            "top": null,
            "visibility": null,
            "width": null
          }
        },
        "b9d866d1b56440ff918d96048907c849": {
          "model_module": "@jupyter-widgets/controls",
          "model_name": "DescriptionStyleModel",
          "model_module_version": "1.5.0",
          "state": {
            "_model_module": "@jupyter-widgets/controls",
            "_model_module_version": "1.5.0",
            "_model_name": "DescriptionStyleModel",
            "_view_count": null,
            "_view_module": "@jupyter-widgets/base",
            "_view_module_version": "1.2.0",
            "_view_name": "StyleView",
            "description_width": ""
          }
        },
        "7c32b2d83b9342e68352b77f7169bae4": {
          "model_module": "@jupyter-widgets/controls",
          "model_name": "HBoxModel",
          "model_module_version": "1.5.0",
          "state": {
            "_dom_classes": [],
            "_model_module": "@jupyter-widgets/controls",
            "_model_module_version": "1.5.0",
            "_model_name": "HBoxModel",
            "_view_count": null,
            "_view_module": "@jupyter-widgets/controls",
            "_view_module_version": "1.5.0",
            "_view_name": "HBoxView",
            "box_style": "",
            "children": [
              "IPY_MODEL_2f870063b0464507a219edbe6fc375eb",
              "IPY_MODEL_235c3bce588a432486dcfb28678e32fa",
              "IPY_MODEL_700fc29fb57c47ee837e88fcf9782f69"
            ],
            "layout": "IPY_MODEL_7d306b19b8384f88bbf35cc520baff9e"
          }
        },
        "2f870063b0464507a219edbe6fc375eb": {
          "model_module": "@jupyter-widgets/controls",
          "model_name": "HTMLModel",
          "model_module_version": "1.5.0",
          "state": {
            "_dom_classes": [],
            "_model_module": "@jupyter-widgets/controls",
            "_model_module_version": "1.5.0",
            "_model_name": "HTMLModel",
            "_view_count": null,
            "_view_module": "@jupyter-widgets/controls",
            "_view_module_version": "1.5.0",
            "_view_name": "HTMLView",
            "description": "",
            "description_tooltip": null,
            "layout": "IPY_MODEL_3ef800ef7c5046eabda36ec71f59af47",
            "placeholder": "​",
            "style": "IPY_MODEL_ba74a27201e149f6b91fb47422d62dc7",
            "value": "Downloading pytorch_model.bin: 100%"
          }
        },
        "235c3bce588a432486dcfb28678e32fa": {
          "model_module": "@jupyter-widgets/controls",
          "model_name": "FloatProgressModel",
          "model_module_version": "1.5.0",
          "state": {
            "_dom_classes": [],
            "_model_module": "@jupyter-widgets/controls",
            "_model_module_version": "1.5.0",
            "_model_name": "FloatProgressModel",
            "_view_count": null,
            "_view_module": "@jupyter-widgets/controls",
            "_view_module_version": "1.5.0",
            "_view_name": "ProgressView",
            "bar_style": "success",
            "description": "",
            "description_tooltip": null,
            "layout": "IPY_MODEL_039fc29375c14a00b03490f0a9dd3de1",
            "max": 263273408,
            "min": 0,
            "orientation": "horizontal",
            "style": "IPY_MODEL_7967fe5f5d3f489195add0d27b9c6014",
            "value": 263273408
          }
        },
        "700fc29fb57c47ee837e88fcf9782f69": {
          "model_module": "@jupyter-widgets/controls",
          "model_name": "HTMLModel",
          "model_module_version": "1.5.0",
          "state": {
            "_dom_classes": [],
            "_model_module": "@jupyter-widgets/controls",
            "_model_module_version": "1.5.0",
            "_model_name": "HTMLModel",
            "_view_count": null,
            "_view_module": "@jupyter-widgets/controls",
            "_view_module_version": "1.5.0",
            "_view_name": "HTMLView",
            "description": "",
            "description_tooltip": null,
            "layout": "IPY_MODEL_6d2e6aabf5ee4f1aad7013319c631fbc",
            "placeholder": "​",
            "style": "IPY_MODEL_2565ca37025d4c91a3d77e7ffc4b5a51",
            "value": " 263M/263M [00:02&lt;00:00, 116MB/s]"
          }
        },
        "7d306b19b8384f88bbf35cc520baff9e": {
          "model_module": "@jupyter-widgets/base",
          "model_name": "LayoutModel",
          "model_module_version": "1.2.0",
          "state": {
            "_model_module": "@jupyter-widgets/base",
            "_model_module_version": "1.2.0",
            "_model_name": "LayoutModel",
            "_view_count": null,
            "_view_module": "@jupyter-widgets/base",
            "_view_module_version": "1.2.0",
            "_view_name": "LayoutView",
            "align_content": null,
            "align_items": null,
            "align_self": null,
            "border": null,
            "bottom": null,
            "display": null,
            "flex": null,
            "flex_flow": null,
            "grid_area": null,
            "grid_auto_columns": null,
            "grid_auto_flow": null,
            "grid_auto_rows": null,
            "grid_column": null,
            "grid_gap": null,
            "grid_row": null,
            "grid_template_areas": null,
            "grid_template_columns": null,
            "grid_template_rows": null,
            "height": null,
            "justify_content": null,
            "justify_items": null,
            "left": null,
            "margin": null,
            "max_height": null,
            "max_width": null,
            "min_height": null,
            "min_width": null,
            "object_fit": null,
            "object_position": null,
            "order": null,
            "overflow": null,
            "overflow_x": null,
            "overflow_y": null,
            "padding": null,
            "right": null,
            "top": null,
            "visibility": null,
            "width": null
          }
        },
        "3ef800ef7c5046eabda36ec71f59af47": {
          "model_module": "@jupyter-widgets/base",
          "model_name": "LayoutModel",
          "model_module_version": "1.2.0",
          "state": {
            "_model_module": "@jupyter-widgets/base",
            "_model_module_version": "1.2.0",
            "_model_name": "LayoutModel",
            "_view_count": null,
            "_view_module": "@jupyter-widgets/base",
            "_view_module_version": "1.2.0",
            "_view_name": "LayoutView",
            "align_content": null,
            "align_items": null,
            "align_self": null,
            "border": null,
            "bottom": null,
            "display": null,
            "flex": null,
            "flex_flow": null,
            "grid_area": null,
            "grid_auto_columns": null,
            "grid_auto_flow": null,
            "grid_auto_rows": null,
            "grid_column": null,
            "grid_gap": null,
            "grid_row": null,
            "grid_template_areas": null,
            "grid_template_columns": null,
            "grid_template_rows": null,
            "height": null,
            "justify_content": null,
            "justify_items": null,
            "left": null,
            "margin": null,
            "max_height": null,
            "max_width": null,
            "min_height": null,
            "min_width": null,
            "object_fit": null,
            "object_position": null,
            "order": null,
            "overflow": null,
            "overflow_x": null,
            "overflow_y": null,
            "padding": null,
            "right": null,
            "top": null,
            "visibility": null,
            "width": null
          }
        },
        "ba74a27201e149f6b91fb47422d62dc7": {
          "model_module": "@jupyter-widgets/controls",
          "model_name": "DescriptionStyleModel",
          "model_module_version": "1.5.0",
          "state": {
            "_model_module": "@jupyter-widgets/controls",
            "_model_module_version": "1.5.0",
            "_model_name": "DescriptionStyleModel",
            "_view_count": null,
            "_view_module": "@jupyter-widgets/base",
            "_view_module_version": "1.2.0",
            "_view_name": "StyleView",
            "description_width": ""
          }
        },
        "039fc29375c14a00b03490f0a9dd3de1": {
          "model_module": "@jupyter-widgets/base",
          "model_name": "LayoutModel",
          "model_module_version": "1.2.0",
          "state": {
            "_model_module": "@jupyter-widgets/base",
            "_model_module_version": "1.2.0",
            "_model_name": "LayoutModel",
            "_view_count": null,
            "_view_module": "@jupyter-widgets/base",
            "_view_module_version": "1.2.0",
            "_view_name": "LayoutView",
            "align_content": null,
            "align_items": null,
            "align_self": null,
            "border": null,
            "bottom": null,
            "display": null,
            "flex": null,
            "flex_flow": null,
            "grid_area": null,
            "grid_auto_columns": null,
            "grid_auto_flow": null,
            "grid_auto_rows": null,
            "grid_column": null,
            "grid_gap": null,
            "grid_row": null,
            "grid_template_areas": null,
            "grid_template_columns": null,
            "grid_template_rows": null,
            "height": null,
            "justify_content": null,
            "justify_items": null,
            "left": null,
            "margin": null,
            "max_height": null,
            "max_width": null,
            "min_height": null,
            "min_width": null,
            "object_fit": null,
            "object_position": null,
            "order": null,
            "overflow": null,
            "overflow_x": null,
            "overflow_y": null,
            "padding": null,
            "right": null,
            "top": null,
            "visibility": null,
            "width": null
          }
        },
        "7967fe5f5d3f489195add0d27b9c6014": {
          "model_module": "@jupyter-widgets/controls",
          "model_name": "ProgressStyleModel",
          "model_module_version": "1.5.0",
          "state": {
            "_model_module": "@jupyter-widgets/controls",
            "_model_module_version": "1.5.0",
            "_model_name": "ProgressStyleModel",
            "_view_count": null,
            "_view_module": "@jupyter-widgets/base",
            "_view_module_version": "1.2.0",
            "_view_name": "StyleView",
            "bar_color": null,
            "description_width": ""
          }
        },
        "6d2e6aabf5ee4f1aad7013319c631fbc": {
          "model_module": "@jupyter-widgets/base",
          "model_name": "LayoutModel",
          "model_module_version": "1.2.0",
          "state": {
            "_model_module": "@jupyter-widgets/base",
            "_model_module_version": "1.2.0",
            "_model_name": "LayoutModel",
            "_view_count": null,
            "_view_module": "@jupyter-widgets/base",
            "_view_module_version": "1.2.0",
            "_view_name": "LayoutView",
            "align_content": null,
            "align_items": null,
            "align_self": null,
            "border": null,
            "bottom": null,
            "display": null,
            "flex": null,
            "flex_flow": null,
            "grid_area": null,
            "grid_auto_columns": null,
            "grid_auto_flow": null,
            "grid_auto_rows": null,
            "grid_column": null,
            "grid_gap": null,
            "grid_row": null,
            "grid_template_areas": null,
            "grid_template_columns": null,
            "grid_template_rows": null,
            "height": null,
            "justify_content": null,
            "justify_items": null,
            "left": null,
            "margin": null,
            "max_height": null,
            "max_width": null,
            "min_height": null,
            "min_width": null,
            "object_fit": null,
            "object_position": null,
            "order": null,
            "overflow": null,
            "overflow_x": null,
            "overflow_y": null,
            "padding": null,
            "right": null,
            "top": null,
            "visibility": null,
            "width": null
          }
        },
        "2565ca37025d4c91a3d77e7ffc4b5a51": {
          "model_module": "@jupyter-widgets/controls",
          "model_name": "DescriptionStyleModel",
          "model_module_version": "1.5.0",
          "state": {
            "_model_module": "@jupyter-widgets/controls",
            "_model_module_version": "1.5.0",
            "_model_name": "DescriptionStyleModel",
            "_view_count": null,
            "_view_module": "@jupyter-widgets/base",
            "_view_module_version": "1.2.0",
            "_view_name": "StyleView",
            "description_width": ""
          }
        },
        "7fc10581708b4b02bf6918c1e45d6d75": {
          "model_module": "@jupyter-widgets/controls",
          "model_name": "HBoxModel",
          "model_module_version": "1.5.0",
          "state": {
            "_dom_classes": [],
            "_model_module": "@jupyter-widgets/controls",
            "_model_module_version": "1.5.0",
            "_model_name": "HBoxModel",
            "_view_count": null,
            "_view_module": "@jupyter-widgets/controls",
            "_view_module_version": "1.5.0",
            "_view_name": "HBoxView",
            "box_style": "",
            "children": [
              "IPY_MODEL_5c6ed6a2f9404897afcda5ab5384b0bc",
              "IPY_MODEL_fac8ce1e5fad4f6c80a0c5fc5528d72b",
              "IPY_MODEL_a86d26a59be8431899bf16abd9b33575"
            ],
            "layout": "IPY_MODEL_b2a18a2ebb6148c282b7522b5c6f8ce0"
          }
        },
        "5c6ed6a2f9404897afcda5ab5384b0bc": {
          "model_module": "@jupyter-widgets/controls",
          "model_name": "HTMLModel",
          "model_module_version": "1.5.0",
          "state": {
            "_dom_classes": [],
            "_model_module": "@jupyter-widgets/controls",
            "_model_module_version": "1.5.0",
            "_model_name": "HTMLModel",
            "_view_count": null,
            "_view_module": "@jupyter-widgets/controls",
            "_view_module_version": "1.5.0",
            "_view_name": "HTMLView",
            "description": "",
            "description_tooltip": null,
            "layout": "IPY_MODEL_ba197289881a4cc999a50ce73e7ae134",
            "placeholder": "​",
            "style": "IPY_MODEL_9386bd50d78b4d8e90a9f1a5e367a122",
            "value": "Downloading (…)okenizer_config.json: 100%"
          }
        },
        "fac8ce1e5fad4f6c80a0c5fc5528d72b": {
          "model_module": "@jupyter-widgets/controls",
          "model_name": "FloatProgressModel",
          "model_module_version": "1.5.0",
          "state": {
            "_dom_classes": [],
            "_model_module": "@jupyter-widgets/controls",
            "_model_module_version": "1.5.0",
            "_model_name": "FloatProgressModel",
            "_view_count": null,
            "_view_module": "@jupyter-widgets/controls",
            "_view_module_version": "1.5.0",
            "_view_name": "ProgressView",
            "bar_style": "success",
            "description": "",
            "description_tooltip": null,
            "layout": "IPY_MODEL_274735ca6b5848029354ed365fd257df",
            "max": 29,
            "min": 0,
            "orientation": "horizontal",
            "style": "IPY_MODEL_4227f6cec71542db94b97160046b7912",
            "value": 29
          }
        },
        "a86d26a59be8431899bf16abd9b33575": {
          "model_module": "@jupyter-widgets/controls",
          "model_name": "HTMLModel",
          "model_module_version": "1.5.0",
          "state": {
            "_dom_classes": [],
            "_model_module": "@jupyter-widgets/controls",
            "_model_module_version": "1.5.0",
            "_model_name": "HTMLModel",
            "_view_count": null,
            "_view_module": "@jupyter-widgets/controls",
            "_view_module_version": "1.5.0",
            "_view_name": "HTMLView",
            "description": "",
            "description_tooltip": null,
            "layout": "IPY_MODEL_0f77e57230c44c94809041bf66c24dd4",
            "placeholder": "​",
            "style": "IPY_MODEL_a3ed69bc22d844bab8ce4bd72d40d678",
            "value": " 29.0/29.0 [00:00&lt;00:00, 2.32kB/s]"
          }
        },
        "b2a18a2ebb6148c282b7522b5c6f8ce0": {
          "model_module": "@jupyter-widgets/base",
          "model_name": "LayoutModel",
          "model_module_version": "1.2.0",
          "state": {
            "_model_module": "@jupyter-widgets/base",
            "_model_module_version": "1.2.0",
            "_model_name": "LayoutModel",
            "_view_count": null,
            "_view_module": "@jupyter-widgets/base",
            "_view_module_version": "1.2.0",
            "_view_name": "LayoutView",
            "align_content": null,
            "align_items": null,
            "align_self": null,
            "border": null,
            "bottom": null,
            "display": null,
            "flex": null,
            "flex_flow": null,
            "grid_area": null,
            "grid_auto_columns": null,
            "grid_auto_flow": null,
            "grid_auto_rows": null,
            "grid_column": null,
            "grid_gap": null,
            "grid_row": null,
            "grid_template_areas": null,
            "grid_template_columns": null,
            "grid_template_rows": null,
            "height": null,
            "justify_content": null,
            "justify_items": null,
            "left": null,
            "margin": null,
            "max_height": null,
            "max_width": null,
            "min_height": null,
            "min_width": null,
            "object_fit": null,
            "object_position": null,
            "order": null,
            "overflow": null,
            "overflow_x": null,
            "overflow_y": null,
            "padding": null,
            "right": null,
            "top": null,
            "visibility": null,
            "width": null
          }
        },
        "ba197289881a4cc999a50ce73e7ae134": {
          "model_module": "@jupyter-widgets/base",
          "model_name": "LayoutModel",
          "model_module_version": "1.2.0",
          "state": {
            "_model_module": "@jupyter-widgets/base",
            "_model_module_version": "1.2.0",
            "_model_name": "LayoutModel",
            "_view_count": null,
            "_view_module": "@jupyter-widgets/base",
            "_view_module_version": "1.2.0",
            "_view_name": "LayoutView",
            "align_content": null,
            "align_items": null,
            "align_self": null,
            "border": null,
            "bottom": null,
            "display": null,
            "flex": null,
            "flex_flow": null,
            "grid_area": null,
            "grid_auto_columns": null,
            "grid_auto_flow": null,
            "grid_auto_rows": null,
            "grid_column": null,
            "grid_gap": null,
            "grid_row": null,
            "grid_template_areas": null,
            "grid_template_columns": null,
            "grid_template_rows": null,
            "height": null,
            "justify_content": null,
            "justify_items": null,
            "left": null,
            "margin": null,
            "max_height": null,
            "max_width": null,
            "min_height": null,
            "min_width": null,
            "object_fit": null,
            "object_position": null,
            "order": null,
            "overflow": null,
            "overflow_x": null,
            "overflow_y": null,
            "padding": null,
            "right": null,
            "top": null,
            "visibility": null,
            "width": null
          }
        },
        "9386bd50d78b4d8e90a9f1a5e367a122": {
          "model_module": "@jupyter-widgets/controls",
          "model_name": "DescriptionStyleModel",
          "model_module_version": "1.5.0",
          "state": {
            "_model_module": "@jupyter-widgets/controls",
            "_model_module_version": "1.5.0",
            "_model_name": "DescriptionStyleModel",
            "_view_count": null,
            "_view_module": "@jupyter-widgets/base",
            "_view_module_version": "1.2.0",
            "_view_name": "StyleView",
            "description_width": ""
          }
        },
        "274735ca6b5848029354ed365fd257df": {
          "model_module": "@jupyter-widgets/base",
          "model_name": "LayoutModel",
          "model_module_version": "1.2.0",
          "state": {
            "_model_module": "@jupyter-widgets/base",
            "_model_module_version": "1.2.0",
            "_model_name": "LayoutModel",
            "_view_count": null,
            "_view_module": "@jupyter-widgets/base",
            "_view_module_version": "1.2.0",
            "_view_name": "LayoutView",
            "align_content": null,
            "align_items": null,
            "align_self": null,
            "border": null,
            "bottom": null,
            "display": null,
            "flex": null,
            "flex_flow": null,
            "grid_area": null,
            "grid_auto_columns": null,
            "grid_auto_flow": null,
            "grid_auto_rows": null,
            "grid_column": null,
            "grid_gap": null,
            "grid_row": null,
            "grid_template_areas": null,
            "grid_template_columns": null,
            "grid_template_rows": null,
            "height": null,
            "justify_content": null,
            "justify_items": null,
            "left": null,
            "margin": null,
            "max_height": null,
            "max_width": null,
            "min_height": null,
            "min_width": null,
            "object_fit": null,
            "object_position": null,
            "order": null,
            "overflow": null,
            "overflow_x": null,
            "overflow_y": null,
            "padding": null,
            "right": null,
            "top": null,
            "visibility": null,
            "width": null
          }
        },
        "4227f6cec71542db94b97160046b7912": {
          "model_module": "@jupyter-widgets/controls",
          "model_name": "ProgressStyleModel",
          "model_module_version": "1.5.0",
          "state": {
            "_model_module": "@jupyter-widgets/controls",
            "_model_module_version": "1.5.0",
            "_model_name": "ProgressStyleModel",
            "_view_count": null,
            "_view_module": "@jupyter-widgets/base",
            "_view_module_version": "1.2.0",
            "_view_name": "StyleView",
            "bar_color": null,
            "description_width": ""
          }
        },
        "0f77e57230c44c94809041bf66c24dd4": {
          "model_module": "@jupyter-widgets/base",
          "model_name": "LayoutModel",
          "model_module_version": "1.2.0",
          "state": {
            "_model_module": "@jupyter-widgets/base",
            "_model_module_version": "1.2.0",
            "_model_name": "LayoutModel",
            "_view_count": null,
            "_view_module": "@jupyter-widgets/base",
            "_view_module_version": "1.2.0",
            "_view_name": "LayoutView",
            "align_content": null,
            "align_items": null,
            "align_self": null,
            "border": null,
            "bottom": null,
            "display": null,
            "flex": null,
            "flex_flow": null,
            "grid_area": null,
            "grid_auto_columns": null,
            "grid_auto_flow": null,
            "grid_auto_rows": null,
            "grid_column": null,
            "grid_gap": null,
            "grid_row": null,
            "grid_template_areas": null,
            "grid_template_columns": null,
            "grid_template_rows": null,
            "height": null,
            "justify_content": null,
            "justify_items": null,
            "left": null,
            "margin": null,
            "max_height": null,
            "max_width": null,
            "min_height": null,
            "min_width": null,
            "object_fit": null,
            "object_position": null,
            "order": null,
            "overflow": null,
            "overflow_x": null,
            "overflow_y": null,
            "padding": null,
            "right": null,
            "top": null,
            "visibility": null,
            "width": null
          }
        },
        "a3ed69bc22d844bab8ce4bd72d40d678": {
          "model_module": "@jupyter-widgets/controls",
          "model_name": "DescriptionStyleModel",
          "model_module_version": "1.5.0",
          "state": {
            "_model_module": "@jupyter-widgets/controls",
            "_model_module_version": "1.5.0",
            "_model_name": "DescriptionStyleModel",
            "_view_count": null,
            "_view_module": "@jupyter-widgets/base",
            "_view_module_version": "1.2.0",
            "_view_name": "StyleView",
            "description_width": ""
          }
        },
        "8df6aa535ef54c88871a045030def4ce": {
          "model_module": "@jupyter-widgets/controls",
          "model_name": "HBoxModel",
          "model_module_version": "1.5.0",
          "state": {
            "_dom_classes": [],
            "_model_module": "@jupyter-widgets/controls",
            "_model_module_version": "1.5.0",
            "_model_name": "HBoxModel",
            "_view_count": null,
            "_view_module": "@jupyter-widgets/controls",
            "_view_module_version": "1.5.0",
            "_view_name": "HBoxView",
            "box_style": "",
            "children": [
              "IPY_MODEL_ba83898446c74e7ab29636d7b6c082cf",
              "IPY_MODEL_bd1a053bb3424c6b8fbceee23a5a9543",
              "IPY_MODEL_fe9f575e386f4948a4d94265639aa017"
            ],
            "layout": "IPY_MODEL_0dea924f6e3644f28e3ab0bfcfa6d1c5"
          }
        },
        "ba83898446c74e7ab29636d7b6c082cf": {
          "model_module": "@jupyter-widgets/controls",
          "model_name": "HTMLModel",
          "model_module_version": "1.5.0",
          "state": {
            "_dom_classes": [],
            "_model_module": "@jupyter-widgets/controls",
            "_model_module_version": "1.5.0",
            "_model_name": "HTMLModel",
            "_view_count": null,
            "_view_module": "@jupyter-widgets/controls",
            "_view_module_version": "1.5.0",
            "_view_name": "HTMLView",
            "description": "",
            "description_tooltip": null,
            "layout": "IPY_MODEL_0f53ed7ede0f4d8e8f783584333e9ccb",
            "placeholder": "​",
            "style": "IPY_MODEL_22b60375eab34f82966655837489f68f",
            "value": "Downloading (…)solve/main/vocab.txt: 100%"
          }
        },
        "bd1a053bb3424c6b8fbceee23a5a9543": {
          "model_module": "@jupyter-widgets/controls",
          "model_name": "FloatProgressModel",
          "model_module_version": "1.5.0",
          "state": {
            "_dom_classes": [],
            "_model_module": "@jupyter-widgets/controls",
            "_model_module_version": "1.5.0",
            "_model_name": "FloatProgressModel",
            "_view_count": null,
            "_view_module": "@jupyter-widgets/controls",
            "_view_module_version": "1.5.0",
            "_view_name": "ProgressView",
            "bar_style": "success",
            "description": "",
            "description_tooltip": null,
            "layout": "IPY_MODEL_47772c920e214de995a5994f07510b30",
            "max": 213450,
            "min": 0,
            "orientation": "horizontal",
            "style": "IPY_MODEL_6c02f8c6c250401087ba57f214c57f49",
            "value": 213450
          }
        },
        "fe9f575e386f4948a4d94265639aa017": {
          "model_module": "@jupyter-widgets/controls",
          "model_name": "HTMLModel",
          "model_module_version": "1.5.0",
          "state": {
            "_dom_classes": [],
            "_model_module": "@jupyter-widgets/controls",
            "_model_module_version": "1.5.0",
            "_model_name": "HTMLModel",
            "_view_count": null,
            "_view_module": "@jupyter-widgets/controls",
            "_view_module_version": "1.5.0",
            "_view_name": "HTMLView",
            "description": "",
            "description_tooltip": null,
            "layout": "IPY_MODEL_449da851d2c14d0387450fa18fcfccb5",
            "placeholder": "​",
            "style": "IPY_MODEL_57225195f7694ac3a5221c3ec1dafe97",
            "value": " 213k/213k [00:00&lt;00:00, 2.64MB/s]"
          }
        },
        "0dea924f6e3644f28e3ab0bfcfa6d1c5": {
          "model_module": "@jupyter-widgets/base",
          "model_name": "LayoutModel",
          "model_module_version": "1.2.0",
          "state": {
            "_model_module": "@jupyter-widgets/base",
            "_model_module_version": "1.2.0",
            "_model_name": "LayoutModel",
            "_view_count": null,
            "_view_module": "@jupyter-widgets/base",
            "_view_module_version": "1.2.0",
            "_view_name": "LayoutView",
            "align_content": null,
            "align_items": null,
            "align_self": null,
            "border": null,
            "bottom": null,
            "display": null,
            "flex": null,
            "flex_flow": null,
            "grid_area": null,
            "grid_auto_columns": null,
            "grid_auto_flow": null,
            "grid_auto_rows": null,
            "grid_column": null,
            "grid_gap": null,
            "grid_row": null,
            "grid_template_areas": null,
            "grid_template_columns": null,
            "grid_template_rows": null,
            "height": null,
            "justify_content": null,
            "justify_items": null,
            "left": null,
            "margin": null,
            "max_height": null,
            "max_width": null,
            "min_height": null,
            "min_width": null,
            "object_fit": null,
            "object_position": null,
            "order": null,
            "overflow": null,
            "overflow_x": null,
            "overflow_y": null,
            "padding": null,
            "right": null,
            "top": null,
            "visibility": null,
            "width": null
          }
        },
        "0f53ed7ede0f4d8e8f783584333e9ccb": {
          "model_module": "@jupyter-widgets/base",
          "model_name": "LayoutModel",
          "model_module_version": "1.2.0",
          "state": {
            "_model_module": "@jupyter-widgets/base",
            "_model_module_version": "1.2.0",
            "_model_name": "LayoutModel",
            "_view_count": null,
            "_view_module": "@jupyter-widgets/base",
            "_view_module_version": "1.2.0",
            "_view_name": "LayoutView",
            "align_content": null,
            "align_items": null,
            "align_self": null,
            "border": null,
            "bottom": null,
            "display": null,
            "flex": null,
            "flex_flow": null,
            "grid_area": null,
            "grid_auto_columns": null,
            "grid_auto_flow": null,
            "grid_auto_rows": null,
            "grid_column": null,
            "grid_gap": null,
            "grid_row": null,
            "grid_template_areas": null,
            "grid_template_columns": null,
            "grid_template_rows": null,
            "height": null,
            "justify_content": null,
            "justify_items": null,
            "left": null,
            "margin": null,
            "max_height": null,
            "max_width": null,
            "min_height": null,
            "min_width": null,
            "object_fit": null,
            "object_position": null,
            "order": null,
            "overflow": null,
            "overflow_x": null,
            "overflow_y": null,
            "padding": null,
            "right": null,
            "top": null,
            "visibility": null,
            "width": null
          }
        },
        "22b60375eab34f82966655837489f68f": {
          "model_module": "@jupyter-widgets/controls",
          "model_name": "DescriptionStyleModel",
          "model_module_version": "1.5.0",
          "state": {
            "_model_module": "@jupyter-widgets/controls",
            "_model_module_version": "1.5.0",
            "_model_name": "DescriptionStyleModel",
            "_view_count": null,
            "_view_module": "@jupyter-widgets/base",
            "_view_module_version": "1.2.0",
            "_view_name": "StyleView",
            "description_width": ""
          }
        },
        "47772c920e214de995a5994f07510b30": {
          "model_module": "@jupyter-widgets/base",
          "model_name": "LayoutModel",
          "model_module_version": "1.2.0",
          "state": {
            "_model_module": "@jupyter-widgets/base",
            "_model_module_version": "1.2.0",
            "_model_name": "LayoutModel",
            "_view_count": null,
            "_view_module": "@jupyter-widgets/base",
            "_view_module_version": "1.2.0",
            "_view_name": "LayoutView",
            "align_content": null,
            "align_items": null,
            "align_self": null,
            "border": null,
            "bottom": null,
            "display": null,
            "flex": null,
            "flex_flow": null,
            "grid_area": null,
            "grid_auto_columns": null,
            "grid_auto_flow": null,
            "grid_auto_rows": null,
            "grid_column": null,
            "grid_gap": null,
            "grid_row": null,
            "grid_template_areas": null,
            "grid_template_columns": null,
            "grid_template_rows": null,
            "height": null,
            "justify_content": null,
            "justify_items": null,
            "left": null,
            "margin": null,
            "max_height": null,
            "max_width": null,
            "min_height": null,
            "min_width": null,
            "object_fit": null,
            "object_position": null,
            "order": null,
            "overflow": null,
            "overflow_x": null,
            "overflow_y": null,
            "padding": null,
            "right": null,
            "top": null,
            "visibility": null,
            "width": null
          }
        },
        "6c02f8c6c250401087ba57f214c57f49": {
          "model_module": "@jupyter-widgets/controls",
          "model_name": "ProgressStyleModel",
          "model_module_version": "1.5.0",
          "state": {
            "_model_module": "@jupyter-widgets/controls",
            "_model_module_version": "1.5.0",
            "_model_name": "ProgressStyleModel",
            "_view_count": null,
            "_view_module": "@jupyter-widgets/base",
            "_view_module_version": "1.2.0",
            "_view_name": "StyleView",
            "bar_color": null,
            "description_width": ""
          }
        },
        "449da851d2c14d0387450fa18fcfccb5": {
          "model_module": "@jupyter-widgets/base",
          "model_name": "LayoutModel",
          "model_module_version": "1.2.0",
          "state": {
            "_model_module": "@jupyter-widgets/base",
            "_model_module_version": "1.2.0",
            "_model_name": "LayoutModel",
            "_view_count": null,
            "_view_module": "@jupyter-widgets/base",
            "_view_module_version": "1.2.0",
            "_view_name": "LayoutView",
            "align_content": null,
            "align_items": null,
            "align_self": null,
            "border": null,
            "bottom": null,
            "display": null,
            "flex": null,
            "flex_flow": null,
            "grid_area": null,
            "grid_auto_columns": null,
            "grid_auto_flow": null,
            "grid_auto_rows": null,
            "grid_column": null,
            "grid_gap": null,
            "grid_row": null,
            "grid_template_areas": null,
            "grid_template_columns": null,
            "grid_template_rows": null,
            "height": null,
            "justify_content": null,
            "justify_items": null,
            "left": null,
            "margin": null,
            "max_height": null,
            "max_width": null,
            "min_height": null,
            "min_width": null,
            "object_fit": null,
            "object_position": null,
            "order": null,
            "overflow": null,
            "overflow_x": null,
            "overflow_y": null,
            "padding": null,
            "right": null,
            "top": null,
            "visibility": null,
            "width": null
          }
        },
        "57225195f7694ac3a5221c3ec1dafe97": {
          "model_module": "@jupyter-widgets/controls",
          "model_name": "DescriptionStyleModel",
          "model_module_version": "1.5.0",
          "state": {
            "_model_module": "@jupyter-widgets/controls",
            "_model_module_version": "1.5.0",
            "_model_name": "DescriptionStyleModel",
            "_view_count": null,
            "_view_module": "@jupyter-widgets/base",
            "_view_module_version": "1.2.0",
            "_view_name": "StyleView",
            "description_width": ""
          }
        },
        "6c5bc244e37242f9af9f008308ec862f": {
          "model_module": "@jupyter-widgets/controls",
          "model_name": "HBoxModel",
          "model_module_version": "1.5.0",
          "state": {
            "_dom_classes": [],
            "_model_module": "@jupyter-widgets/controls",
            "_model_module_version": "1.5.0",
            "_model_name": "HBoxModel",
            "_view_count": null,
            "_view_module": "@jupyter-widgets/controls",
            "_view_module_version": "1.5.0",
            "_view_name": "HBoxView",
            "box_style": "",
            "children": [
              "IPY_MODEL_89154aec6dc3448b9548303fa761ef57",
              "IPY_MODEL_a168b53fd0b54d60857f35117f6a5142",
              "IPY_MODEL_9297839d88824978b6f88b6136b77b1d"
            ],
            "layout": "IPY_MODEL_596db092c72c4afd8aba24834a41615f"
          }
        },
        "89154aec6dc3448b9548303fa761ef57": {
          "model_module": "@jupyter-widgets/controls",
          "model_name": "HTMLModel",
          "model_module_version": "1.5.0",
          "state": {
            "_dom_classes": [],
            "_model_module": "@jupyter-widgets/controls",
            "_model_module_version": "1.5.0",
            "_model_name": "HTMLModel",
            "_view_count": null,
            "_view_module": "@jupyter-widgets/controls",
            "_view_module_version": "1.5.0",
            "_view_name": "HTMLView",
            "description": "",
            "description_tooltip": null,
            "layout": "IPY_MODEL_1f86d04359bb43eab0740dcb8461c9ee",
            "placeholder": "​",
            "style": "IPY_MODEL_17b7fad3dbe14114a1c0fac9b4b24d22",
            "value": "Downloading (…)/main/tokenizer.json: 100%"
          }
        },
        "a168b53fd0b54d60857f35117f6a5142": {
          "model_module": "@jupyter-widgets/controls",
          "model_name": "FloatProgressModel",
          "model_module_version": "1.5.0",
          "state": {
            "_dom_classes": [],
            "_model_module": "@jupyter-widgets/controls",
            "_model_module_version": "1.5.0",
            "_model_name": "FloatProgressModel",
            "_view_count": null,
            "_view_module": "@jupyter-widgets/controls",
            "_view_module_version": "1.5.0",
            "_view_name": "ProgressView",
            "bar_style": "success",
            "description": "",
            "description_tooltip": null,
            "layout": "IPY_MODEL_d7b92885e9474209821e080cf9b10665",
            "max": 435797,
            "min": 0,
            "orientation": "horizontal",
            "style": "IPY_MODEL_b30ca5ac4f0741a6adfa12488619075a",
            "value": 435797
          }
        },
        "9297839d88824978b6f88b6136b77b1d": {
          "model_module": "@jupyter-widgets/controls",
          "model_name": "HTMLModel",
          "model_module_version": "1.5.0",
          "state": {
            "_dom_classes": [],
            "_model_module": "@jupyter-widgets/controls",
            "_model_module_version": "1.5.0",
            "_model_name": "HTMLModel",
            "_view_count": null,
            "_view_module": "@jupyter-widgets/controls",
            "_view_module_version": "1.5.0",
            "_view_name": "HTMLView",
            "description": "",
            "description_tooltip": null,
            "layout": "IPY_MODEL_a80204a5058e4c528818dfb9d429f83a",
            "placeholder": "​",
            "style": "IPY_MODEL_ae6d9faa59b942248aff9d334a42ae86",
            "value": " 436k/436k [00:00&lt;00:00, 4.03MB/s]"
          }
        },
        "596db092c72c4afd8aba24834a41615f": {
          "model_module": "@jupyter-widgets/base",
          "model_name": "LayoutModel",
          "model_module_version": "1.2.0",
          "state": {
            "_model_module": "@jupyter-widgets/base",
            "_model_module_version": "1.2.0",
            "_model_name": "LayoutModel",
            "_view_count": null,
            "_view_module": "@jupyter-widgets/base",
            "_view_module_version": "1.2.0",
            "_view_name": "LayoutView",
            "align_content": null,
            "align_items": null,
            "align_self": null,
            "border": null,
            "bottom": null,
            "display": null,
            "flex": null,
            "flex_flow": null,
            "grid_area": null,
            "grid_auto_columns": null,
            "grid_auto_flow": null,
            "grid_auto_rows": null,
            "grid_column": null,
            "grid_gap": null,
            "grid_row": null,
            "grid_template_areas": null,
            "grid_template_columns": null,
            "grid_template_rows": null,
            "height": null,
            "justify_content": null,
            "justify_items": null,
            "left": null,
            "margin": null,
            "max_height": null,
            "max_width": null,
            "min_height": null,
            "min_width": null,
            "object_fit": null,
            "object_position": null,
            "order": null,
            "overflow": null,
            "overflow_x": null,
            "overflow_y": null,
            "padding": null,
            "right": null,
            "top": null,
            "visibility": null,
            "width": null
          }
        },
        "1f86d04359bb43eab0740dcb8461c9ee": {
          "model_module": "@jupyter-widgets/base",
          "model_name": "LayoutModel",
          "model_module_version": "1.2.0",
          "state": {
            "_model_module": "@jupyter-widgets/base",
            "_model_module_version": "1.2.0",
            "_model_name": "LayoutModel",
            "_view_count": null,
            "_view_module": "@jupyter-widgets/base",
            "_view_module_version": "1.2.0",
            "_view_name": "LayoutView",
            "align_content": null,
            "align_items": null,
            "align_self": null,
            "border": null,
            "bottom": null,
            "display": null,
            "flex": null,
            "flex_flow": null,
            "grid_area": null,
            "grid_auto_columns": null,
            "grid_auto_flow": null,
            "grid_auto_rows": null,
            "grid_column": null,
            "grid_gap": null,
            "grid_row": null,
            "grid_template_areas": null,
            "grid_template_columns": null,
            "grid_template_rows": null,
            "height": null,
            "justify_content": null,
            "justify_items": null,
            "left": null,
            "margin": null,
            "max_height": null,
            "max_width": null,
            "min_height": null,
            "min_width": null,
            "object_fit": null,
            "object_position": null,
            "order": null,
            "overflow": null,
            "overflow_x": null,
            "overflow_y": null,
            "padding": null,
            "right": null,
            "top": null,
            "visibility": null,
            "width": null
          }
        },
        "17b7fad3dbe14114a1c0fac9b4b24d22": {
          "model_module": "@jupyter-widgets/controls",
          "model_name": "DescriptionStyleModel",
          "model_module_version": "1.5.0",
          "state": {
            "_model_module": "@jupyter-widgets/controls",
            "_model_module_version": "1.5.0",
            "_model_name": "DescriptionStyleModel",
            "_view_count": null,
            "_view_module": "@jupyter-widgets/base",
            "_view_module_version": "1.2.0",
            "_view_name": "StyleView",
            "description_width": ""
          }
        },
        "d7b92885e9474209821e080cf9b10665": {
          "model_module": "@jupyter-widgets/base",
          "model_name": "LayoutModel",
          "model_module_version": "1.2.0",
          "state": {
            "_model_module": "@jupyter-widgets/base",
            "_model_module_version": "1.2.0",
            "_model_name": "LayoutModel",
            "_view_count": null,
            "_view_module": "@jupyter-widgets/base",
            "_view_module_version": "1.2.0",
            "_view_name": "LayoutView",
            "align_content": null,
            "align_items": null,
            "align_self": null,
            "border": null,
            "bottom": null,
            "display": null,
            "flex": null,
            "flex_flow": null,
            "grid_area": null,
            "grid_auto_columns": null,
            "grid_auto_flow": null,
            "grid_auto_rows": null,
            "grid_column": null,
            "grid_gap": null,
            "grid_row": null,
            "grid_template_areas": null,
            "grid_template_columns": null,
            "grid_template_rows": null,
            "height": null,
            "justify_content": null,
            "justify_items": null,
            "left": null,
            "margin": null,
            "max_height": null,
            "max_width": null,
            "min_height": null,
            "min_width": null,
            "object_fit": null,
            "object_position": null,
            "order": null,
            "overflow": null,
            "overflow_x": null,
            "overflow_y": null,
            "padding": null,
            "right": null,
            "top": null,
            "visibility": null,
            "width": null
          }
        },
        "b30ca5ac4f0741a6adfa12488619075a": {
          "model_module": "@jupyter-widgets/controls",
          "model_name": "ProgressStyleModel",
          "model_module_version": "1.5.0",
          "state": {
            "_model_module": "@jupyter-widgets/controls",
            "_model_module_version": "1.5.0",
            "_model_name": "ProgressStyleModel",
            "_view_count": null,
            "_view_module": "@jupyter-widgets/base",
            "_view_module_version": "1.2.0",
            "_view_name": "StyleView",
            "bar_color": null,
            "description_width": ""
          }
        },
        "a80204a5058e4c528818dfb9d429f83a": {
          "model_module": "@jupyter-widgets/base",
          "model_name": "LayoutModel",
          "model_module_version": "1.2.0",
          "state": {
            "_model_module": "@jupyter-widgets/base",
            "_model_module_version": "1.2.0",
            "_model_name": "LayoutModel",
            "_view_count": null,
            "_view_module": "@jupyter-widgets/base",
            "_view_module_version": "1.2.0",
            "_view_name": "LayoutView",
            "align_content": null,
            "align_items": null,
            "align_self": null,
            "border": null,
            "bottom": null,
            "display": null,
            "flex": null,
            "flex_flow": null,
            "grid_area": null,
            "grid_auto_columns": null,
            "grid_auto_flow": null,
            "grid_auto_rows": null,
            "grid_column": null,
            "grid_gap": null,
            "grid_row": null,
            "grid_template_areas": null,
            "grid_template_columns": null,
            "grid_template_rows": null,
            "height": null,
            "justify_content": null,
            "justify_items": null,
            "left": null,
            "margin": null,
            "max_height": null,
            "max_width": null,
            "min_height": null,
            "min_width": null,
            "object_fit": null,
            "object_position": null,
            "order": null,
            "overflow": null,
            "overflow_x": null,
            "overflow_y": null,
            "padding": null,
            "right": null,
            "top": null,
            "visibility": null,
            "width": null
          }
        },
        "ae6d9faa59b942248aff9d334a42ae86": {
          "model_module": "@jupyter-widgets/controls",
          "model_name": "DescriptionStyleModel",
          "model_module_version": "1.5.0",
          "state": {
            "_model_module": "@jupyter-widgets/controls",
            "_model_module_version": "1.5.0",
            "_model_name": "DescriptionStyleModel",
            "_view_count": null,
            "_view_module": "@jupyter-widgets/base",
            "_view_module_version": "1.2.0",
            "_view_name": "StyleView",
            "description_width": ""
          }
        },
        "8309dd00a5674436b0e7e4d9379854b6": {
          "model_module": "@jupyter-widgets/controls",
          "model_name": "HBoxModel",
          "model_module_version": "1.5.0",
          "state": {
            "_dom_classes": [],
            "_model_module": "@jupyter-widgets/controls",
            "_model_module_version": "1.5.0",
            "_model_name": "HBoxModel",
            "_view_count": null,
            "_view_module": "@jupyter-widgets/controls",
            "_view_module_version": "1.5.0",
            "_view_name": "HBoxView",
            "box_style": "",
            "children": [
              "IPY_MODEL_4bbbed48752a411ead4490dd766a35fb",
              "IPY_MODEL_da449af0fa76421e99923443ae37c2bd",
              "IPY_MODEL_d0a19e3bfc494119ba42daad9ab81d04"
            ],
            "layout": "IPY_MODEL_9069cb935414460986d0db9a2047ca2f"
          }
        },
        "4bbbed48752a411ead4490dd766a35fb": {
          "model_module": "@jupyter-widgets/controls",
          "model_name": "HTMLModel",
          "model_module_version": "1.5.0",
          "state": {
            "_dom_classes": [],
            "_model_module": "@jupyter-widgets/controls",
            "_model_module_version": "1.5.0",
            "_model_name": "HTMLModel",
            "_view_count": null,
            "_view_module": "@jupyter-widgets/controls",
            "_view_module_version": "1.5.0",
            "_view_name": "HTMLView",
            "description": "",
            "description_tooltip": null,
            "layout": "IPY_MODEL_50b9c008a0574ad1bfb7897b57b930b4",
            "placeholder": "​",
            "style": "IPY_MODEL_3e8eac3cd89c429e802c1f0e30f8684c",
            "value": "  0%"
          }
        },
        "da449af0fa76421e99923443ae37c2bd": {
          "model_module": "@jupyter-widgets/controls",
          "model_name": "FloatProgressModel",
          "model_module_version": "1.5.0",
          "state": {
            "_dom_classes": [],
            "_model_module": "@jupyter-widgets/controls",
            "_model_module_version": "1.5.0",
            "_model_name": "FloatProgressModel",
            "_view_count": null,
            "_view_module": "@jupyter-widgets/controls",
            "_view_module_version": "1.5.0",
            "_view_name": "ProgressView",
            "bar_style": "",
            "description": "",
            "description_tooltip": null,
            "layout": "IPY_MODEL_3f66cd5025e345fd9da9043b3a336141",
            "max": 1616,
            "min": 0,
            "orientation": "horizontal",
            "style": "IPY_MODEL_4ed91fdf6dd547868ed6ff73e561ee89",
            "value": 0
          }
        },
        "d0a19e3bfc494119ba42daad9ab81d04": {
          "model_module": "@jupyter-widgets/controls",
          "model_name": "HTMLModel",
          "model_module_version": "1.5.0",
          "state": {
            "_dom_classes": [],
            "_model_module": "@jupyter-widgets/controls",
            "_model_module_version": "1.5.0",
            "_model_name": "HTMLModel",
            "_view_count": null,
            "_view_module": "@jupyter-widgets/controls",
            "_view_module_version": "1.5.0",
            "_view_name": "HTMLView",
            "description": "",
            "description_tooltip": null,
            "layout": "IPY_MODEL_8c90256ee6504e86aeb28d51ec734a5c",
            "placeholder": "​",
            "style": "IPY_MODEL_d090b10578e44e2cbc22a2935d25ee93",
            "value": " 0/1616 [00:00&lt;?, ?it/s]"
          }
        },
        "9069cb935414460986d0db9a2047ca2f": {
          "model_module": "@jupyter-widgets/base",
          "model_name": "LayoutModel",
          "model_module_version": "1.2.0",
          "state": {
            "_model_module": "@jupyter-widgets/base",
            "_model_module_version": "1.2.0",
            "_model_name": "LayoutModel",
            "_view_count": null,
            "_view_module": "@jupyter-widgets/base",
            "_view_module_version": "1.2.0",
            "_view_name": "LayoutView",
            "align_content": null,
            "align_items": null,
            "align_self": null,
            "border": null,
            "bottom": null,
            "display": null,
            "flex": null,
            "flex_flow": null,
            "grid_area": null,
            "grid_auto_columns": null,
            "grid_auto_flow": null,
            "grid_auto_rows": null,
            "grid_column": null,
            "grid_gap": null,
            "grid_row": null,
            "grid_template_areas": null,
            "grid_template_columns": null,
            "grid_template_rows": null,
            "height": null,
            "justify_content": null,
            "justify_items": null,
            "left": null,
            "margin": null,
            "max_height": null,
            "max_width": null,
            "min_height": null,
            "min_width": null,
            "object_fit": null,
            "object_position": null,
            "order": null,
            "overflow": null,
            "overflow_x": null,
            "overflow_y": null,
            "padding": null,
            "right": null,
            "top": null,
            "visibility": null,
            "width": null
          }
        },
        "50b9c008a0574ad1bfb7897b57b930b4": {
          "model_module": "@jupyter-widgets/base",
          "model_name": "LayoutModel",
          "model_module_version": "1.2.0",
          "state": {
            "_model_module": "@jupyter-widgets/base",
            "_model_module_version": "1.2.0",
            "_model_name": "LayoutModel",
            "_view_count": null,
            "_view_module": "@jupyter-widgets/base",
            "_view_module_version": "1.2.0",
            "_view_name": "LayoutView",
            "align_content": null,
            "align_items": null,
            "align_self": null,
            "border": null,
            "bottom": null,
            "display": null,
            "flex": null,
            "flex_flow": null,
            "grid_area": null,
            "grid_auto_columns": null,
            "grid_auto_flow": null,
            "grid_auto_rows": null,
            "grid_column": null,
            "grid_gap": null,
            "grid_row": null,
            "grid_template_areas": null,
            "grid_template_columns": null,
            "grid_template_rows": null,
            "height": null,
            "justify_content": null,
            "justify_items": null,
            "left": null,
            "margin": null,
            "max_height": null,
            "max_width": null,
            "min_height": null,
            "min_width": null,
            "object_fit": null,
            "object_position": null,
            "order": null,
            "overflow": null,
            "overflow_x": null,
            "overflow_y": null,
            "padding": null,
            "right": null,
            "top": null,
            "visibility": null,
            "width": null
          }
        },
        "3e8eac3cd89c429e802c1f0e30f8684c": {
          "model_module": "@jupyter-widgets/controls",
          "model_name": "DescriptionStyleModel",
          "model_module_version": "1.5.0",
          "state": {
            "_model_module": "@jupyter-widgets/controls",
            "_model_module_version": "1.5.0",
            "_model_name": "DescriptionStyleModel",
            "_view_count": null,
            "_view_module": "@jupyter-widgets/base",
            "_view_module_version": "1.2.0",
            "_view_name": "StyleView",
            "description_width": ""
          }
        },
        "3f66cd5025e345fd9da9043b3a336141": {
          "model_module": "@jupyter-widgets/base",
          "model_name": "LayoutModel",
          "model_module_version": "1.2.0",
          "state": {
            "_model_module": "@jupyter-widgets/base",
            "_model_module_version": "1.2.0",
            "_model_name": "LayoutModel",
            "_view_count": null,
            "_view_module": "@jupyter-widgets/base",
            "_view_module_version": "1.2.0",
            "_view_name": "LayoutView",
            "align_content": null,
            "align_items": null,
            "align_self": null,
            "border": null,
            "bottom": null,
            "display": null,
            "flex": null,
            "flex_flow": null,
            "grid_area": null,
            "grid_auto_columns": null,
            "grid_auto_flow": null,
            "grid_auto_rows": null,
            "grid_column": null,
            "grid_gap": null,
            "grid_row": null,
            "grid_template_areas": null,
            "grid_template_columns": null,
            "grid_template_rows": null,
            "height": null,
            "justify_content": null,
            "justify_items": null,
            "left": null,
            "margin": null,
            "max_height": null,
            "max_width": null,
            "min_height": null,
            "min_width": null,
            "object_fit": null,
            "object_position": null,
            "order": null,
            "overflow": null,
            "overflow_x": null,
            "overflow_y": null,
            "padding": null,
            "right": null,
            "top": null,
            "visibility": null,
            "width": null
          }
        },
        "4ed91fdf6dd547868ed6ff73e561ee89": {
          "model_module": "@jupyter-widgets/controls",
          "model_name": "ProgressStyleModel",
          "model_module_version": "1.5.0",
          "state": {
            "_model_module": "@jupyter-widgets/controls",
            "_model_module_version": "1.5.0",
            "_model_name": "ProgressStyleModel",
            "_view_count": null,
            "_view_module": "@jupyter-widgets/base",
            "_view_module_version": "1.2.0",
            "_view_name": "StyleView",
            "bar_color": null,
            "description_width": ""
          }
        },
        "8c90256ee6504e86aeb28d51ec734a5c": {
          "model_module": "@jupyter-widgets/base",
          "model_name": "LayoutModel",
          "model_module_version": "1.2.0",
          "state": {
            "_model_module": "@jupyter-widgets/base",
            "_model_module_version": "1.2.0",
            "_model_name": "LayoutModel",
            "_view_count": null,
            "_view_module": "@jupyter-widgets/base",
            "_view_module_version": "1.2.0",
            "_view_name": "LayoutView",
            "align_content": null,
            "align_items": null,
            "align_self": null,
            "border": null,
            "bottom": null,
            "display": null,
            "flex": null,
            "flex_flow": null,
            "grid_area": null,
            "grid_auto_columns": null,
            "grid_auto_flow": null,
            "grid_auto_rows": null,
            "grid_column": null,
            "grid_gap": null,
            "grid_row": null,
            "grid_template_areas": null,
            "grid_template_columns": null,
            "grid_template_rows": null,
            "height": null,
            "justify_content": null,
            "justify_items": null,
            "left": null,
            "margin": null,
            "max_height": null,
            "max_width": null,
            "min_height": null,
            "min_width": null,
            "object_fit": null,
            "object_position": null,
            "order": null,
            "overflow": null,
            "overflow_x": null,
            "overflow_y": null,
            "padding": null,
            "right": null,
            "top": null,
            "visibility": null,
            "width": null
          }
        },
        "d090b10578e44e2cbc22a2935d25ee93": {
          "model_module": "@jupyter-widgets/controls",
          "model_name": "DescriptionStyleModel",
          "model_module_version": "1.5.0",
          "state": {
            "_model_module": "@jupyter-widgets/controls",
            "_model_module_version": "1.5.0",
            "_model_name": "DescriptionStyleModel",
            "_view_count": null,
            "_view_module": "@jupyter-widgets/base",
            "_view_module_version": "1.2.0",
            "_view_name": "StyleView",
            "description_width": ""
          }
        }
      }
    }
  },
  "cells": [
    {
      "cell_type": "markdown",
      "metadata": {
        "id": "J3rgAVjsqLvr"
      },
      "source": [
        "<div align=\"center\">\n",
        "\n",
        "![image.png](data:image/png;base64,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)\n",
        "</div>"
      ]
    },
    {
      "cell_type": "markdown",
      "metadata": {
        "id": "Wnj1beviqoHB"
      },
      "source": [
        "# Section I - Vector Semantics & Embeddings\n",
        "\n",
        "---\n",
        "\n"
      ]
    },
    {
      "cell_type": "markdown",
      "metadata": {
        "id": "94PBLWhInkbQ"
      },
      "source": [
        "<div align=\"center\">\n",
        "\n",
        "![image.png](data:image/png;base64,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)\n",
        "</div>"
      ]
    },
    {
      "cell_type": "markdown",
      "metadata": {
        "id": "deqn_3zzlDeS"
      },
      "source": [
        "[Slides](https://docs.google.com/presentation/d/16SfV2bCQh7keNzolJRxurpn4awApOziA/edit?usp=sharing&ouid=111982612023568071558&rtpof=true&sd=true) and Notebook created by Javier de la Rosa, with contributions from [Guillermo Marco Remón](https://colab.research.google.com/drive/11AfL39t5yAmqsqCL-O5bADI4UQQACBWL#scrollTo=BbA0s8_4ID8N)."
      ]
    },
    {
      "cell_type": "markdown",
      "metadata": {
        "id": "2rzQfHq-FjZR"
      },
      "source": [
        "## Setup\n",
        "\n",
        "Install and load necessary libraries ."
      ]
    },
    {
      "cell_type": "code",
      "metadata": {
        "id": "BSzjYqPSEs1_",
        "cellView": "both"
      },
      "source": [
        "%%capture\n",
        "!pip install -Uqq spacy \n",
        "!pip install -qq pandas scikit-learn datasets\n",
        "!pip install -qq \"simpletransformers==0.63.11\" \"transformers==4.28.1\"\n",
        "!pip install -qq gensim fasttext\n",
        "!python -m spacy download en_core_web_md"
      ],
      "execution_count": null,
      "outputs": []
    },
    {
      "cell_type": "code",
      "metadata": {
        "id": "XzhphACOFoOc",
        "colab": {
          "base_uri": "https://localhost:8080/"
        },
        "outputId": "581ab31e-22b9-4b45-c2c9-39d65197cc1f"
      },
      "source": [
        "%%capture --no-stderr\n",
        "import os\n",
        "import sys\n",
        "!pip install matplotlib nltk numpy tqdm\n",
        "!python -m nltk.downloader all\n",
        "print(\"Done!\", file=sys.stderr)"
      ],
      "execution_count": null,
      "outputs": [
        {
          "output_type": "stream",
          "name": "stderr",
          "text": [
            "Done!\n"
          ]
        }
      ]
    },
    {
      "cell_type": "code",
      "metadata": {
        "id": "BbA0s8_4ID8N",
        "colab": {
          "base_uri": "https://localhost:8080/"
        },
        "outputId": "bcbf9860-0aa3-4235-9304-93168ed49566"
      },
      "source": [
        "import os\n",
        "import datetime\n",
        "import pickle\n",
        "\n",
        "import datasets\n",
        "import fasttext\n",
        "import gensim\n",
        "import nltk\n",
        "import numpy as np\n",
        "import pandas as pd\n",
        "import spacy\n",
        "import transformers\n",
        "from tqdm import tqdm\n",
        "\n",
        "\n",
        "lang_model = \"en_core_web_md\"\n",
        "nlp = spacy.load(lang_model)\n",
        "nlp.max_length = 2_000_000\n",
        "print(\"spacy:\", spacy.__version__, f\"({lang_model})\")\n",
        "print(\"pandas:\", pd.__version__)\n",
        "print(\"transformers:\", transformers.__version__)\n",
        "START = datetime.datetime.now()\n",
        "print(START)"
      ],
      "execution_count": null,
      "outputs": [
        {
          "output_type": "stream",
          "name": "stdout",
          "text": [
            "spacy: 3.5.2 (en_core_web_md)\n",
            "pandas: 1.5.3\n",
            "transformers: 4.28.1\n",
            "2023-05-10 09:12:21.822038\n"
          ]
        }
      ]
    },
    {
      "cell_type": "code",
      "source": [
        "#@title Downloading all necessary files (this will take ~15mins)\n",
        "import locale\n",
        "def getpreferredencoding(do_setlocale = True):\n",
        "    return \"UTF-8\"\n",
        "locale.getpreferredencoding = getpreferredencoding\n",
        "\n",
        "filename = 'wiki.so.vec'\n",
        "if not os.path.isfile(filename):\n",
        "    print(f\"Downloading {filename}\")\n",
        "    !curl --progress-bar -Lo $filename https://dl.fbaipublicfiles.com/fasttext/vectors-wiki/$filename\n",
        "# This might take a while\n",
        "filename = 'wiki.simple.zip'\n",
        "if (not os.path.isfile(filename)\n",
        "        and not os.path.isfile(filename.replace('.zip', '.vec'))\n",
        "        and not os.path.isfile(filename.replace('.zip', '.bin'))):\n",
        "    print(f\"Downloading {filename}\")\n",
        "    !curl --progress-bar -Lo $filename https://dl.fbaipublicfiles.com/fasttext/vectors-wiki/$filename\n",
        "if (os.path.isfile(filename)\n",
        "        and (not os.path.isfile(filename.replace('.zip', '.vec'))\n",
        "                 or not os.path.isfile(filename.replace('.zip', '.bin')))):\n",
        "    !unzip $filename\n",
        "\n",
        "# Downloading and preparing the pre-trained embeddings\n",
        "import gensim.downloader as pretrained\n",
        "\n",
        "pretrained.load('fasttext-wiki-news-subwords-300', return_path=True)\n",
        "pretrained.load('word2vec-google-news-300', return_path=True)  # return_path avoids to load the model in memory\n",
        "\n",
        "for filename, dirname in (('eng-fiction-all_sgns.zip', 'fiction'),\n",
        "                          ('coha-word_sgns.zip', 'coha')):\n",
        "    if (not os.path.isfile(filename)\n",
        "            and not os.path.isdir(dirname)):\n",
        "        print(f'Downloading {filename}')\n",
        "        !curl --progress-bar -Lo $filename http://snap.stanford.edu/historical_embeddings/$filename\n",
        "    if (os.path.isfile(filename)\n",
        "            and not os.path.isdir(dirname)):\n",
        "        print(f'Uncompressing {filename}')\n",
        "        !unzip -q -o $filename -d $dirname\n",
        "\n",
        "for corpus, years in (('fiction', (1900, 1950)),  # range(1800, 1991, 10)\n",
        "                      ('coha', (1900, 1950))):  # range(1810, 2001, 10)\n",
        "    for year in tqdm(list(years), desc=f'Generating vector files - {corpus}'):\n",
        "        if os.path.isfile(f'{corpus}/{year}.vec'):\n",
        "            continue\n",
        "        with open(f'{corpus}/{year}.vec', 'w', encoding=\"utf8\") as vector_file:\n",
        "            vectors = np.load(open(f'{corpus}/sgns/{year}-w.npy', 'rb'))\n",
        "            words = pickle.load(open(f'{corpus}/sgns/{year}-vocab.pkl', 'rb'))\n",
        "            vector_file.write(\"{} {}\".format(*vectors.shape))\n",
        "            for index, word in enumerate(words):\n",
        "                vector = np.array2string(vectors[index],\n",
        "                                         formatter={'float_kind':'{0:.9f}'.format})[1:-1]\n",
        "                vector = vector.replace('\\n', '')\n",
        "                vector_file.write(f'\\n{word} {vector}')"
      ],
      "metadata": {
        "colab": {
          "base_uri": "https://localhost:8080/"
        },
        "cellView": "form",
        "id": "zxWC0fIzH5Op",
        "outputId": "f76fb564-f697-4863-92dc-0bb49ee751da"
      },
      "execution_count": null,
      "outputs": [
        {
          "output_type": "stream",
          "name": "stdout",
          "text": [
            "Downloading wiki.so.vec\n",
            "######################################################################## 100.0%\n",
            "Downloading wiki.simple.zip\n",
            "######################################################################## 100.0%\n",
            "Archive:  wiki.simple.zip\n",
            "  inflating: wiki.simple.vec         \n",
            "  inflating: wiki.simple.bin         \n",
            "[==================================================] 100.0% 958.5/958.4MB downloaded\n",
            "[==================================================] 100.0% 1662.8/1662.8MB downloaded\n",
            "Downloading eng-fiction-all_sgns.zip\n",
            "######################################################################## 100.0%\n",
            "Uncompressing eng-fiction-all_sgns.zip\n",
            "Downloading coha-word_sgns.zip\n",
            "######################################################################## 100.0%\n",
            "Uncompressing coha-word_sgns.zip\n"
          ]
        },
        {
          "output_type": "stream",
          "name": "stderr",
          "text": [
            "Generating vector files - fiction: 100%|██████████| 2/2 [01:45<00:00, 52.94s/it]\n",
            "Generating vector files - coha: 100%|██████████| 2/2 [00:53<00:00, 26.67s/it]\n"
          ]
        }
      ]
    },
    {
      "cell_type": "markdown",
      "metadata": {
        "id": "_NY-Rob4_fkG"
      },
      "source": [
        "## Word Embeddings or Word Vectors"
      ]
    },
    {
      "cell_type": "markdown",
      "metadata": {
        "id": "to-W5hvrI7ba"
      },
      "source": [
        "\n",
        "\n",
        "### What is a word vector?\n",
        "A word vector is a numerical representation of a word in a corpus based on its co-occurrence with other words. It is based on the distributional hypothesis, which originates from the semantic theory of linguistic use, and argues that words that are used and appear in the same contexts tend to convey similar meanings, that is to say \"you shall know a word by the company it keeps\", as defined by Firth in 1957."
      ]
    },
    {
      "cell_type": "markdown",
      "metadata": {
        "id": "EcEiZUOwXgZ0"
      },
      "source": [
        "### But, what is a vector?\n",
        "A vector is nothing more than a list or an array of real numbers. The length of a vector indicates how many numbers it contains. In Python, vectors can be defined using square brackets `[]`, although formally, lists in Python can contain different types of data simultaneously.\n"
      ]
    },
    {
      "cell_type": "code",
      "metadata": {
        "id": "vliETzZZamgv"
      },
      "source": [
        "vector_one = [1, 2, 3]\n",
        "vector_two = [1, 2, 34.53222222]\n",
        "vector_three = [-2494, 3, 48.2934, -0.49484]"
      ],
      "execution_count": null,
      "outputs": []
    },
    {
      "cell_type": "code",
      "metadata": {
        "id": "7fS_XvEY3IEB",
        "colab": {
          "base_uri": "https://localhost:8080/"
        },
        "outputId": "72f109c3-2d0f-481d-99b1-c4c7d19b604c"
      },
      "source": [
        "vector_one + vector_two"
      ],
      "execution_count": null,
      "outputs": [
        {
          "output_type": "execute_result",
          "data": {
            "text/plain": [
              "[1, 2, 3, 1, 2, 34.53222222]"
            ]
          },
          "metadata": {},
          "execution_count": 8
        }
      ]
    },
    {
      "cell_type": "code",
      "metadata": {
        "id": "LzKQBFAi3RMZ",
        "colab": {
          "base_uri": "https://localhost:8080/"
        },
        "outputId": "19b8d3cc-cbe9-4fbc-86f2-e210f5860e44"
      },
      "source": [
        "np.array([1, 2, 3]) + np.array([1, 2, 3])"
      ],
      "execution_count": null,
      "outputs": [
        {
          "output_type": "execute_result",
          "data": {
            "text/plain": [
              "array([2, 4, 6])"
            ]
          },
          "metadata": {},
          "execution_count": 9
        }
      ]
    },
    {
      "cell_type": "markdown",
      "metadata": {
        "id": "lGKcQ6AXhMqf"
      },
      "source": [
        "Although it may seem convenient, performing vector operations using only lists is not easily achievable. NumPy provides a numerical engine with suitable and fast implementations for vector and matrix operations (vectors of vectors).\n",
        "\n",
        "For example, NumPy allows generating a vector of floating-point numbers using the `randn()` function. Each time it is executed, a different vector is obtained.\n"
      ]
    },
    {
      "cell_type": "code",
      "metadata": {
        "id": "AWEb48BShP4c",
        "colab": {
          "base_uri": "https://localhost:8080/"
        },
        "outputId": "510372fb-78ba-41f2-88f5-8a38c26d5f62"
      },
      "source": [
        "random_vector = np.random.randn(5)\n",
        "random_vector"
      ],
      "execution_count": null,
      "outputs": [
        {
          "output_type": "execute_result",
          "data": {
            "text/plain": [
              "array([-0.01984349,  1.14786729, -1.69092991, -0.21268444, -0.45151004])"
            ]
          },
          "metadata": {},
          "execution_count": 10
        }
      ]
    },
    {
      "cell_type": "markdown",
      "metadata": {
        "id": "p_JSCbypad1p"
      },
      "source": [
        "NumPy provides a numerical engine with appropriate and fast implementations for operations on vectors and matrices (vectors of vectors).\n"
      ]
    },
    {
      "cell_type": "code",
      "metadata": {
        "id": "J3YCPkOWaxTG",
        "colab": {
          "base_uri": "https://localhost:8080/"
        },
        "outputId": "0ee22e6b-f0a7-437e-c97b-d673abd802de"
      },
      "source": [
        "# vector of 10 integers between 0 and 9\n",
        "np.random.randint(0, 10, size=10)"
      ],
      "execution_count": null,
      "outputs": [
        {
          "output_type": "execute_result",
          "data": {
            "text/plain": [
              "array([0, 0, 2, 7, 6, 0, 6, 4, 1, 1])"
            ]
          },
          "metadata": {},
          "execution_count": 11
        }
      ]
    },
    {
      "cell_type": "code",
      "metadata": {
        "id": "KN2UpLN0bCnv",
        "colab": {
          "base_uri": "https://localhost:8080/"
        },
        "outputId": "9cd96adf-9cfa-4db4-8aa7-a00e1567e8b0"
      },
      "source": [
        "# dot product of 2 vectors\n",
        "np.random.randint(0, 10, size=10) @ np.random.randint(0, 10, size=10)"
      ],
      "execution_count": null,
      "outputs": [
        {
          "output_type": "execute_result",
          "data": {
            "text/plain": [
              "161"
            ]
          },
          "metadata": {},
          "execution_count": 12
        }
      ]
    },
    {
      "cell_type": "code",
      "metadata": {
        "id": "KAGkjm1FbbdR",
        "colab": {
          "base_uri": "https://localhost:8080/"
        },
        "outputId": "6109002f-2506-4d37-fb1d-6bb872b5b1e2"
      },
      "source": [
        "# vector product\n",
        "np.random.randint(0, 10, size=10) * np.random.randint(0, 10, size=10)"
      ],
      "execution_count": null,
      "outputs": [
        {
          "output_type": "execute_result",
          "data": {
            "text/plain": [
              "array([10, 32,  8, 27,  0, 54, 42, 18, 63, 16])"
            ]
          },
          "metadata": {},
          "execution_count": 13
        }
      ]
    },
    {
      "cell_type": "markdown",
      "metadata": {
        "id": "qczTd0vnq6gX"
      },
      "source": [
        "### Calculating word vectors"
      ]
    },
    {
      "cell_type": "markdown",
      "metadata": {
        "id": "mvl5gs2Fap4E"
      },
      "source": [
        "Word vectors (and vectors in general) are classified as sparse (when they have many `0`s) or dense (when almost all values are non-zero). For vectors representing co-occurrences or frequencies, it is quite common for many words not to appear together or for many words to occur in only a few documents. As a result, these vectors tend to have many `0`s.\n"
      ]
    },
    {
      "cell_type": "markdown",
      "metadata": {
        "id": "xT1almrUgMzs"
      },
      "source": [
        "Let's see how we can build these vectors, from the most basic ones based on counting to more complex structures that encode part of the semantics of a word. Of the many existing packages to assist in the construction of matrices for a corpus, `scikit-learn` is one of the most widely used and a common component in the Python scientific stack. So let's import `CountVectorizer()` from `scikit-learn`."
      ]
    },
    {
      "cell_type": "code",
      "metadata": {
        "id": "OepDUnq3g2to"
      },
      "source": [
        "from sklearn.feature_extraction.text import CountVectorizer"
      ],
      "execution_count": null,
      "outputs": []
    },
    {
      "cell_type": "code",
      "metadata": {
        "id": "UGohsH5Dg4ND"
      },
      "source": [
        "# Let's imagine that we have a document with a single sentence\n",
        "documents = [\n",
        "    \"This is a piece of text. This is also some random text. Also text.\",\n",
        "]"
      ],
      "execution_count": null,
      "outputs": []
    },
    {
      "cell_type": "markdown",
      "metadata": {
        "id": "ngO0ddSuhCQU"
      },
      "source": [
        "Now let's transform the document so that each word is assigned a unique identifier."
      ]
    },
    {
      "cell_type": "code",
      "metadata": {
        "id": "JCIq7nQvhFaW",
        "colab": {
          "base_uri": "https://localhost:8080/"
        },
        "outputId": "9ffd2dd2-1434-494f-a5bc-1a891fcd9271"
      },
      "source": [
        "example_vectorizer = CountVectorizer()\n",
        "example_vectorizer.fit(documents)\n",
        "print(\"Vocabulary size:\", len(example_vectorizer.vocabulary_))\n",
        "example_vectorizer.vocabulary_"
      ],
      "execution_count": null,
      "outputs": [
        {
          "output_type": "stream",
          "name": "stdout",
          "text": [
            "Vocabulary size: 8\n"
          ]
        },
        {
          "output_type": "execute_result",
          "data": {
            "text/plain": [
              "{'this': 7,\n",
              " 'is': 1,\n",
              " 'piece': 3,\n",
              " 'of': 2,\n",
              " 'text': 6,\n",
              " 'also': 0,\n",
              " 'some': 5,\n",
              " 'random': 4}"
            ]
          },
          "metadata": {},
          "execution_count": 16
        }
      ]
    },
    {
      "cell_type": "markdown",
      "metadata": {
        "id": "GcuBe6GVhiAK"
      },
      "source": [
        "In addition, we add the corresponding value of the absolute frequency, that is, the total number of times that each word appears in the document."
      ]
    },
    {
      "cell_type": "code",
      "metadata": {
        "id": "j04T1t8nhi29",
        "colab": {
          "base_uri": "https://localhost:8080/"
        },
        "outputId": "ae5fa440-8b43-4ef5-8991-762cc1749d85"
      },
      "source": [
        "counts = example_vectorizer.transform(documents)\n",
        "print(counts)\n",
        "print(\"   ↑  ↑         ↑\\n  doc word_id freq\")"
      ],
      "execution_count": null,
      "outputs": [
        {
          "output_type": "stream",
          "name": "stdout",
          "text": [
            "  (0, 0)\t2\n",
            "  (0, 1)\t2\n",
            "  (0, 2)\t1\n",
            "  (0, 3)\t1\n",
            "  (0, 4)\t1\n",
            "  (0, 5)\t1\n",
            "  (0, 6)\t3\n",
            "  (0, 7)\t2\n",
            "   ↑  ↑         ↑\n",
            "  doc word_id freq\n"
          ]
        }
      ]
    },
    {
      "cell_type": "markdown",
      "metadata": {
        "id": "PPvuWdzBhv0Z"
      },
      "source": [
        "Now we can go through all the words that appear in our original document and print all the frequencies that we have generated above."
      ]
    },
    {
      "cell_type": "code",
      "metadata": {
        "id": "2o8feQxShw3F",
        "colab": {
          "base_uri": "https://localhost:8080/"
        },
        "outputId": "02b18408-1f2d-4e69-fe14-aa91ca5d35e2"
      },
      "source": [
        "doc = 0  # first document only\n",
        "for word, word_id in example_vectorizer.vocabulary_.items():\n",
        "    print(word, \":\", counts[doc, word_id])"
      ],
      "execution_count": null,
      "outputs": [
        {
          "output_type": "stream",
          "name": "stdout",
          "text": [
            "this : 2\n",
            "is : 2\n",
            "piece : 1\n",
            "of : 1\n",
            "text : 3\n",
            "also : 2\n",
            "some : 1\n",
            "random : 1\n"
          ]
        }
      ]
    },
    {
      "cell_type": "markdown",
      "metadata": {
        "id": "rZ2mG9KfrFBX"
      },
      "source": [
        "### Doc-term matrix"
      ]
    },
    {
      "cell_type": "markdown",
      "metadata": {
        "id": "5euaz2KOiY0n"
      },
      "source": [
        "A **document-term matrix** is nothing more than a relatively large table that describes the frequency of words or terms that appear in a collection of documents.\n",
        "In a document-term matrix, **rows correspond to the documents** in the collection or corpus, and **columns to the terms**.\n",
        "\n",
        "\n",
        "In our case, since we only have a single document, our document-term array would only have one file (document `0`).\n",
        "\n",
        "| | also | is | of | piece | random | some | text | this |\n",
        "| ------------ |:----:|:--:|:--:|:-----:|:------:|:----:|:----:|:----:|\n",
        "| Document #0 | 2 | 2 | 1 | 1 | 1 | 1 | 3 | 2 |\n",
        "\n",
        "As we have seen, it corresponds directly to the output of the `transform()` method of our `CountVectorizer()`."
      ]
    },
    {
      "cell_type": "code",
      "metadata": {
        "id": "QHafHmgqjnr2",
        "colab": {
          "base_uri": "https://localhost:8080/"
        },
        "outputId": "ae52d574-827f-4eae-f741-d41cf2a230c0"
      },
      "source": [
        "counts = example_vectorizer.transform(documents)\n",
        "counts.toarray()"
      ],
      "execution_count": null,
      "outputs": [
        {
          "output_type": "execute_result",
          "data": {
            "text/plain": [
              "array([[2, 2, 1, 1, 1, 1, 3, 2]])"
            ]
          },
          "metadata": {},
          "execution_count": 19
        }
      ]
    },
    {
      "cell_type": "markdown",
      "metadata": {
        "id": "6kTqmCnVjvlO"
      },
      "source": [
        "Each element of the array represents a term from the above vocabulary, using the indices that `scikit-learn` has randomly assigned, eg the seventh element (sixth, since it starts with 0) is the word `text`.\n",
        "\n",
        "Let's now add a new document that is almost identical but introduces a new word to our vocabulary, just to see how this change affects the matrix."
      ]
    },
    {
      "cell_type": "code",
      "metadata": {
        "id": "eQ9N2Z1Vkfgg",
        "colab": {
          "base_uri": "https://localhost:8080/"
        },
        "outputId": "f7233203-bfb9-42b9-fc69-aa02a3700485"
      },
      "source": [
        "documents = [\n",
        "    \"This is a piece of text. This is also some random text. Also text.\",\n",
        "    \"This is a piece of text. This is also some random text. Also new text.\",\n",
        "]\n",
        "example_vectorizer.fit(documents)\n",
        "print(\"Vocabulary size:\", len(example_vectorizer.vocabulary_))\n",
        "example_vectorizer.vocabulary_"
      ],
      "execution_count": null,
      "outputs": [
        {
          "output_type": "stream",
          "name": "stdout",
          "text": [
            "Vocabulary size: 9\n"
          ]
        },
        {
          "output_type": "execute_result",
          "data": {
            "text/plain": [
              "{'this': 8,\n",
              " 'is': 1,\n",
              " 'piece': 4,\n",
              " 'of': 3,\n",
              " 'text': 7,\n",
              " 'also': 0,\n",
              " 'some': 6,\n",
              " 'random': 5,\n",
              " 'new': 2}"
            ]
          },
          "metadata": {},
          "execution_count": 20
        }
      ]
    },
    {
      "cell_type": "code",
      "metadata": {
        "id": "vzXuW-YYkklw",
        "colab": {
          "base_uri": "https://localhost:8080/"
        },
        "outputId": "6d36514b-23d0-4f35-e0d5-896910870183"
      },
      "source": [
        "counts = example_vectorizer.transform(documents)\n",
        "print(counts)\n",
        "print(\"   ↑  ↑         ↑\\n  doc word_id freq\")"
      ],
      "execution_count": null,
      "outputs": [
        {
          "output_type": "stream",
          "name": "stdout",
          "text": [
            "  (0, 0)\t2\n",
            "  (0, 1)\t2\n",
            "  (0, 3)\t1\n",
            "  (0, 4)\t1\n",
            "  (0, 5)\t1\n",
            "  (0, 6)\t1\n",
            "  (0, 7)\t3\n",
            "  (0, 8)\t2\n",
            "  (1, 0)\t2\n",
            "  (1, 1)\t2\n",
            "  (1, 2)\t1\n",
            "  (1, 3)\t1\n",
            "  (1, 4)\t1\n",
            "  (1, 5)\t1\n",
            "  (1, 6)\t1\n",
            "  (1, 7)\t3\n",
            "  (1, 8)\t2\n",
            "   ↑  ↑         ↑\n",
            "  doc word_id freq\n"
          ]
        }
      ]
    },
    {
      "cell_type": "code",
      "metadata": {
        "id": "bf1E31XXkoGp",
        "colab": {
          "base_uri": "https://localhost:8080/"
        },
        "outputId": "9862f4b6-a9bd-441f-a086-ab3fc01746ec"
      },
      "source": [
        "counts = example_vectorizer.transform(documents)\n",
        "counts.toarray()"
      ],
      "execution_count": null,
      "outputs": [
        {
          "output_type": "execute_result",
          "data": {
            "text/plain": [
              "array([[2, 2, 0, 1, 1, 1, 1, 3, 2],\n",
              "       [2, 2, 1, 1, 1, 1, 1, 3, 2]])"
            ]
          },
          "metadata": {},
          "execution_count": 22
        }
      ]
    },
    {
      "cell_type": "markdown",
      "metadata": {
        "id": "Whh9fZ8OokWB"
      },
      "source": [
        "Now, with two documents, our matrix would look something like this.\n",
        "\n",
        "| | also | is | new | of | piece | random | some | text | this |\n",
        "| ------------ |:----:|:--:|:---:|:--:|:-----:|:------:|:----:|:----:|:----:|\n",
        "| Document #0 | 2 | 2 | 0 | 1 | 1 | 1 | 1 | 3 | 2 |\n",
        "| Document #1 | 2 | 2 | 1 | 1 | 1 | 1 | 1 | 3 | 2 |"
      ]
    },
    {
      "cell_type": "markdown",
      "metadata": {
        "id": "SrjLC_XDonZu"
      },
      "source": [
        "In addition to the fact that the size of the vocabulary is now larger, just by looking at the document-term matrix we can easily identify that one of our documents has one more word than the other. Indeed, we can see the difference in column 3 (2 since it's indexed at 0), which corresponds to the newly introduced word, `new`, in our vocabulary. There is also a new row for the additional document (document `1`). And this is just one example, imagine with a corpus of thousands of documents and hundreds of thousands of words!"
      ]
    },
    {
      "cell_type": "markdown",
      "metadata": {
        "id": "6o2RKGToopD9"
      },
      "source": [
        "By now, you may have noticed that one-letter words are being ignored. This is due to the way `CountVectorizer()` splits sentences into words. `CountVectorizer()` has options to customize this behavior and allows you to specify your own regular expression to extract words, ignore stopwords (*stopwords*), count n-grams instead of words, limit the maximum number of words to count, normalize spelling, or counting terms in a frequency range. The rich [documentation](http://scikit-learn.org/stable/modules/generated/sklearn.feature_extraction.text.CountVectorizer.html) is worth exploring."
      ]
    },
    {
      "cell_type": "code",
      "metadata": {
        "id": "s6FOWzfXqi96",
        "colab": {
          "base_uri": "https://localhost:8080/"
        },
        "outputId": "589864fe-c9bf-41f5-ce7a-f97edb6c7806"
      },
      "source": [
        "new_regex = r\"(?u)\\b\\w+\\b\"  # regular expression so single letter words are not ignored\n",
        "CountVectorizer(token_pattern=new_regex).fit(documents).vocabulary_"
      ],
      "execution_count": null,
      "outputs": [
        {
          "output_type": "execute_result",
          "data": {
            "text/plain": [
              "{'this': 9,\n",
              " 'is': 2,\n",
              " 'a': 0,\n",
              " 'piece': 5,\n",
              " 'of': 4,\n",
              " 'text': 8,\n",
              " 'also': 1,\n",
              " 'some': 7,\n",
              " 'random': 6,\n",
              " 'new': 3}"
            ]
          },
          "metadata": {},
          "execution_count": 23
        }
      ]
    },
    {
      "cell_type": "markdown",
      "metadata": {
        "id": "1d7O3ngoudtD"
      },
      "source": [
        "For the following example we will use the novels Moby Dick, Emma, and Alice in Wonderland as the example texts of our corpus, taking advantage of the fact that they are already digitized in NLTK."
      ]
    },
    {
      "cell_type": "code",
      "metadata": {
        "id": "Y2idgSH_ub4k"
      },
      "source": [
        "from nltk.corpus import gutenberg"
      ],
      "execution_count": null,
      "outputs": []
    },
    {
      "cell_type": "code",
      "metadata": {
        "id": "0GiNU20duv8p",
        "colab": {
          "base_uri": "https://localhost:8080/"
        },
        "outputId": "9f8ad3b2-8e4e-4932-9bf7-bde7269b3e6e"
      },
      "source": [
        "gutenberg.fileids()"
      ],
      "execution_count": null,
      "outputs": [
        {
          "output_type": "execute_result",
          "data": {
            "text/plain": [
              "['austen-emma.txt',\n",
              " 'austen-persuasion.txt',\n",
              " 'austen-sense.txt',\n",
              " 'bible-kjv.txt',\n",
              " 'blake-poems.txt',\n",
              " 'bryant-stories.txt',\n",
              " 'burgess-busterbrown.txt',\n",
              " 'carroll-alice.txt',\n",
              " 'chesterton-ball.txt',\n",
              " 'chesterton-brown.txt',\n",
              " 'chesterton-thursday.txt',\n",
              " 'edgeworth-parents.txt',\n",
              " 'melville-moby_dick.txt',\n",
              " 'milton-paradise.txt',\n",
              " 'shakespeare-caesar.txt',\n",
              " 'shakespeare-hamlet.txt',\n",
              " 'shakespeare-macbeth.txt',\n",
              " 'whitman-leaves.txt']"
            ]
          },
          "metadata": {},
          "execution_count": 25
        }
      ]
    },
    {
      "cell_type": "code",
      "metadata": {
        "id": "q_cSWuinu4PH"
      },
      "source": [
        "mobydick = gutenberg.raw('melville-moby_dick.txt')\n",
        "emma = gutenberg.raw('austen-emma.txt')\n",
        "alice = gutenberg.raw('carroll-alice.txt')"
      ],
      "execution_count": null,
      "outputs": []
    },
    {
      "cell_type": "markdown",
      "metadata": {
        "id": "u7--L7w1u6CA"
      },
      "source": [
        "Number of tokens in Moby Dick."
      ]
    },
    {
      "cell_type": "code",
      "metadata": {
        "id": "4gA16ElNuyac",
        "colab": {
          "base_uri": "https://localhost:8080/"
        },
        "outputId": "6a629bd6-42bd-414b-cc8a-820d532e8078"
      },
      "source": [
        "len(mobydick.split())"
      ],
      "execution_count": null,
      "outputs": [
        {
          "output_type": "execute_result",
          "data": {
            "text/plain": [
              "212030"
            ]
          },
          "metadata": {},
          "execution_count": 27
        }
      ]
    },
    {
      "cell_type": "code",
      "metadata": {
        "id": "y5EJf7w_uRqV",
        "colab": {
          "base_uri": "https://localhost:8080/"
        },
        "outputId": "4beea315-843e-4560-b919-5685afc8c73d"
      },
      "source": [
        "print(emma[:200], \"...\")"
      ],
      "execution_count": null,
      "outputs": [
        {
          "output_type": "stream",
          "name": "stdout",
          "text": [
            "[Emma by Jane Austen 1816]\n",
            "\n",
            "VOLUME I\n",
            "\n",
            "CHAPTER I\n",
            "\n",
            "\n",
            "Emma Woodhouse, handsome, clever, and rich, with a comfortable home\n",
            "and happy disposition, seemed to unite some of the best blessings\n",
            "of existence; an ...\n"
          ]
        }
      ]
    },
    {
      "cell_type": "markdown",
      "metadata": {
        "id": "sK6kLwDSvdWE"
      },
      "source": [
        "We define our corpus as the list of the texts of the three novels."
      ]
    },
    {
      "cell_type": "code",
      "metadata": {
        "id": "QlspDCsovSi1"
      },
      "source": [
        "corpus = [mobydick, emma, alice]"
      ],
      "execution_count": null,
      "outputs": []
    },
    {
      "cell_type": "markdown",
      "metadata": {
        "id": "quOUDxy9vXfI"
      },
      "source": [
        "We create our `CountVectorizer()`"
      ]
    },
    {
      "cell_type": "code",
      "metadata": {
        "id": "PLV62wfxvUMc",
        "colab": {
          "base_uri": "https://localhost:8080/"
        },
        "outputId": "73c3f5f9-c06a-48ca-ab44-04cf6c7ca0ce"
      },
      "source": [
        "lit_vectorizer = CountVectorizer(token_pattern=new_regex)\n",
        "lit_vectorizer.fit(corpus)\n",
        "print(\"Vocabulary size:\", len(lit_vectorizer.vocabulary_))\n",
        "\n",
        "list(lit_vectorizer.vocabulary_.items())[:10]"
      ],
      "execution_count": null,
      "outputs": [
        {
          "output_type": "stream",
          "name": "stdout",
          "text": [
            "Vocabulary size: 19918\n"
          ]
        },
        {
          "output_type": "execute_result",
          "data": {
            "text/plain": [
              "[('moby', 11293),\n",
              " ('dick', 5069),\n",
              " ('by', 2661),\n",
              " ('herman', 8441),\n",
              " ('melville', 11046),\n",
              " ('1851', 83),\n",
              " ('etymology', 6264),\n",
              " ('supplied', 17060),\n",
              " ('a', 364),\n",
              " ('late', 10165)]"
            ]
          },
          "metadata": {},
          "execution_count": 30
        }
      ]
    },
    {
      "cell_type": "code",
      "metadata": {
        "id": "ArRvbQAsux0S",
        "colab": {
          "base_uri": "https://localhost:8080/"
        },
        "outputId": "712a8af8-4230-46f2-8660-4ebf29a51abb"
      },
      "source": [
        "print(\"The word id for 'piece' is\", str(lit_vectorizer.vocabulary_.get('piece')))"
      ],
      "execution_count": null,
      "outputs": [
        {
          "output_type": "stream",
          "name": "stdout",
          "text": [
            "The word id for 'piece' is 12886\n"
          ]
        }
      ]
    },
    {
      "cell_type": "markdown",
      "metadata": {
        "id": "n6fwfsvkuxjr"
      },
      "source": [
        "Let's see how the doc-term matrix looks"
      ]
    },
    {
      "cell_type": "code",
      "metadata": {
        "id": "xZUgaWIXwZVp",
        "colab": {
          "base_uri": "https://localhost:8080/"
        },
        "outputId": "76b7dfcf-dfe4-4dc6-bd52-23cb90f3c3d0"
      },
      "source": [
        "X = lit_vectorizer.fit_transform(corpus)\n",
        "X"
      ],
      "execution_count": null,
      "outputs": [
        {
          "output_type": "execute_result",
          "data": {
            "text/plain": [
              "<3x19918 sparse matrix of type '<class 'numpy.int64'>'\n",
              "\twith 26967 stored elements in Compressed Sparse Row format>"
            ]
          },
          "metadata": {},
          "execution_count": 32
        }
      ]
    },
    {
      "cell_type": "code",
      "metadata": {
        "id": "HC5SdKedxI1B",
        "colab": {
          "base_uri": "https://localhost:8080/"
        },
        "outputId": "3d9fe92f-9742-4b42-884c-99572091d3b7"
      },
      "source": [
        "X = X.toarray()\n",
        "X"
      ],
      "execution_count": null,
      "outputs": [
        {
          "output_type": "execute_result",
          "data": {
            "text/plain": [
              "array([[20,  2,  4, ...,  3,  2,  1],\n",
              "       [ 2,  0,  2, ...,  0,  0,  0],\n",
              "       [ 0,  0,  0, ...,  0,  0,  0]])"
            ]
          },
          "metadata": {},
          "execution_count": 33
        }
      ]
    },
    {
      "cell_type": "code",
      "metadata": {
        "id": "ZAJgzM92xVF3",
        "colab": {
          "base_uri": "https://localhost:8080/",
          "height": 35
        },
        "outputId": "f00fd82e-22d3-44b0-a4ab-e7270abf3c1c"
      },
      "source": [
        "\"{} documents with a vocabulary of {} words\".format(*X.shape)"
      ],
      "execution_count": null,
      "outputs": [
        {
          "output_type": "execute_result",
          "data": {
            "text/plain": [
              "'3 documents with a vocabulary of 19918 words'"
            ],
            "application/vnd.google.colaboratory.intrinsic+json": {
              "type": "string"
            }
          },
          "metadata": {},
          "execution_count": 34
        }
      ]
    },
    {
      "cell_type": "code",
      "metadata": {
        "id": "BDB5rG7Kw76Z",
        "colab": {
          "base_uri": "https://localhost:8080/",
          "height": 35
        },
        "outputId": "7193617f-0c1b-4366-a4db-8189cae94599"
      },
      "source": [
        "f\"{np.prod(X.shape)} elements in our matrix\""
      ],
      "execution_count": null,
      "outputs": [
        {
          "output_type": "execute_result",
          "data": {
            "text/plain": [
              "'59754 elements in our matrix'"
            ],
            "application/vnd.google.colaboratory.intrinsic+json": {
              "type": "string"
            }
          },
          "metadata": {},
          "execution_count": 35
        }
      ]
    },
    {
      "cell_type": "code",
      "metadata": {
        "id": "uwpJ8gRAw3z4",
        "colab": {
          "base_uri": "https://localhost:8080/",
          "height": 35
        },
        "outputId": "b4e4522c-5cf3-46ce-ddc2-ddf832bde942"
      },
      "source": [
        "f\"Out of which, {np.count_nonzero(X==0)} are zeros\""
      ],
      "execution_count": null,
      "outputs": [
        {
          "output_type": "execute_result",
          "data": {
            "text/plain": [
              "'Out of which, 32787 are zeros'"
            ],
            "application/vnd.google.colaboratory.intrinsic+json": {
              "type": "string"
            }
          },
          "metadata": {},
          "execution_count": 36
        }
      ]
    },
    {
      "cell_type": "code",
      "metadata": {
        "id": "EBJpSf5qx31L",
        "colab": {
          "base_uri": "https://localhost:8080/"
        },
        "outputId": "efcd934d-984c-446c-984c-c8c3b4c74dc7"
      },
      "source": [
        "# Vocabulary example words\n",
        "lit_vectorizer.get_feature_names_out()[1000:1010]"
      ],
      "execution_count": null,
      "outputs": [
        {
          "output_type": "execute_result",
          "data": {
            "text/plain": [
              "array(['animate', 'animated', 'animating', 'animation', 'animosity',\n",
              "       'ankers', 'ankles', 'ann', 'anna', 'annals'], dtype=object)"
            ]
          },
          "metadata": {},
          "execution_count": 37
        }
      ]
    },
    {
      "cell_type": "markdown",
      "metadata": {
        "id": "od9cQypiyMCS"
      },
      "source": [
        "Get the identifiers of some words."
      ]
    },
    {
      "cell_type": "code",
      "metadata": {
        "id": "M8IWErInyQx-",
        "colab": {
          "base_uri": "https://localhost:8080/"
        },
        "outputId": "9f358a2a-b3aa-4605-abca-313394e080fb"
      },
      "source": [
        "print(lit_vectorizer.vocabulary_.get('happy'))\n",
        "print(lit_vectorizer.vocabulary_.get('sad'))\n",
        "print(lit_vectorizer.vocabulary_.get('angry'))\n",
        "print(lit_vectorizer.vocabulary_.get('queer'))\n",
        "print(lit_vectorizer.vocabulary_.get('handkerchief'))"
      ],
      "execution_count": null,
      "outputs": [
        {
          "output_type": "stream",
          "name": "stdout",
          "text": [
            "8172\n",
            "14929\n",
            "994\n",
            "13872\n",
            "8139\n"
          ]
        }
      ]
    },
    {
      "cell_type": "markdown",
      "metadata": {
        "id": "-JCdq1Nwy1BZ"
      },
      "source": [
        "And let's use them to see how many times they appear in the corpus, that is, what their **vectors** are."
      ]
    },
    {
      "cell_type": "code",
      "metadata": {
        "id": "p27nHx_6yW9Y",
        "colab": {
          "base_uri": "https://localhost:8080/"
        },
        "outputId": "663b14e1-f512-4027-8e9a-823d27e7954c"
      },
      "source": [
        "X[:,8172], X[:,14929], X[:,994], X[:,13872], X[:,8139]"
      ],
      "execution_count": null,
      "outputs": [
        {
          "output_type": "execute_result",
          "data": {
            "text/plain": [
              "(array([  8, 125,   1]),\n",
              " array([ 9, 25,  3]),\n",
              " array([ 1, 19,  5]),\n",
              " array([44,  0, 12]),\n",
              " array([5, 0, 0]))"
            ]
          },
          "metadata": {},
          "execution_count": 39
        }
      ]
    },
    {
      "cell_type": "code",
      "metadata": {
        "id": "bPLp_SPYzl8F"
      },
      "source": [
        "%matplotlib inline\n",
        "from matplotlib import pyplot as plt"
      ],
      "execution_count": null,
      "outputs": []
    },
    {
      "cell_type": "code",
      "metadata": {
        "id": "8NDtdePQzK-R",
        "colab": {
          "base_uri": "https://localhost:8080/",
          "height": 564
        },
        "outputId": "2f019951-5d1b-482f-a695-35d6c7666e95"
      },
      "source": [
        "freq_of_queer = X[:,lit_vectorizer.vocabulary_.get('queer')]\n",
        "x = np.arange(len(freq_of_queer))\n",
        "plt.figure(figsize=(10, 6))\n",
        "plt.bar(x, freq_of_queer, color=\"pink\")\n",
        "plt.xticks(x, ('Moby Dick', 'Emma', 'Alice in Wonderland'))\n",
        "plt.xlabel('Work')\n",
        "plt.ylabel('Frequency')\n",
        "plt.title('Frequency of word \"queer\" in the corpus');"
      ],
      "execution_count": null,
      "outputs": [
        {
          "output_type": "display_data",
          "data": {
            "text/plain": [
              "<Figure size 1000x600 with 1 Axes>"
            ],
            "image/png": "[encoded data removed]"
          },
          "metadata": {}
        }
      ]
    },
    {
      "cell_type": "markdown",
      "metadata": {
        "id": "774DpqAmqPOD"
      },
      "source": [
        "### Word-word or term-term matrix\n",
        "\n",
        "We have seen how words are represented based on their relationships in a corpus of documents. But what about the relationship between them? The most intuitive way to do this comparison is to build a word-word matrix in which the two dimensions are the vocabulary of the corpus and each element represents the co-occurrence of two vocabulary terms in an arbitrary window. This window indicates the number of words before and after the given word that we use to count co-occurrences. As a general rule, this window usually has a size between 4 and 10."
      ]
    },
    {
      "cell_type": "code",
      "metadata": {
        "id": "lBGJCxuQ4jZT"
      },
      "source": [
        "from scipy import sparse\n",
        "\n",
        "def ww_matrix(corpus, tokenizer, window_size):\n",
        "    vocabulary = {}\n",
        "    data = []\n",
        "    row = []\n",
        "    col = []\n",
        "    for sentence in corpus:\n",
        "        sentence=sentence.strip()\n",
        "        tokens=[token for token in tokenizer(sentence) if token != u\"\"]\n",
        "        for pos,token in enumerate(tokens):\n",
        "            i = vocabulary.setdefault(token,len(vocabulary))\n",
        "            start = max(0, pos - window_size)\n",
        "            end = min(len(tokens), pos + window_size + 1)\n",
        "            for pos2 in range(start, end):\n",
        "                if pos2 == pos: \n",
        "                    continue\n",
        "                j = vocabulary.setdefault(tokens[pos2], len(vocabulary))\n",
        "                data.append(1.); row.append(i); col.append(j);\n",
        "    cooccurrence_matrix = sparse.coo_matrix((data, (row, col)))\n",
        "    return vocabulary, cooccurrence_matrix"
      ],
      "execution_count": null,
      "outputs": []
    },
    {
      "cell_type": "code",
      "metadata": {
        "id": "AtIqf2s6L7hC"
      },
      "source": [
        "from nltk.tokenize import word_tokenize"
      ],
      "execution_count": null,
      "outputs": []
    },
    {
      "cell_type": "code",
      "metadata": {
        "id": "HnE7HcHo-PH7"
      },
      "source": [
        "a = ['I love Programming. I love Math. I tolerate Biology.']"
      ],
      "execution_count": null,
      "outputs": []
    },
    {
      "cell_type": "markdown",
      "metadata": {
        "id": "q9_hdfAb9CSF"
      },
      "source": [
        "In this case, the word \"love\" is defined by the words \"I\" and \"Programming\", its neighbors 1 word away, which means that we must increment the value of the co-occurrences (\"I\", \"love\") and (\"love\", \"Pogramming\"). We repeat the process for each window and obtain the co-occurrence matrix."
      ]
    },
    {
      "cell_type": "code",
      "metadata": {
        "id": "LX7I05RGL7hE",
        "colab": {
          "base_uri": "https://localhost:8080/"
        },
        "outputId": "f3a06972-b50b-45d8-a65f-093af8660bf3"
      },
      "source": [
        "v, m = ww_matrix(a, word_tokenize, 1)\n",
        "m.toarray(), v"
      ],
      "execution_count": null,
      "outputs": [
        {
          "output_type": "execute_result",
          "data": {
            "text/plain": [
              "(array([[0., 2., 0., 2., 0., 1., 0.],\n",
              "        [2., 0., 1., 0., 1., 0., 0.],\n",
              "        [0., 1., 0., 1., 0., 0., 0.],\n",
              "        [2., 0., 1., 0., 1., 0., 1.],\n",
              "        [0., 1., 0., 1., 0., 0., 0.],\n",
              "        [1., 0., 0., 0., 0., 0., 1.],\n",
              "        [0., 0., 0., 1., 0., 1., 0.]]),\n",
              " {'I': 0,\n",
              "  'love': 1,\n",
              "  'Programming': 2,\n",
              "  '.': 3,\n",
              "  'Math': 4,\n",
              "  'tolerate': 5,\n",
              "  'Biology': 6})"
            ]
          },
          "metadata": {},
          "execution_count": 45
        }
      ]
    },
    {
      "cell_type": "code",
      "metadata": {
        "id": "RwjX_eBUuA_N",
        "colab": {
          "base_uri": "https://localhost:8080/",
          "height": 269
        },
        "outputId": "ec6fdc5a-2887-40b9-bb41-e255b963c3fa"
      },
      "source": [
        "columns = [x[0] for x in sorted(v.items(), key=lambda x: x[1])]\n",
        "pd.DataFrame(m.toarray(), index=columns, columns=columns).astype(int)"
      ],
      "execution_count": null,
      "outputs": [
        {
          "output_type": "execute_result",
          "data": {
            "text/plain": [
              "             I  love  Programming  .  Math  tolerate  Biology\n",
              "I            0     2            0  2     0         1        0\n",
              "love         2     0            1  0     1         0        0\n",
              "Programming  0     1            0  1     0         0        0\n",
              ".            2     0            1  0     1         0        1\n",
              "Math         0     1            0  1     0         0        0\n",
              "tolerate     1     0            0  0     0         0        1\n",
              "Biology      0     0            0  1     0         1        0"
            ],
            "text/html": [
              "\n",
              "  <div id=\"df-b05cac2d-72ee-4aab-917f-9be089e32c2e\">\n",
              "    <div class=\"colab-df-container\">\n",
              "      <div>\n",
              "<style scoped>\n",
              "    .dataframe tbody tr th:only-of-type {\n",
              "        vertical-align: middle;\n",
              "    }\n",
              "\n",
              "    .dataframe tbody tr th {\n",
              "        vertical-align: top;\n",
              "    }\n",
              "\n",
              "    .dataframe thead th {\n",
              "        text-align: right;\n",
              "    }\n",
              "</style>\n",
              "<table border=\"1\" class=\"dataframe\">\n",
              "  <thead>\n",
              "    <tr style=\"text-align: right;\">\n",
              "      <th></th>\n",
              "      <th>I</th>\n",
              "      <th>love</th>\n",
              "      <th>Programming</th>\n",
              "      <th>.</th>\n",
              "      <th>Math</th>\n",
              "      <th>tolerate</th>\n",
              "      <th>Biology</th>\n",
              "    </tr>\n",
              "  </thead>\n",
              "  <tbody>\n",
              "    <tr>\n",
              "      <th>I</th>\n",
              "      <td>0</td>\n",
              "      <td>2</td>\n",
              "      <td>0</td>\n",
              "      <td>2</td>\n",
              "      <td>0</td>\n",
              "      <td>1</td>\n",
              "      <td>0</td>\n",
              "    </tr>\n",
              "    <tr>\n",
              "      <th>love</th>\n",
              "      <td>2</td>\n",
              "      <td>0</td>\n",
              "      <td>1</td>\n",
              "      <td>0</td>\n",
              "      <td>1</td>\n",
              "      <td>0</td>\n",
              "      <td>0</td>\n",
              "    </tr>\n",
              "    <tr>\n",
              "      <th>Programming</th>\n",
              "      <td>0</td>\n",
              "      <td>1</td>\n",
              "      <td>0</td>\n",
              "      <td>1</td>\n",
              "      <td>0</td>\n",
              "      <td>0</td>\n",
              "      <td>0</td>\n",
              "    </tr>\n",
              "    <tr>\n",
              "      <th>.</th>\n",
              "      <td>2</td>\n",
              "      <td>0</td>\n",
              "      <td>1</td>\n",
              "      <td>0</td>\n",
              "      <td>1</td>\n",
              "      <td>0</td>\n",
              "      <td>1</td>\n",
              "    </tr>\n",
              "    <tr>\n",
              "      <th>Math</th>\n",
              "      <td>0</td>\n",
              "      <td>1</td>\n",
              "      <td>0</td>\n",
              "      <td>1</td>\n",
              "      <td>0</td>\n",
              "      <td>0</td>\n",
              "      <td>0</td>\n",
              "    </tr>\n",
              "    <tr>\n",
              "      <th>tolerate</th>\n",
              "      <td>1</td>\n",
              "      <td>0</td>\n",
              "      <td>0</td>\n",
              "      <td>0</td>\n",
              "      <td>0</td>\n",
              "      <td>0</td>\n",
              "      <td>1</td>\n",
              "    </tr>\n",
              "    <tr>\n",
              "      <th>Biology</th>\n",
              "      <td>0</td>\n",
              "      <td>0</td>\n",
              "      <td>0</td>\n",
              "      <td>1</td>\n",
              "      <td>0</td>\n",
              "      <td>1</td>\n",
              "      <td>0</td>\n",
              "    </tr>\n",
              "  </tbody>\n",
              "</table>\n",
              "</div>\n",
              "      <button class=\"colab-df-convert\" onclick=\"convertToInteractive('df-b05cac2d-72ee-4aab-917f-9be089e32c2e')\"\n",
              "              title=\"Convert this dataframe to an interactive table.\"\n",
              "              style=\"display:none;\">\n",
              "        \n",
              "  <svg xmlns=\"http://www.w3.org/2000/svg\" height=\"24px\"viewBox=\"0 0 24 24\"\n",
              "       width=\"24px\">\n",
              "    <path d=\"M0 0h24v24H0V0z\" fill=\"none\"/>\n",
              "    <path d=\"M18.56 5.44l.94 2.06.94-2.06 2.06-.94-2.06-.94-.94-2.06-.94 2.06-2.06.94zm-11 1L8.5 8.5l.94-2.06 2.06-.94-2.06-.94L8.5 2.5l-.94 2.06-2.06.94zm10 10l.94 2.06.94-2.06 2.06-.94-2.06-.94-.94-2.06-.94 2.06-2.06.94z\"/><path d=\"M17.41 7.96l-1.37-1.37c-.4-.4-.92-.59-1.43-.59-.52 0-1.04.2-1.43.59L10.3 9.45l-7.72 7.72c-.78.78-.78 2.05 0 2.83L4 21.41c.39.39.9.59 1.41.59.51 0 1.02-.2 1.41-.59l7.78-7.78 2.81-2.81c.8-.78.8-2.07 0-2.86zM5.41 20L4 18.59l7.72-7.72 1.47 1.35L5.41 20z\"/>\n",
              "  </svg>\n",
              "      </button>\n",
              "      \n",
              "  <style>\n",
              "    .colab-df-container {\n",
              "      display:flex;\n",
              "      flex-wrap:wrap;\n",
              "      gap: 12px;\n",
              "    }\n",
              "\n",
              "    .colab-df-convert {\n",
              "      background-color: #E8F0FE;\n",
              "      border: none;\n",
              "      border-radius: 50%;\n",
              "      cursor: pointer;\n",
              "      display: none;\n",
              "      fill: #1967D2;\n",
              "      height: 32px;\n",
              "      padding: 0 0 0 0;\n",
              "      width: 32px;\n",
              "    }\n",
              "\n",
              "    .colab-df-convert:hover {\n",
              "      background-color: #E2EBFA;\n",
              "      box-shadow: 0px 1px 2px rgba(60, 64, 67, 0.3), 0px 1px 3px 1px rgba(60, 64, 67, 0.15);\n",
              "      fill: #174EA6;\n",
              "    }\n",
              "\n",
              "    [theme=dark] .colab-df-convert {\n",
              "      background-color: #3B4455;\n",
              "      fill: #D2E3FC;\n",
              "    }\n",
              "\n",
              "    [theme=dark] .colab-df-convert:hover {\n",
              "      background-color: #434B5C;\n",
              "      box-shadow: 0px 1px 3px 1px rgba(0, 0, 0, 0.15);\n",
              "      filter: drop-shadow(0px 1px 2px rgba(0, 0, 0, 0.3));\n",
              "      fill: #FFFFFF;\n",
              "    }\n",
              "  </style>\n",
              "\n",
              "      <script>\n",
              "        const buttonEl =\n",
              "          document.querySelector('#df-b05cac2d-72ee-4aab-917f-9be089e32c2e button.colab-df-convert');\n",
              "        buttonEl.style.display =\n",
              "          google.colab.kernel.accessAllowed ? 'block' : 'none';\n",
              "\n",
              "        async function convertToInteractive(key) {\n",
              "          const element = document.querySelector('#df-b05cac2d-72ee-4aab-917f-9be089e32c2e');\n",
              "          const dataTable =\n",
              "            await google.colab.kernel.invokeFunction('convertToInteractive',\n",
              "                                                     [key], {});\n",
              "          if (!dataTable) return;\n",
              "\n",
              "          const docLinkHtml = 'Like what you see? Visit the ' +\n",
              "            '<a target=\"_blank\" href=https://colab.research.google.com/notebooks/data_table.ipynb>data table notebook</a>'\n",
              "            + ' to learn more about interactive tables.';\n",
              "          element.innerHTML = '';\n",
              "          dataTable['output_type'] = 'display_data';\n",
              "          await google.colab.output.renderOutput(dataTable, element);\n",
              "          const docLink = document.createElement('div');\n",
              "          docLink.innerHTML = docLinkHtml;\n",
              "          element.appendChild(docLink);\n",
              "        }\n",
              "      </script>\n",
              "    </div>\n",
              "  </div>\n",
              "  "
            ]
          },
          "metadata": {},
          "execution_count": 46
        }
      ]
    },
    {
      "cell_type": "markdown",
      "metadata": {
        "id": "EvqwafRo9BCt"
      },
      "source": [
        "Once we have the word-word matrix filled in, we can represent the result in a multi-dimensional space. Since both \"Programming\" and \"Math\" **have the same co-occurrence values, they will be located in the same place**; which means that in this context they **mean the same thing**, or almost the same thing. The syntactic and semantic relations generated by this technique are really powerful, but computationally very expensive to produce since we are dealing with dimensional spaces with a large number of dimensions. Therefore, we need some technique to reduce dimensionality."
      ]
    },
    {
      "cell_type": "code",
      "metadata": {
        "id": "nKStRqvaL7hI",
        "colab": {
          "base_uri": "https://localhost:8080/"
        },
        "outputId": "ffe19073-1f90-428f-b723-cb6ed84b290b"
      },
      "source": [
        "# Let's see Moby Dick\n",
        "mobydick = gutenberg.raw('melville-moby_dick.txt')\n",
        "v, m = ww_matrix([mobydick], word_tokenize, 4) \n",
        "X = m.toarray()\n",
        "X"
      ],
      "execution_count": null,
      "outputs": [
        {
          "output_type": "execute_result",
          "data": {
            "text/plain": [
              "array([[ 0.,  1.,  1., ...,  0.,  0.,  0.],\n",
              "       [ 1.,  2., 84., ...,  0.,  0.,  0.],\n",
              "       [ 1., 84.,  4., ...,  0.,  0.,  0.],\n",
              "       ...,\n",
              "       [ 0.,  0.,  0., ...,  0.,  0.,  0.],\n",
              "       [ 0.,  0.,  0., ...,  0.,  0.,  0.],\n",
              "       [ 0.,  0.,  0., ...,  0.,  0.,  0.]])"
            ]
          },
          "metadata": {},
          "execution_count": 47
        }
      ]
    },
    {
      "cell_type": "code",
      "metadata": {
        "id": "54YYFlBFL7hL",
        "colab": {
          "base_uri": "https://localhost:8080/"
        },
        "outputId": "d69c3da8-548d-42cd-ad35-692acc3ac43f"
      },
      "source": [
        "X = m.toarray()\n",
        "X.shape"
      ],
      "execution_count": null,
      "outputs": [
        {
          "output_type": "execute_result",
          "data": {
            "text/plain": [
              "(20742, 20742)"
            ]
          },
          "metadata": {},
          "execution_count": 48
        }
      ]
    },
    {
      "cell_type": "code",
      "metadata": {
        "id": "Xs8sDqeqL7hO"
      },
      "source": [
        "# Let's get the vectors for 'happy','sad','angry'\n",
        "happy_i = v['happy']\n",
        "sad_i = v['sad']\n",
        "angry_i = v['angry']"
      ],
      "execution_count": null,
      "outputs": []
    },
    {
      "cell_type": "code",
      "metadata": {
        "id": "K0kxZfmEL7hQ",
        "colab": {
          "base_uri": "https://localhost:8080/"
        },
        "outputId": "39cbd8fa-29a1-4a36-b73f-a9e8c96a2a77"
      },
      "source": [
        "happy_ww = X[happy_i,:]\n",
        "sad_ww = X[sad_i,:]\n",
        "angry_ww = X[angry_i,:]\n",
        "# np.set_printoptions(threshold=np.inf)\n",
        "happy_ww"
      ],
      "execution_count": null,
      "outputs": [
        {
          "output_type": "execute_result",
          "data": {
            "text/plain": [
              "array([0., 0., 0., ..., 0., 0., 0.])"
            ]
          },
          "metadata": {},
          "execution_count": 50
        }
      ]
    },
    {
      "cell_type": "code",
      "metadata": {
        "id": "VfUGsJd2_XDW",
        "colab": {
          "base_uri": "https://localhost:8080/"
        },
        "outputId": "e523a652-cfdf-4969-d88d-3c4b2ef83164"
      },
      "source": [
        "X[happy_i, sad_i]"
      ],
      "execution_count": null,
      "outputs": [
        {
          "output_type": "execute_result",
          "data": {
            "text/plain": [
              "0.0"
            ]
          },
          "metadata": {},
          "execution_count": 51
        }
      ]
    },
    {
      "cell_type": "markdown",
      "source": [
        "How many times do \"dark\" and \"night\" co-occur with a window of 4?"
      ],
      "metadata": {
        "id": "S0tNNWYjh88D"
      }
    },
    {
      "cell_type": "code",
      "metadata": {
        "id": "43uViZQqL7hT",
        "colab": {
          "base_uri": "https://localhost:8080/"
        },
        "outputId": "17b13e51-0937-4b9e-c202-cb806d28dbeb"
      },
      "source": [
        "dark_i = v['dark']\n",
        "stormy_i = v['stormy']\n",
        "night_i = v['night']\n",
        "\n",
        "X[dark_i, night_i]"
      ],
      "execution_count": null,
      "outputs": [
        {
          "output_type": "execute_result",
          "data": {
            "text/plain": [
              "3.0"
            ]
          },
          "metadata": {},
          "execution_count": 52
        }
      ]
    },
    {
      "cell_type": "markdown",
      "metadata": {
        "id": "cbI0hQksBRBJ"
      },
      "source": [
        "### Singular Value Decomposition\n",
        "\n",
        "The idea of this technique is to store only the most \"important\" information, removing as many zeros as possible, and keeping only the resulting values in a denser representation with fewer dimensions. SVD is therefore a dimensionality reduction technique that comes from linear algebra and that decomposes matrices into n eigenvectors, which can be applied to word-word matrices.\n",
        "\n",
        "Fortunately, scikit-learn has native support for this technique."
      ]
    },
    {
      "cell_type": "code",
      "metadata": {
        "id": "jesnsy1iBe0_"
      },
      "source": [
        "from sklearn.decomposition import TruncatedSVD\n",
        "svd = TruncatedSVD(n_components=10)  # Truncated means the only keep K dimensions"
      ],
      "execution_count": null,
      "outputs": []
    },
    {
      "cell_type": "code",
      "metadata": {
        "id": "GAs3YDPPCfLi"
      },
      "source": [
        "denseX = svd.fit_transform(X)  # n_samples, n_dims"
      ],
      "execution_count": null,
      "outputs": []
    },
    {
      "cell_type": "code",
      "metadata": {
        "id": "akYkC0mpCnyy",
        "colab": {
          "base_uri": "https://localhost:8080/"
        },
        "outputId": "97edcdd2-fdf7-4f77-9b91-2b80588cd4ee"
      },
      "source": [
        "denseX.shape"
      ],
      "execution_count": null,
      "outputs": [
        {
          "output_type": "execute_result",
          "data": {
            "text/plain": [
              "(20742, 10)"
            ]
          },
          "metadata": {},
          "execution_count": 55
        }
      ]
    },
    {
      "cell_type": "code",
      "metadata": {
        "id": "CVWWNymJL7hf",
        "colab": {
          "base_uri": "https://localhost:8080/"
        },
        "outputId": "574370d2-e68d-4aa4-98ed-8efa28cc272b"
      },
      "source": [
        "eigen = svd.fit(X).explained_variance_\n",
        "eigen"
      ],
      "execution_count": null,
      "outputs": [
        {
          "output_type": "execute_result",
          "data": {
            "text/plain": [
              "array([2.78012626e+04, 8.65125988e+02, 3.88478657e+02, 3.37794372e+02,\n",
              "       1.90124254e+02, 1.45641386e+02, 5.66931667e+01, 3.05512340e+01,\n",
              "       2.48838336e+01, 2.23263397e+01])"
            ]
          },
          "metadata": {},
          "execution_count": 56
        }
      ]
    },
    {
      "cell_type": "code",
      "metadata": {
        "id": "jIozdNShL7hh",
        "colab": {
          "base_uri": "https://localhost:8080/",
          "height": 447
        },
        "outputId": "7dcda10d-862c-4027-edc6-b8bc962ea65c"
      },
      "source": [
        "# Most of the variance is encoded in the first dimension\n",
        "plt.plot(eigen)"
      ],
      "execution_count": null,
      "outputs": [
        {
          "output_type": "execute_result",
          "data": {
            "text/plain": [
              "[<matplotlib.lines.Line2D at 0x7ff0ef1e74f0>]"
            ]
          },
          "metadata": {},
          "execution_count": 57
        },
        {
          "output_type": "display_data",
          "data": {
            "text/plain": [
              "<Figure size 640x480 with 1 Axes>"
            ],
            "image/png": "[encoded data removed]"
          },
          "metadata": {}
        }
      ]
    },
    {
      "cell_type": "code",
      "metadata": {
        "id": "jutSseTg4--s"
      },
      "source": [
        "happy_vector_dense = denseX[v['happy'],:]\n",
        "sad_vector_dense = denseX[v['sad'],:]\n",
        "angry_vector_dense = denseX[v['angry'],:]"
      ],
      "execution_count": null,
      "outputs": []
    },
    {
      "cell_type": "code",
      "metadata": {
        "id": "qmF1kLZE2ajU",
        "colab": {
          "base_uri": "https://localhost:8080/"
        },
        "outputId": "b56203a2-a685-43e1-a1bb-18bd52d33d5f"
      },
      "source": [
        "happy_vector_dense"
      ],
      "execution_count": null,
      "outputs": [
        {
          "output_type": "execute_result",
          "data": {
            "text/plain": [
              "array([ 6.45130788,  1.27333707, -0.98429298, -1.68135076, -0.94632099,\n",
              "       -2.50991999, -0.77464334,  0.40030684,  0.51412982,  0.62078147])"
            ]
          },
          "metadata": {},
          "execution_count": 59
        }
      ]
    },
    {
      "cell_type": "code",
      "metadata": {
        "id": "zyGwq-_HL7hp",
        "colab": {
          "base_uri": "https://localhost:8080/"
        },
        "outputId": "1ec36ef1-9ff9-4ba6-c828-1c6192a31a48"
      },
      "source": [
        "happy_ww"
      ],
      "execution_count": null,
      "outputs": [
        {
          "output_type": "execute_result",
          "data": {
            "text/plain": [
              "array([0., 0., 0., ..., 0., 0., 0.])"
            ]
          },
          "metadata": {},
          "execution_count": 60
        }
      ]
    },
    {
      "cell_type": "markdown",
      "metadata": {
        "id": "W7pyHt-OFNGh"
      },
      "source": [
        "Semantically, SVD allows us to group similar concepts together and operate on them to find similarities."
      ]
    },
    {
      "cell_type": "markdown",
      "metadata": {
        "id": "4vq8gl8CFv2M"
      },
      "source": [
        "### Vector similarity"
      ]
    },
    {
      "cell_type": "markdown",
      "metadata": {
        "id": "BXd9ErZNL7hs"
      },
      "source": [
        "There are different ways to measure the distance between two vectors. Perhaps the most widely used is **cosine similarity**, which is based on the angle between two vectors in their vector space.\n",
        "\n",
        "$$cos(\\vec{v}, \\vec{w}) = \\frac{dot(\\vec{v},\\vec{w})}{norm(\\vec{v})norm(\\vec{w})}$$\n",
        "\n",
        "$$dot(\\vec{v},\\vec{w}) = \\sum_{i=0}^{n}v_iw_i$$\n",
        "$$norm(\\vec{v}) = \\sqrt{\\sum_{i=0}^{n}v_i^2}$$\n",
        "\n",
        "It is necessary to normalize to avoid dealing with absolute frequencies in the calculation of the distance.\n",
        "\n",
        "The cosine similarity ranges from -1 to 1, where 1 means close in direction, -1 in the opposite direction, and 0 means that the vectors are orthogonal."
      ]
    },
    {
      "cell_type": "code",
      "metadata": {
        "id": "I8dz1im5F0J5"
      },
      "source": [
        "from sklearn.metrics.pairwise import cosine_similarity"
      ],
      "execution_count": null,
      "outputs": []
    },
    {
      "cell_type": "code",
      "metadata": {
        "id": "rwJ-spDbL7hw"
      },
      "source": [
        "index = v['elated']\n",
        "elated_vector_dense = denseX[index,:]"
      ],
      "execution_count": null,
      "outputs": []
    },
    {
      "cell_type": "code",
      "metadata": {
        "id": "iZvvjLEbGFm2"
      },
      "source": [
        "happy_vector = happy_vector_dense.reshape(1,-1) \n",
        "sad_vector = sad_vector_dense.reshape(1,-1)\n",
        "angry_vector = angry_vector_dense.reshape(1,-1)\n",
        "elated_vector = elated_vector_dense.reshape(1,-1)"
      ],
      "execution_count": null,
      "outputs": []
    },
    {
      "cell_type": "code",
      "metadata": {
        "id": "CRN_oWSpGDzN",
        "colab": {
          "base_uri": "https://localhost:8080/"
        },
        "outputId": "99ed482b-977c-47ac-bd42-63717958819f"
      },
      "source": [
        "# Angle between happy and sad\n",
        "cosine_similarity(happy_vector, sad_vector)"
      ],
      "execution_count": null,
      "outputs": [
        {
          "output_type": "execute_result",
          "data": {
            "text/plain": [
              "array([[0.84350693]])"
            ]
          },
          "metadata": {},
          "execution_count": 64
        }
      ]
    },
    {
      "cell_type": "code",
      "metadata": {
        "id": "d3qknGoy5zRt",
        "colab": {
          "base_uri": "https://localhost:8080/"
        },
        "outputId": "c97aa614-f9d0-40c5-9714-f3f2e9bd151d"
      },
      "source": [
        "cosine_similarity(angry_vector, sad_vector)"
      ],
      "execution_count": null,
      "outputs": [
        {
          "output_type": "execute_result",
          "data": {
            "text/plain": [
              "array([[0.37021468]])"
            ]
          },
          "metadata": {},
          "execution_count": 65
        }
      ]
    },
    {
      "cell_type": "code",
      "metadata": {
        "id": "UbQaL2_xL7h2",
        "colab": {
          "base_uri": "https://localhost:8080/"
        },
        "outputId": "39516552-cecf-45a0-a9af-2f03b80a7f75"
      },
      "source": [
        "cosine_similarity(happy_vector, angry_vector)"
      ],
      "execution_count": null,
      "outputs": [
        {
          "output_type": "execute_result",
          "data": {
            "text/plain": [
              "array([[0.43307952]])"
            ]
          },
          "metadata": {},
          "execution_count": 66
        }
      ]
    },
    {
      "cell_type": "code",
      "metadata": {
        "id": "fU0OXeJx6KFy",
        "colab": {
          "base_uri": "https://localhost:8080/"
        },
        "outputId": "59ce395e-f626-4fba-83f4-eb477a70a290"
      },
      "source": [
        "cosine_similarity(happy_vector, elated_vector)"
      ],
      "execution_count": null,
      "outputs": [
        {
          "output_type": "execute_result",
          "data": {
            "text/plain": [
              "array([[0.76713106]])"
            ]
          },
          "metadata": {},
          "execution_count": 67
        }
      ]
    },
    {
      "cell_type": "code",
      "metadata": {
        "id": "ehldBiUGL7h5",
        "colab": {
          "base_uri": "https://localhost:8080/"
        },
        "outputId": "68325152-cf54-4d97-917b-e45c9f054351"
      },
      "source": [
        "whale_i = v['whale']\n",
        "harpoon_i = v['harpoon']\n",
        "boat_i = v['boat']\n",
        "blood_i = v['blood']\n",
        "cosine_similarity(denseX[boat_i,:].reshape(1,-1), denseX[harpoon_i,:].reshape(1,-1))"
      ],
      "execution_count": null,
      "outputs": [
        {
          "output_type": "execute_result",
          "data": {
            "text/plain": [
              "array([[0.98147965]])"
            ]
          },
          "metadata": {},
          "execution_count": 68
        }
      ]
    },
    {
      "cell_type": "markdown",
      "metadata": {
        "id": "3_edukB0HLkr"
      },
      "source": [
        "Finally, let's plot the semantic closeness according to SVD and t-SNE (another dimensionality reduction technique) to see it better."
      ]
    },
    {
      "cell_type": "code",
      "metadata": {
        "id": "tfJDByCCKeTn"
      },
      "source": [
        "from sklearn.manifold import TSNE\n",
        "tsne = TSNE(n_components=2)"
      ],
      "execution_count": null,
      "outputs": []
    },
    {
      "cell_type": "code",
      "metadata": {
        "id": "d9HTginIJcp1"
      },
      "source": [
        "# Let's use just 50 random words\n",
        "random_indices = np.random.choice(len(v), 50, replace=False)\n",
        "select_matrix = X[random_indices]\n",
        "lookup = {val:key for key,val in v.items()}\n",
        "labels = [lookup[w] for w in random_indices]"
      ],
      "execution_count": null,
      "outputs": []
    },
    {
      "cell_type": "code",
      "metadata": {
        "id": "Hw_UtzlxL7iK",
        "colab": {
          "base_uri": "https://localhost:8080/"
        },
        "outputId": "bcd76f6e-801e-450e-bf87-7afd812df8de"
      },
      "source": [
        "select_matrix.shape"
      ],
      "execution_count": null,
      "outputs": [
        {
          "output_type": "execute_result",
          "data": {
            "text/plain": [
              "(50, 20742)"
            ]
          },
          "metadata": {},
          "execution_count": 71
        }
      ]
    },
    {
      "cell_type": "code",
      "metadata": {
        "scrolled": true,
        "id": "J3KCA-b0L7iL",
        "colab": {
          "base_uri": "https://localhost:8080/"
        },
        "outputId": "659a68d2-3de2-441f-cf99-2e6a48d4c4cf"
      },
      "source": [
        "labels"
      ],
      "execution_count": null,
      "outputs": [
        {
          "output_type": "execute_result",
          "data": {
            "text/plain": [
              "['intensifying',\n",
              " 'Bunger',\n",
              " 'impregnated',\n",
              " 'labelled',\n",
              " 'repelling',\n",
              " 'rare',\n",
              " 'scorched',\n",
              " 'greatness',\n",
              " 'perch',\n",
              " 'headmost',\n",
              " 'indefatigable',\n",
              " 'cherish',\n",
              " 'Gemini',\n",
              " 'Northern',\n",
              " 'garden-chairs',\n",
              " 'loaf-of-bread',\n",
              " 'rascally',\n",
              " 'eh',\n",
              " 'screwing',\n",
              " 'prince',\n",
              " 'cloak',\n",
              " 'calculate',\n",
              " 'talks',\n",
              " 'speechless',\n",
              " 'verifications',\n",
              " 'hatches',\n",
              " 'handled',\n",
              " 'mid-watch',\n",
              " 'watching',\n",
              " 'constant',\n",
              " 'sweeter',\n",
              " 'MULTUM',\n",
              " 'Sleep',\n",
              " 'satirizing',\n",
              " 'rostrated',\n",
              " 'golden',\n",
              " 'South-Sea',\n",
              " 'boarders',\n",
              " 'Hither',\n",
              " 'served',\n",
              " 'cove',\n",
              " 'spars',\n",
              " 'inquiring',\n",
              " 'original',\n",
              " 'Certainly',\n",
              " 'comprehensive',\n",
              " 'Broadway',\n",
              " 'Insurance',\n",
              " 'sagacity',\n",
              " 'member-roll']"
            ]
          },
          "metadata": {},
          "execution_count": 72
        }
      ]
    },
    {
      "cell_type": "code",
      "metadata": {
        "id": "1tOEqCAmL7iM"
      },
      "source": [
        "embed = tsne.fit_transform(select_matrix)"
      ],
      "execution_count": null,
      "outputs": []
    },
    {
      "cell_type": "code",
      "metadata": {
        "id": "j7GKqDoJKpBP",
        "colab": {
          "base_uri": "https://localhost:8080/",
          "height": 699
        },
        "outputId": "d6801603-71dc-4bd3-e96e-740bdd67edc0"
      },
      "source": [
        "random_x, random_y = zip(*embed)\n",
        "fig, ax = plt.subplots(figsize=(16, 8))\n",
        "ax.scatter(random_x, random_y, alpha=.8)\n",
        "\n",
        "for _, lab in enumerate(labels):\n",
        "    ax.annotate(lab, (random_x[_]+.1, random_y[_]-.05))\n",
        "\n",
        "plt.title(\"random 50 embeddings\")\n",
        "plt.show()"
      ],
      "execution_count": null,
      "outputs": [
        {
          "output_type": "display_data",
          "data": {
            "text/plain": [
              "<Figure size 1600x800 with 1 Axes>"
            ],
            "image/png": "[encoded data removed]"
          },
          "metadata": {}
        }
      ]
    },
    {
      "cell_type": "markdown",
      "metadata": {
        "id": "S5nLykdBAhjZ"
      },
      "source": [
        "In SpaCy, there is an integrated type of word embeddings, the word2vec, whose behavior is similar to what was previously seen."
      ]
    },
    {
      "cell_type": "code",
      "metadata": {
        "id": "AZGJFZfzJHqx",
        "colab": {
          "base_uri": "https://localhost:8080/"
        },
        "outputId": "17cbf610-e64a-4fbd-cc55-fb4b21f38af6"
      },
      "source": [
        "tokens = nlp(\"this is just a test\")\n",
        "\n",
        "for token in tokens:\n",
        "    print(token, token.has_vector, token.vector)"
      ],
      "execution_count": null,
      "outputs": [
        {
          "output_type": "stream",
          "name": "stdout",
          "text": [
            "this True [ 2.1790e+00  4.3820e+00 -3.6766e+00 -3.0660e+00  4.6297e+00 -3.5691e-01\n",
            "  2.7313e+00  1.0662e+00 -3.0959e+00  1.5092e+00  8.9701e+00  2.9807e+00\n",
            " -6.5008e+00  1.1712e+00  2.2440e+00 -2.2113e+00  7.8061e+00 -1.2843e+00\n",
            " -9.4817e-02  2.4967e+00  1.5562e+00  2.3749e+00  3.3589e-01 -1.7089e+00\n",
            " -3.2103e+00 -3.4550e-03 -4.9608e+00  1.7484e+00 -2.6195e+00  3.8560e+00\n",
            "  3.6573e+00 -3.0178e+00  2.7788e-01 -3.0669e+00 -2.5086e+00 -2.4589e+00\n",
            " -1.0248e+00  1.3385e+00  8.4223e+00  2.0983e+00 -4.1140e+00  4.0198e+00\n",
            "  2.9452e+00 -3.8445e+00 -2.2845e+00  2.1215e+00  4.8161e-01 -1.8626e+00\n",
            " -2.3568e+00  1.6330e+00  9.6536e-01 -7.2313e-01  4.7061e-01 -3.9073e+00\n",
            " -4.6706e+00 -4.9007e-01  1.2078e+00  2.8372e+00  4.8466e-01  2.2047e+00\n",
            "  3.6709e+00  1.9159e+00  5.5928e-01 -1.7662e+00 -1.2666e+00  4.7163e+00\n",
            " -4.8360e+00 -4.9148e+00  3.6826e+00  1.6398e+00  1.3555e-01  4.9553e+00\n",
            " -1.6841e+00 -2.8694e+00 -2.1086e+00  4.5669e+00 -1.0767e+00  2.8345e-01\n",
            " -3.1082e+00 -4.8376e-01 -2.2490e+00  1.4030e+00  3.2133e+00 -7.3058e-01\n",
            "  2.7140e+00  2.7510e+00  1.3363e+00 -6.2365e-01  2.5197e+00 -1.5825e+00\n",
            " -1.9321e+00  9.2409e-02  4.8210e+00 -6.3571e+00 -2.6138e-01 -3.3266e-01\n",
            "  5.1570e+00 -2.4363e+00 -8.5799e-01  3.4940e-01  7.1031e-01  1.2504e-01\n",
            "  5.0760e+00  7.4845e-01 -1.9281e+00  5.4850e+00  3.0282e+00  1.8254e+00\n",
            " -1.6965e+00  6.2915e-01 -1.7541e+00 -5.5486e-01 -2.0430e-01  4.4299e+00\n",
            "  1.2090e+00  5.3392e+00 -3.4881e+00 -1.0099e+00  1.9999e+00  2.5807e+00\n",
            " -9.2033e-01 -2.8634e+00 -3.1503e+00  4.5925e+00  5.0173e-01 -2.7660e+00\n",
            "  3.8418e+00 -3.0145e+00  1.0572e+00 -5.5281e+00 -5.8388e+00  3.2169e-01\n",
            "  3.4305e+00 -4.9209e+00 -2.2861e+00  1.3281e+00  1.9322e+00 -2.7033e+00\n",
            "  9.0639e+00 -4.7301e+00 -3.1479e+00 -6.7460e-01  3.8068e+00  1.0272e+00\n",
            " -2.2557e+00  2.4478e+00 -3.3639e+00  9.5618e-01  1.2201e-01  1.4164e+00\n",
            " -6.3028e-01  9.7286e+00 -1.0518e+00  7.5853e-02 -1.1398e+00  2.2784e+00\n",
            "  2.4075e+00 -1.1465e+00 -6.1226e-01 -2.3781e+00 -1.0761e+00 -2.8319e+00\n",
            " -5.9583e-02  2.2768e-01 -3.4590e+00  1.1219e+00 -4.3867e+00  2.5836e+00\n",
            "  1.6433e+00 -1.7643e+00  1.0957e+00 -8.9381e-01  3.3722e+00 -1.5097e+00\n",
            "  5.4979e-01 -1.6052e+00 -2.0851e+00  3.1267e-01 -1.0419e+00 -4.7538e-01\n",
            " -6.5039e-01  1.1792e-01  4.9469e+00 -3.5283e+00 -7.3864e-01 -3.0299e+00\n",
            " -3.5403e+00 -4.5306e+00  3.2521e+00  6.8611e+00 -3.1452e+00  2.2281e+00\n",
            " -2.5509e+00 -2.7349e+00  5.8897e-01 -1.3932e+00 -3.8665e+00 -1.2119e+00\n",
            " -3.5519e+00  3.7510e+00 -4.6786e+00 -1.8967e+00 -5.4097e+00 -5.7138e+00\n",
            "  1.8292e+00  3.7801e+00 -5.1329e+00  1.7522e+00  1.0187e-01  4.1068e-01\n",
            "  4.6149e+00  8.2447e-01 -1.1147e+00  1.1136e+00  1.1984e+00  3.9318e+00\n",
            " -4.5406e-01 -3.8871e-01 -1.1278e+00 -1.1383e+00 -2.9728e+00  3.5958e+00\n",
            " -7.2008e-01  3.4830e+00 -3.1516e+00 -3.4976e+00  1.7031e+00  2.1714e+00\n",
            "  1.6108e+00  4.6180e-01 -8.1046e-01 -5.6828e+00 -1.3381e+00  2.1564e-01\n",
            " -6.7239e-01 -2.3784e+00  1.8088e+00  3.2121e+00  1.4849e+00  7.0017e-03\n",
            " -1.5948e+00 -4.6884e-01  5.8755e-01  3.0312e+00 -1.8535e+00  1.5484e+00\n",
            " -2.1715e+00 -4.8736e-01  2.1764e+00  1.5812e+00  1.8836e+00  5.1996e-01\n",
            " -7.6438e+00 -4.0645e-01 -1.9337e+00 -6.9310e-01  3.6017e+00  1.7277e+00\n",
            " -2.0845e+00  6.3676e-01  1.9741e+00  4.0794e+00  2.9628e+00  7.7411e+00\n",
            "  1.6598e+00 -2.7880e+00 -2.4691e-01  1.2230e+00 -7.5775e+00 -7.2529e-01\n",
            "  3.0144e-01 -5.9701e+00 -6.3450e-01 -4.2744e+00 -1.5208e+00 -2.2069e+00\n",
            "  2.3239e+00 -2.1591e+00  7.0657e-02  3.3115e+00 -2.0020e+00  1.6564e+00\n",
            " -3.6546e+00  2.5966e-01  7.9111e+00 -1.1555e+00  5.6141e+00 -8.4836e-02\n",
            "  2.6208e-01  1.9898e+00  4.0460e+00  3.6130e+00  4.1699e+00  1.8047e+00\n",
            " -5.5009e-01  2.3950e+00  1.5236e+00 -1.3972e+00 -4.1928e+00  2.7108e+00]\n",
            "is True [ 1.4750e+00  6.0078e+00  1.1205e+00 -3.5874e+00  3.7638e+00  3.1987e+00\n",
            " -2.2060e+00  3.2128e+00 -2.0816e+00 -2.9305e-03  1.4144e+01 -9.3209e+00\n",
            "  1.9470e+00 -8.0180e-01  2.4859e-01  1.3631e+01 -1.2121e+00  1.2110e+01\n",
            "  2.5396e+00 -5.4612e-01  1.8946e+00 -3.2709e+00 -1.0619e+01  1.9228e+00\n",
            " -1.2610e+01  1.0922e+00  7.0796e+00 -9.3613e+00 -4.4572e+00 -1.2272e-01\n",
            " -2.7520e+00  1.0406e+01 -9.8420e+00  4.5235e-01 -2.7463e+00  1.5480e+01\n",
            " -2.0994e+00  9.4646e+00  5.1556e+00  2.7702e+00 -4.3875e+00  5.9090e+00\n",
            " -1.1612e+00  1.1701e+00 -7.4696e+00  1.0450e+01  1.9444e+01 -1.3918e+01\n",
            "  1.8856e-01  1.1660e-01 -5.9468e-01 -4.1976e+00  1.2946e+01 -5.4794e+00\n",
            "  4.5191e+00 -2.9389e+00  3.4996e+00 -1.9842e+00 -3.2912e+00  6.1047e+00\n",
            "  1.0305e+01 -2.4296e+00 -1.7423e+00 -1.3484e+00 -4.7826e+00 -3.1625e-01\n",
            " -1.0517e+00 -4.7720e+00  7.0294e+00  2.5608e+00 -3.1062e+00  1.2830e+01\n",
            " -1.2816e+01  1.7518e+00 -1.4634e-01  3.0019e+00 -9.9017e+00  5.6737e+00\n",
            " -7.6346e+00  5.4863e+00 -3.8284e+00 -7.5638e+00 -5.7290e-01 -1.0019e+00\n",
            "  3.6491e+00  7.4537e-01 -5.2877e+00  1.2807e+00  1.3103e+01 -3.9160e+00\n",
            "  1.8979e+00 -1.2603e+01  1.2991e+00 -1.3071e+01 -3.9548e+00 -8.2861e+00\n",
            " -3.8428e+00 -5.1375e+00 -8.1618e+00 -1.4299e+01  2.8037e+00 -1.5107e+00\n",
            "  9.8448e+00  1.1298e+01  4.0341e+00  7.6529e+00  4.5202e-01  5.8704e+00\n",
            " -8.8933e-01  1.0681e+01  2.5188e-01  4.2668e+00 -3.4443e+00  5.8126e+00\n",
            " -8.5161e-01 -7.4018e+00 -8.8067e+00  2.0085e+00 -9.0827e+00  2.4310e+00\n",
            " -7.1380e+00  2.2547e+00  3.6300e+00  6.5865e+00 -1.0424e+01 -1.0074e+01\n",
            " -5.8439e+00  2.2075e-01  4.0035e+00  2.8359e+00  1.1582e+00 -2.8111e+00\n",
            "  7.6443e+00 -1.1106e+01 -2.0286e+00 -5.1916e-01  6.9664e+00 -3.9864e+00\n",
            "  7.2273e+00 -4.8907e+00 -1.2272e+00 -4.1700e+00  7.8896e+00 -6.7895e-01\n",
            "  1.0454e+01 -3.1217e+00 -1.4873e+01 -4.2706e+00 -8.9658e+00  9.8362e+00\n",
            "  5.0498e+00 -5.4208e-01  3.3383e+00 -5.4200e-02 -8.4522e-01  3.7141e+00\n",
            "  3.8842e+00  6.7834e+00  2.3881e+00 -4.5952e+00  2.1972e-01 -8.9451e-03\n",
            "  4.5464e+00 -8.5625e-01 -9.8534e+00 -5.4814e+00 -3.5612e+00  1.5334e+01\n",
            "  5.7374e+00 -1.1005e+00  5.7766e-01 -5.1875e+00  6.3504e+00  1.1733e+00\n",
            " -2.5902e+00 -8.2943e+00  2.7670e+00  9.2439e+00 -3.5913e+00  1.1024e+00\n",
            " -3.3556e+00  1.2507e+01  6.6834e+00  5.1192e+00 -6.0544e+00 -1.8073e+00\n",
            " -2.6130e+00 -2.2696e+00 -2.9762e+00  7.0960e+00 -3.6690e+00 -6.3993e+00\n",
            "  6.0209e+00  2.7142e+00  4.0512e+00  3.4501e+00 -2.8562e+00  8.9686e+00\n",
            "  1.2941e+01 -8.0183e+00  6.8545e+00 -3.5457e+00 -2.1766e+00 -2.6416e+00\n",
            "  4.5329e+00  8.5085e-01 -1.4638e+01 -2.5444e+00 -3.5835e+00 -4.4150e+00\n",
            "  4.3994e+00  4.9992e+00 -1.5801e+00  6.7250e+00  4.0804e-01 -8.7194e+00\n",
            " -1.9602e+00 -6.9880e+00  4.6579e+00  3.1057e+00 -2.7350e+00 -8.9192e+00\n",
            "  1.1785e+01 -7.1446e+00  3.6330e+00  8.9007e+00  3.1960e+00  3.5327e+00\n",
            "  1.0951e+00 -5.0919e+00 -1.1176e+00 -6.5237e+00  6.1758e+00  8.4176e+00\n",
            " -1.3708e+01  3.4605e+00  2.8832e+00 -1.0040e+01  7.4507e+00  5.1906e+00\n",
            " -2.4226e+00 -5.0546e-01  4.2237e+00  5.0208e+00 -7.5176e-01 -9.6466e+00\n",
            " -1.0037e+01  5.8292e+00  4.0086e+00  1.4486e+01 -3.5640e+00 -3.5964e+00\n",
            " -3.0311e+00 -1.0326e+01  3.6719e+00 -4.5900e+00  4.1708e+00  7.0789e+00\n",
            "  4.9997e+00 -6.7114e-01 -1.0102e+01  9.2376e+00  1.5561e+00  1.2963e+01\n",
            " -3.2340e+00  3.1266e+00 -1.0017e+00  8.0002e-01 -8.1493e+00 -5.3154e+00\n",
            "  8.8846e+00 -6.2292e+00  3.0234e+00 -7.5734e+00  4.6470e+00  2.7817e+00\n",
            "  1.1938e+00  8.1420e+00  3.9604e+00  3.5361e+00  7.4518e-01 -9.8892e+00\n",
            " -5.7035e+00 -4.4395e-02  1.3888e+01  1.3986e+00  8.8184e+00  2.8488e-01\n",
            "  1.2994e+00  4.0861e+00  1.0955e+01 -2.9619e+00  4.5407e+00 -2.2999e+00\n",
            " -9.9536e-01  1.2619e+00 -2.3326e+00 -2.2893e-01 -8.5967e-01  9.7466e+00]\n",
            "just True [-1.9648e+00  3.0566e+00 -3.1023e+00 -1.7353e+00 -1.1843e+00  1.6404e+00\n",
            "  2.7836e+00  3.4439e+00 -3.2598e+00  2.9251e+00  3.2638e+00  2.6979e+00\n",
            " -2.6908e+00  7.2974e-01  1.1149e+00 -3.0286e+00  1.5749e+00 -4.8234e+00\n",
            " -1.3681e+00 -2.9615e+00  1.8230e+00  1.6399e+00  6.8448e-01 -4.7081e+00\n",
            " -2.6035e+00 -3.6401e+00 -3.0619e+00 -1.9026e+00 -1.4467e+00  3.3483e+00\n",
            "  1.1659e-01 -3.1813e+00  2.6259e-01 -4.0939e+00  4.2809e-01 -1.4190e+00\n",
            " -2.2335e+00  9.6884e-01  5.0377e+00  2.6653e+00 -1.8311e+00 -6.8003e-01\n",
            "  1.9787e+00 -1.2396e+00  1.1168e+00  2.0948e+00  1.8740e+00 -7.7629e+00\n",
            " -2.3884e+00  3.4450e+00 -2.3602e-01  1.0383e+00  1.5391e+00 -4.3949e+00\n",
            " -2.8645e+00  7.9483e-01  2.9099e+00  4.0107e+00  2.0863e+00  2.6584e+00\n",
            "  1.3053e+00  1.9600e+00 -1.1033e+00 -2.9323e+00 -2.0540e+00  1.3037e+00\n",
            " -5.2958e+00 -1.7801e+00 -2.7631e-01  3.1069e-01  9.3391e-01  5.0193e-01\n",
            "  2.7497e+00 -1.1280e+00  7.3695e-01  2.3058e+00 -2.9744e+00  2.8294e-01\n",
            "  2.3544e-01 -2.1905e+00 -5.5190e+00 -1.7916e-01  5.9227e+00 -2.0990e+00\n",
            "  2.6168e+00 -1.9789e+00 -1.3927e-01 -2.5441e+00 -4.4452e-01  5.4450e-01\n",
            " -3.2897e+00  4.4226e+00  2.4411e+00 -3.2455e+00  7.5178e-01 -7.7619e-01\n",
            "  3.2558e+00 -2.5304e+00  5.3914e-01 -5.0555e+00 -3.5527e-01  4.0012e+00\n",
            "  8.0276e-01  1.3975e+00 -1.9920e+00  1.6371e+00 -4.0766e+00  1.1627e+00\n",
            " -2.0859e+00  4.9476e-01 -2.0334e+00 -3.1705e+00  2.1843e+00 -1.6920e+00\n",
            " -5.5221e-01  2.3772e+00 -1.0941e+00 -4.2885e+00  1.3266e+00 -2.5032e+00\n",
            " -1.3906e+00 -2.2702e+00 -3.1340e+00  2.5170e+00 -1.6120e+00 -8.8795e-01\n",
            "  1.8656e+00 -1.3303e+00  3.3187e-01 -1.2778e-02 -2.7841e+00  8.2856e-02\n",
            "  2.3386e+00 -1.1519e+00 -3.3973e-01 -1.0804e+00  6.6787e-01 -1.1441e+00\n",
            "  6.2913e+00 -2.2561e+00 -2.6696e+00 -9.4885e-01  1.5190e+00  2.8642e-01\n",
            " -5.0289e+00 -2.7360e-01 -2.5915e+00 -6.6266e-01 -3.0033e+00  2.1089e+00\n",
            " -3.0063e+00  1.3517e+00 -2.3850e-01  1.5531e+00 -2.0378e-01  2.3126e+00\n",
            "  5.9532e+00  4.6704e-01 -1.1345e+00 -1.8877e+00 -8.9248e-02 -3.0204e+00\n",
            " -2.8220e+00  2.2960e+00 -1.6892e+00  1.3763e+00 -1.0259e+00 -1.9485e-01\n",
            " -2.0356e+00  3.4231e+00 -4.9098e-01  6.1939e-01 -2.2311e-02  2.0585e+00\n",
            "  1.0339e+00 -8.0550e-01 -3.3702e+00 -9.2252e-01  1.0610e-01 -2.9946e+00\n",
            "  3.7663e-01  1.0722e+00  7.2173e+00  1.0147e-01  3.8356e-01  1.1884e+00\n",
            " -1.2079e+00 -3.5022e+00  3.5245e+00  2.1248e+00 -8.3251e-01  3.7149e+00\n",
            " -3.3257e+00 -2.9565e-01 -3.4269e+00 -3.5379e+00 -8.5829e-01  3.9612e-01\n",
            " -2.2096e+00  4.1134e+00 -3.1506e+00 -1.2965e-01 -2.8931e+00 -4.4588e+00\n",
            "  5.0101e-03  3.4376e+00  9.9656e-01 -1.4664e+00 -8.9134e-01  3.1075e-01\n",
            "  1.4963e+00  1.0109e+00  1.1822e+00  1.7684e+00 -3.5563e-01  3.2564e+00\n",
            "  9.4909e-01 -1.2141e+00 -2.8237e+00  1.2083e+00 -1.1891e+00 -3.7440e+00\n",
            "  1.9314e-01  1.9664e+00  2.7252e-01 -3.1439e+00  9.4347e-01  3.5943e-01\n",
            "  4.4291e+00  1.0114e+00 -3.0071e+00 -2.2569e+00 -1.1136e+00 -9.8289e-01\n",
            " -9.7770e-01  1.1880e+00 -1.5560e+00  4.8203e+00 -9.6675e-01  2.0244e-02\n",
            " -1.6409e+00 -6.6397e-01  1.8728e+00  1.4100e+00 -1.2742e+00 -9.5219e-01\n",
            " -1.9004e+00  4.2963e-02  2.9553e+00  1.8825e+00 -4.1139e+00  1.9182e+00\n",
            " -8.7073e+00  1.4799e+00 -7.6217e-01 -1.2105e+00  1.9291e+00 -1.4113e-01\n",
            " -2.6360e+00  2.8210e+00  3.2434e+00  4.5627e+00  1.8119e+00  3.7579e-01\n",
            "  2.1117e+00 -1.3002e+00 -4.1328e-01  2.4742e+00 -3.8080e+00  1.3416e+00\n",
            "  2.3435e+00 -1.7351e+00 -1.6508e-01 -1.0712e+00 -1.5060e+00 -3.0823e+00\n",
            "  1.2311e+00 -1.7101e+00 -1.2562e-01  5.9954e-01 -3.5974e+00  3.8223e-01\n",
            " -1.7241e+00  1.2459e+00  4.6238e+00 -1.5342e+00 -1.4573e+00 -1.9226e-01\n",
            " -5.9568e+00  1.1616e+00  8.7217e-01 -4.8226e-01  3.2462e+00 -2.1123e+00\n",
            " -5.0044e+00  1.6956e+00  3.6138e+00  4.8306e+00 -4.3731e+00  6.5381e-01]\n",
            "a True [ -9.3629     9.2761    -7.2708     4.3879    10.316     -6.8469\n",
            "   1.5755     7.9405     8.0812     2.6194    17.189      5.1028\n",
            "  -3.5406    -4.9522     0.50726    7.3238     8.4197     3.4544\n",
            "   0.83204    5.5205     5.4937     1.4897    -2.2788     4.497\n",
            "   2.3909    -9.1051    -6.827     -3.8575    -3.2794    -6.6986\n",
            "   0.14048   -2.2132     3.5909    -1.7824    -6.5155     0.23331\n",
            "   5.4186   -11.212     10.805     -9.3444    -3.3625    -1.3998\n",
            "   3.5529    -2.6246     2.5553    -1.855     -3.7859     0.29584\n",
            "  -2.5838     1.6739    -1.6049    -0.27709    1.507     -5.5291\n",
            "  -2.1429    -1.7092     8.389     -1.856     -5.4558    -6.679\n",
            "   0.36212    0.11176    1.1457    -3.2409    -9.434      1.106\n",
            "  -6.3912   -13.735      4.9788     3.9198     0.031058   4.3147\n",
            "  -6.6471     1.3955    -2.5958     6.9759    -0.99819   11.197\n",
            "  -5.3627   -13.103    -14.491     -6.1014     7.3047    -3.1905\n",
            "   1.2629    -0.92262    2.676     -0.42086   11.926     -7.8794\n",
            "  -2.3097   -10.582      5.5581    -7.7517     5.1999    -2.2761\n",
            "  -0.14107    4.6555     3.9174    -4.0377    -4.7891     2.8951\n",
            "   6.9084    12.45      -0.11449   12.134      4.8634    -2.7649\n",
            "  -9.9632    -0.24475   -3.8755    12.938     -3.9884    12.839\n",
            "  -1.8172    -2.2239    -6.8786     1.9485    10.978      3.459\n",
            "   4.5437    -6.7107    -1.8618    16.511     -2.5489   -14.822\n",
            "  -5.7842    -2.9736    10.036     -9.6984    -6.6103     2.7384\n",
            "  14.441    -13.343      1.224      3.2356    10.772     -3.7069\n",
            "   7.0112    -5.6702    -5.9481     8.3454     5.5809    12.19\n",
            "  -0.30777    7.6915     0.1935     4.1209     5.2447     8.635\n",
            "   3.2295    14.775      2.1246     7.2148     3.6015     3.3317\n",
            "  11.025      5.9624     0.33974    4.0244    -9.8245    -6.7488\n",
            "   7.9905     2.7574    -1.0628    -2.4464   -10.564     11.921\n",
            "   3.1062     0.87365   11.799     -3.936      5.7646    10.454\n",
            "   4.1789    -2.4693    -0.37961  -13.324     -8.0467    -3.0123\n",
            "  -3.4994     2.1695    -0.7963   -12.892     -6.2411     2.2934\n",
            "  -8.9541     0.1611    -3.5982     7.1816    -0.50454    3.1828\n",
            "  -5.1788    -6.4996     5.3696     1.0841    -5.2438   -13.527\n",
            "  -1.9345    -6.4937    -0.29942   -3.8215   -10.299    -12.173\n",
            "  -2.5258     1.608     -3.6306     5.5185    -8.11      -3.9384\n",
            "   7.8215     5.9596    -2.024      5.9806    12.227      2.8496\n",
            "   4.6545    -2.1338    -9.9656    -0.36781   -7.7601    -0.74959\n",
            "  -2.078      1.3549     3.7356    -9.0703     1.1395    -4.287\n",
            "  11.723     -2.7052     6.3682   -16.995      2.9882     9.7872\n",
            "  -4.2043    -3.4099    -1.0055     4.1984    -2.6362     0.56554\n",
            "   9.7921     6.6652     6.4964    11.552     -6.2677     1.7802\n",
            "  -5.8234    -1.1035    -1.3218    -0.48589    2.8878     2.1512\n",
            " -11.668     -5.8105    -8.7014     1.8706     7.656      9.1478\n",
            "   1.6743    -0.36795    4.0428     2.5721     5.1085    10.256\n",
            "  -6.9294    -0.62123   -2.4537    -0.5577    -3.5943     0.53374\n",
            "   9.6682     3.0569    -5.3577    -6.4144     3.4455     6.3063\n",
            "   5.4355     4.7154    -4.8865    -7.3881     0.37304   -5.528\n",
            "  -8.9278     3.3797    14.319     -4.0262     2.5195    -3.301\n",
            "  -9.5015     8.4454    -8.6711     3.6026     0.94914    5.9861\n",
            "   0.14368    9.7066     4.4738     2.6801    -6.816      3.5737  ]\n",
            "test True [ 2.0747e+00  4.2498e+00  3.9225e+00  6.1980e+00  4.6034e+00  2.1605e+00\n",
            "  5.9338e-01  4.6487e+00 -7.9070e+00 -1.4183e+00  6.2130e+00  1.6122e+00\n",
            " -3.8765e+00  4.5669e-01 -1.9283e+00  6.9949e+00  7.4237e+00 -1.1636e+00\n",
            " -1.1867e+00 -8.6391e+00 -6.2323e+00 -8.2422e-01 -4.4729e+00 -5.2772e-01\n",
            " -5.1022e+00 -2.1692e+00  8.4865e-01 -2.5185e+00  1.7174e-01  6.8852e+00\n",
            "  4.8053e+00  1.8922e+00 -3.9032e+00  2.4455e+00  7.4008e+00 -3.8487e-01\n",
            "  2.4496e+00  1.7708e+00  1.5639e+00 -1.8948e+00 -1.1454e+00  1.7113e+00\n",
            "  7.9283e-02  7.7719e-01 -1.0368e+01 -1.6937e+00  9.7694e+00 -6.5259e+00\n",
            "  5.9692e-01  3.9678e-01  3.1471e+00  4.5093e+00 -1.6639e+00 -3.8585e+00\n",
            " -3.3906e+00  1.0380e+00 -4.7367e+00 -7.0021e+00  2.4162e+00  3.2480e+00\n",
            " -1.2507e-01  2.4712e+00 -1.2896e+01  2.5621e+00  2.4321e+00  1.3416e+00\n",
            " -1.3868e+00 -4.9513e+00 -7.6641e+00  9.4528e+00  1.3158e+00  2.9392e+00\n",
            " -5.7965e+00  1.8009e+00  4.4403e+00  5.4881e+00  3.3052e+00 -4.0690e+00\n",
            " -5.5754e+00 -5.9848e+00 -4.6842e+00  8.1944e-01  1.9573e+00  3.3070e+00\n",
            " -2.3443e+00 -8.6832e+00  1.9760e+00 -4.3441e+00  2.5471e+00 -5.6930e+00\n",
            " -5.3285e+00  8.2086e+00  4.6924e+00  2.0957e+00 -1.2753e-02  3.7607e+00\n",
            "  6.8213e-01 -1.6161e+00 -4.8464e+00  4.4018e+00 -1.9947e+00 -1.0408e+00\n",
            "  6.1385e+00  1.0846e+00  7.2444e+00  3.8516e+00 -3.5531e+00 -2.9550e+00\n",
            " -2.7929e+00 -5.3624e+00  3.5299e+00 -3.3849e-01  5.0687e-01  7.7997e-01\n",
            "  3.3155e+00  4.3545e+00 -8.6095e+00  3.2373e+00 -2.9359e+00 -3.3308e+00\n",
            " -4.5009e+00  2.2904e+00 -4.7355e+00  3.9805e+00 -1.2330e+00 -1.1058e+00\n",
            " -1.1322e+00  2.3767e+00  6.2115e+00  1.1169e+00 -1.4096e+00  2.3974e+00\n",
            "  8.4451e-01  6.6001e-01  2.1253e+00  2.3436e+00 -1.0237e+00 -4.0707e-01\n",
            "  5.5199e+00 -2.1882e+00  6.7428e+00 -2.0838e+00  6.5753e-01 -2.1226e+00\n",
            "  1.7960e+00 -2.3528e+00 -2.6079e-01 -4.1089e+00  3.2669e+00  3.4881e+00\n",
            "  4.9666e+00 -2.1301e-01  1.8468e+00 -4.7351e+00 -6.6700e-01  2.3166e+00\n",
            "  7.6398e+00 -5.5877e-02 -2.6779e+00 -2.7571e+00 -3.0442e+00 -4.7512e-02\n",
            "  3.6337e+00  5.7140e+00 -3.3507e+00  1.3716e+00  2.8583e-01  8.2082e-01\n",
            " -1.5762e+00  6.7556e-03 -5.6787e+00  1.3296e+00  3.0661e-01  1.5012e+00\n",
            "  5.6953e+00  8.0634e+00  2.6331e+00 -4.0390e+00 -6.6331e+00 -3.8125e-01\n",
            "  2.5286e+00  3.0882e+00 -6.4273e-01 -3.4269e+00 -2.0038e+00  9.9962e-01\n",
            "  1.0081e+00  6.7623e-01  6.3092e+00  9.8195e-01 -3.9797e-01  8.0485e-02\n",
            "  2.9473e-02  8.5691e-01 -6.3207e+00  3.9020e+00  6.1692e+00 -3.0953e+00\n",
            " -4.5048e+00  2.6057e+00 -4.8224e+00  1.8023e+00  2.9758e-01 -9.3308e-01\n",
            "  3.0770e+00  9.8067e+00 -6.3685e+00  1.0969e-01 -5.3266e+00  4.7734e+00\n",
            "  3.6847e+00 -2.8276e+00 -5.6927e+00  1.4792e+00 -2.8047e+00 -4.2181e+00\n",
            "  2.1015e+00  2.1035e+00 -4.7530e+00  4.3656e+00 -8.2825e+00  3.2559e+00\n",
            " -4.5792e+00  3.5735e+00  6.0382e+00 -1.8191e+00 -2.5837e+00  4.2401e+00\n",
            "  8.6585e+00  9.2265e-01  2.9164e-02 -7.9046e+00 -5.7844e+00  1.4281e+00\n",
            "  3.5559e+00 -4.5624e+00 -3.6480e+00 -6.6502e-01 -1.5212e+00 -1.5206e+00\n",
            " -1.4845e+00 -5.9010e-01 -2.4828e+00  4.9582e+00  3.7468e+00  4.4389e+00\n",
            "  6.0097e-01  1.6935e+00  1.5351e+00  1.0068e+00  1.9076e+00  2.9761e+00\n",
            " -1.0176e+01 -2.0946e+00 -5.4882e+00 -1.2631e+00  7.1949e+00 -4.8355e+00\n",
            " -1.8714e+00  2.8326e+00 -6.5496e+00  2.2197e+00  8.2692e+00  6.9301e+00\n",
            "  3.9855e+00  6.3664e-01  2.3725e+00  2.6863e+00 -4.9199e+00 -2.3321e+00\n",
            " -4.7911e+00 -7.6507e-01 -1.0752e+00 -6.6226e+00 -5.3329e+00 -5.8414e+00\n",
            " -1.9803e+00  3.0829e-01 -2.8170e-01  1.2629e+00  3.5695e+00  3.6684e+00\n",
            "  4.7012e-01  2.9739e+00  2.4291e+00 -1.4071e+00  2.2595e+00  1.8106e-01\n",
            " -3.0131e+00  2.3683e+00  7.8841e+00  2.5378e-01  6.2635e+00 -3.7579e+00\n",
            "  1.2866e+00  4.7608e+00 -2.3792e+00  5.4869e-01 -1.9087e+00  1.2901e+00]\n"
          ]
        }
      ]
    },
    {
      "cell_type": "code",
      "metadata": {
        "id": "6irSwsYtArZi",
        "colab": {
          "base_uri": "https://localhost:8080/"
        },
        "outputId": "06dcf8fb-469a-4ecf-b97b-ff76a8fb3d3d"
      },
      "source": [
        "tokens = nlp(\"this is just a test\")\n",
        "\n",
        "for token1 in tokens:\n",
        "    for token2 in tokens:\n",
        "        print(token1.text, token2.text, token1.similarity(token2))"
      ],
      "execution_count": null,
      "outputs": [
        {
          "output_type": "stream",
          "name": "stdout",
          "text": [
            "this this 1.0\n",
            "this is 0.27932846546173096\n",
            "this just 0.5840269327163696\n",
            "this a 0.5156261324882507\n",
            "this test 0.3058573007583618\n",
            "is this 0.27932846546173096\n",
            "is is 1.0\n",
            "is just 0.10397733747959137\n",
            "is a 0.2897643446922302\n",
            "is test 0.15232251584529877\n",
            "just this 0.5840269327163696\n",
            "just is 0.10397733747959137\n",
            "just just 1.0\n",
            "just a 0.28993508219718933\n",
            "just test 0.25989341735839844\n",
            "a this 0.5156261324882507\n",
            "a is 0.2897643446922302\n",
            "a just 0.28993508219718933\n",
            "a a 1.0\n",
            "a test 0.16575178503990173\n",
            "test this 0.3058573007583618\n",
            "test is 0.15232251584529877\n",
            "test just 0.25989341735839844\n",
            "test a 0.16575178503990173\n",
            "test test 1.0\n"
          ]
        }
      ]
    },
    {
      "cell_type": "markdown",
      "metadata": {
        "id": "obLwmkM6H2Pu"
      },
      "source": [
        "And a quick way to see if two lines, paragraphs, or even documents are talking about the same things is by comparing the vector averages of the words that compose them."
      ]
    },
    {
      "cell_type": "code",
      "metadata": {
        "id": "rcDfmKZfJii_",
        "colab": {
          "base_uri": "https://localhost:8080/"
        },
        "outputId": "ffb40461-3aeb-43b5-8cbf-082eb4d75916"
      },
      "source": [
        "def document_similarity(doc1, doc2):\n",
        "    doc1_doc = nlp(doc1)\n",
        "    doc1_vectors = [token.vector for token in doc1_doc if token.has_vector]\n",
        "    doc1_avg = sum(doc1_vectors) / len(doc1_vectors)\n",
        "\n",
        "    doc2_doc = nlp(doc2)\n",
        "    doc2_vectors = [token.vector for token in doc2_doc if token.has_vector]\n",
        "    doc2_avg = sum(doc2_vectors) / len(doc2_vectors)\n",
        "\n",
        "    return cosine_similarity([doc1_avg], [doc2_avg])\n",
        "\n",
        "\n",
        "document_similarity(alice, mobydick)"
      ],
      "execution_count": null,
      "outputs": [
        {
          "output_type": "execute_result",
          "data": {
            "text/plain": [
              "array([[0.94939755]])"
            ]
          },
          "metadata": {},
          "execution_count": 77
        }
      ]
    },
    {
      "cell_type": "code",
      "source": [],
      "metadata": {
        "id": "Ay9iTfiDlmcW"
      },
      "execution_count": null,
      "outputs": []
    },
    {
      "cell_type": "markdown",
      "metadata": {
        "id": "uBOp_mLvnB-N"
      },
      "source": [
        "### Out-of-vocabulary words and pre-trained embeddings\n",
        "\n",
        "So far, we've seen the power of word embeddings and how easy they are to obtain from your own corpus. In most cases, however, we do not have access to millions of unlabelled documents in our target domain that would allow for training good embeddings from scratch. Training word embeddings is very resource intensive and it may require relatively large corpora for the geometric relationships to be semantically meaningful. Still, there are some issues with regular word-oriented embeddings. To illustrate this, consider the next code that trains on the text from _Alice in Wonderland_."
      ]
    },
    {
      "cell_type": "code",
      "execution_count": null,
      "metadata": {
        "id": "Q9w-EVy31zzE",
        "colab": {
          "base_uri": "https://localhost:8080/"
        },
        "outputId": "de22a484-ff0b-42da-9223-34b3756c2bf0"
      },
      "outputs": [
        {
          "output_type": "stream",
          "name": "stdout",
          "text": [
            "[Alice's Adventures in Wonderland by Lewis Carroll 1865]\n",
            "\n",
            "CHAPTER I. Down the Rabbit-Hole\n",
            "\n",
            "Alice was beginning to get very tired of sitting by her sister on the\n",
            "bank, and of having nothing to do: once\n"
          ]
        }
      ],
      "source": [
        "print(nltk.corpus.gutenberg.raw('carroll-alice.txt')[0:200])"
      ]
    },
    {
      "cell_type": "markdown",
      "metadata": {
        "id": "iEJ1_14h1zzF"
      },
      "source": [
        "We'll use the handy `.words()` method in NLTK to access just the words."
      ]
    },
    {
      "cell_type": "code",
      "execution_count": null,
      "metadata": {
        "id": "mRtTgtjv1zzG",
        "colab": {
          "base_uri": "https://localhost:8080/"
        },
        "outputId": "b1fa6499-6dbe-458d-d703-3564bbfc7b42"
      },
      "outputs": [
        {
          "output_type": "execute_result",
          "data": {
            "text/plain": [
              "['[',\n",
              " 'alice',\n",
              " \"'\",\n",
              " 's',\n",
              " 'adventures',\n",
              " 'in',\n",
              " 'wonderland',\n",
              " 'by',\n",
              " 'lewis',\n",
              " 'carroll']"
            ]
          },
          "metadata": {},
          "execution_count": 79
        }
      ],
      "source": [
        "words = list(map(str.lower, nltk.corpus.gutenberg.words('carroll-alice.txt')))\n",
        "words[:10]"
      ]
    },
    {
      "cell_type": "markdown",
      "metadata": {
        "id": "ctath3r71zzG"
      },
      "source": [
        "And now let's train a very simple `word2vec` model."
      ]
    },
    {
      "cell_type": "code",
      "execution_count": null,
      "metadata": {
        "id": "nLQq7vjY1zzG",
        "colab": {
          "base_uri": "https://localhost:8080/"
        },
        "outputId": "3b63e90b-8ca5-4ce1-e06d-ca0565c709e4"
      },
      "outputs": [
        {
          "output_type": "stream",
          "name": "stderr",
          "text": [
            "WARNING:gensim.models.word2vec:Effective 'alpha' higher than previous training cycles\n"
          ]
        },
        {
          "output_type": "execute_result",
          "data": {
            "text/plain": [
              "array([ 0.6676179 , -0.5672889 ,  1.0525128 , -0.5539267 , -0.06483321,\n",
              "       -0.62139404,  0.48843703,  0.85565853, -1.8262287 , -1.8770187 ,\n",
              "        0.4473904 , -0.16455913,  1.324805  ,  0.64579284, -0.2434801 ,\n",
              "        1.8136393 ,  0.6461008 , -0.01515406, -1.2605448 ,  0.34128276,\n",
              "        0.51824105,  1.0233902 ,  0.9341368 , -0.00327026,  0.94702256],\n",
              "      dtype=float32)"
            ]
          },
          "metadata": {},
          "execution_count": 80
        }
      ],
      "source": [
        "documents = [words]\n",
        "model = gensim.models.Word2Vec(\n",
        "    documents,\n",
        "    vector_size=25,\n",
        "    window=5,\n",
        "    min_count=1,\n",
        "    workers=10\n",
        ")\n",
        "model.train(documents, total_examples=len(documents), epochs=10)\n",
        "model.wv['alice']"
      ]
    },
    {
      "cell_type": "markdown",
      "metadata": {
        "id": "h6T9zllX1zzH"
      },
      "source": [
        "Regardless of whether this model is able to compute semantic similarities or not, word vectors have been computed. However, if you try to look for words that are not in the vocabulary you'll get an error."
      ]
    },
    {
      "cell_type": "code",
      "execution_count": null,
      "metadata": {
        "id": "qM2HbmgJ1zzH",
        "colab": {
          "base_uri": "https://localhost:8080/"
        },
        "outputId": "82f0db13-654d-4dd8-d42a-a105458faebf"
      },
      "outputs": [
        {
          "output_type": "stream",
          "name": "stdout",
          "text": [
            "\"Key 'google' not present\"\n"
          ]
        }
      ],
      "source": [
        "try:\n",
        "    model.wv['google']\n",
        "except KeyError as e:\n",
        "    print(e)"
      ]
    },
    {
      "cell_type": "markdown",
      "metadata": {
        "id": "XCdkLW1d1zzI"
      },
      "source": [
        "This is known as the Out-Of-Vocabulary (OOV) issue in Word2Vec and similar approaches.\n",
        "\n",
        "Now, you may think, I could get synonyms of the OOV words using something like WordNet, and then look for those words' embeddings. And while that might work in some cases, in others it is not that simple. Two such cases are new-ish words like `facebook` and `google`, or proper names of places, like `Teotihuacan`.\n",
        "\n",
        "One way to solve this issue is to use a different measure of atomicity in your algorithm. In Word2Vec-like approaches, including GloVe, the word is the minimum unit, and as such, when looking for words that are not in the vocabulary there is certainly no vector information for it. In contrast, a different approach could train for sub-word units, for example 3-grams. While not guaranteeing that all words will be covered, a good amount of them might be, due to the fact that it's more likely for all possible trigrams to be included in a large enough corpus than all possible words. This is the approach taken by Facebook's fastText."
      ]
    },
    {
      "cell_type": "code",
      "execution_count": null,
      "metadata": {
        "id": "3FHMCjCn1zzJ",
        "colab": {
          "base_uri": "https://localhost:8080/"
        },
        "outputId": "6dcbd32b-7031-405a-f243-5aa321143aaa"
      },
      "outputs": [
        {
          "output_type": "execute_result",
          "data": {
            "text/plain": [
              "array([-0.88179713,  0.08437259,  1.0231214 ,  0.7556845 ,  0.2553469 ,\n",
              "       -0.8949131 ,  1.4881291 ,  0.23132941, -1.5087223 , -0.09293869,\n",
              "       -0.88207   ,  0.36084223,  0.99479944,  0.18355638,  0.69147605,\n",
              "        1.0099419 ,  0.31685558,  0.39885667,  0.49908924,  0.08144356,\n",
              "       -0.24190375,  0.32421827,  0.5341031 , -0.96770567,  0.60720646],\n",
              "      dtype=float32)"
            ]
          },
          "metadata": {},
          "execution_count": 82
        }
      ],
      "source": [
        "from gensim.models import FastText\n",
        "\n",
        "fasttext_model = FastText(documents, vector_size=25, min_count=1)\n",
        "fasttext_model.wv['alice']"
      ]
    },
    {
      "cell_type": "code",
      "execution_count": null,
      "metadata": {
        "id": "UuaJ1brA1zzJ",
        "colab": {
          "base_uri": "https://localhost:8080/"
        },
        "outputId": "b22e37c5-a5de-46e9-bda6-513f5a5eea4a"
      },
      "outputs": [
        {
          "output_type": "execute_result",
          "data": {
            "text/plain": [
              "array([-0.26478875,  0.02304918,  0.2977451 ,  0.23135103,  0.08648005,\n",
              "       -0.26656187,  0.4500616 ,  0.06838612, -0.46663284, -0.03605212,\n",
              "       -0.26074818,  0.11185655,  0.2897166 ,  0.04672479,  0.20725435,\n",
              "        0.29671457,  0.08959308,  0.12265384,  0.14938882,  0.02024199,\n",
              "       -0.07229203,  0.09379312,  0.15612957, -0.30305302,  0.18598478],\n",
              "      dtype=float32)"
            ]
          },
          "metadata": {},
          "execution_count": 83
        }
      ],
      "source": [
        "fasttext_model.wv['google']"
      ]
    },
    {
      "cell_type": "markdown",
      "metadata": {
        "id": "2og2d0C21zzJ"
      },
      "source": [
        "fastText also distributes word vectors pre-trained on [Common Crawl](http://commoncrawl.org/) and [Wikipedia](https://www.wikipedia.org/) for more than 157 languages. These models were trained using CBOW with position-weights, in dimension 300, with character n-grams of length 5, a window of size 5 and 10 negatives. They come in binary and text format: binary includes a model ready to use while the text format only contains the actual vectors associated to each word on the training set.\n",
        "\n",
        "Gensim is soon to include a special method to load in these fasText embeddings (not working as of 3.4.0). Just take into account that only the `.bin` format allows for OOV word vectors. For the regular and usually lighter `.vec` format you still would need to load in the vectors, save a binary Gensim model, and load it back in."
      ]
    },
    {
      "cell_type": "markdown",
      "metadata": {
        "id": "Zn0V5KrJ1zzK"
      },
      "source": [
        "Let's see a couple of examples of using `.vec` from the Somali and the Simplified English Wikipedia corpora available for fastText. These files are loaded in using the regular Gensim `KeyedVectors` word2vec model (`.load_word2vec_format()`), and vectors for out of vocabulary cannot be computed."
      ]
    },
    {
      "cell_type": "markdown",
      "metadata": {
        "id": "8smBMv8Q1zzK"
      },
      "source": [
        "In Somali, the word `xiddigta` (meaning *the star*) should have its own vector avalilable since the word is present in the corpus."
      ]
    },
    {
      "cell_type": "code",
      "execution_count": null,
      "metadata": {
        "id": "PmOHGk9w1zzK",
        "colab": {
          "base_uri": "https://localhost:8080/"
        },
        "outputId": "daf3be2a-afc1-4756-9fdd-e3c6fec875d9"
      },
      "outputs": [
        {
          "output_type": "execute_result",
          "data": {
            "text/plain": [
              "array([ 0.156    , -0.11243  , -0.19999  , -0.0082059,  0.053104 ,\n",
              "        0.0062253, -0.15436  , -0.086891 ,  0.049946 , -0.0084536,\n",
              "       -0.1547   , -0.041276 ,  0.34115  ,  0.049262 , -0.099698 ,\n",
              "       -0.092703 , -0.15162  ,  0.011775 , -0.0048607, -0.0026743,\n",
              "       -0.11588  , -0.051329 , -0.22717  ,  0.069633 , -0.0051629],\n",
              "      dtype=float32)"
            ]
          },
          "metadata": {},
          "execution_count": 84
        }
      ],
      "source": [
        "filename = 'wiki.so.vec'\n",
        "if not os.path.isfile(filename):\n",
        "    !echo \"Downloading $filename\"\n",
        "    !curl --progress-bar -Lo $filename https://dl.fbaipublicfiles.com/fasttext/vectors-wiki/$filename\n",
        "\n",
        "somali_model_wv = gensim.models.KeyedVectors.load_word2vec_format(filename, binary=False)\n",
        "somali_model_wv['xiddigta'][:25]  # it means 'the star' in Somali"
      ]
    },
    {
      "cell_type": "markdown",
      "metadata": {
        "id": "flcjn41U1zzL"
      },
      "source": [
        "But the word `ciyaalsuuq` (meaning *unruly youth*) raises a `KeyError` in the word vectors dictionary."
      ]
    },
    {
      "cell_type": "code",
      "execution_count": null,
      "metadata": {
        "id": "P4tt5xg11zzL",
        "colab": {
          "base_uri": "https://localhost:8080/"
        },
        "outputId": "7d99acd3-297d-4b3a-b73d-870f3aaa7181"
      },
      "outputs": [
        {
          "output_type": "stream",
          "name": "stdout",
          "text": [
            "\"Key 'ciyaalsuuq' not present\"\n"
          ]
        }
      ],
      "source": [
        "try:\n",
        "    somali_model_wv['ciyaalsuuq'][:25]\n",
        "except KeyError as e:\n",
        "    print(e)"
      ]
    },
    {
      "cell_type": "markdown",
      "metadata": {
        "id": "RBkQ-eS91zzL"
      },
      "source": [
        "And the same thing occurs in English: while words like `star` are certainly available, words such as `bibliopole` (meaning *a person who buys and sells books, especially rare ones*) are not."
      ]
    },
    {
      "cell_type": "code",
      "execution_count": null,
      "metadata": {
        "id": "gdVQaUMC1zzM"
      },
      "outputs": [],
      "source": [
        "# This might take a while\n",
        "filename = 'wiki.simple.zip'\n",
        "if (not os.path.isfile(filename)\n",
        "        and not os.path.isfile(filename.replace('.zip', '.vec'))\n",
        "        and not os.path.isfile(filename.replace('.zip', '.bin'))):\n",
        "    !echo \"Downloading $filename\"\n",
        "    !curl --progress-bar -Lo $filename https://dl.fbaipublicfiles.com/fasttext/vectors-wiki/$filename\n",
        "if (os.path.isfile(filename)\n",
        "        and (not os.path.isfile(filename.replace('.zip', '.vec'))\n",
        "                 or not os.path.isfile(filename.replace('.zip', '.bin')))):\n",
        "    !unzip $filename"
      ]
    },
    {
      "cell_type": "code",
      "execution_count": null,
      "metadata": {
        "id": "-SznRzvK1zzM"
      },
      "outputs": [],
      "source": [
        "english_model_wv = gensim.models.KeyedVectors.load_word2vec_format(\n",
        "    filename.replace('.zip', '.vec'), binary=False)"
      ]
    },
    {
      "cell_type": "code",
      "execution_count": null,
      "metadata": {
        "id": "K-ra2z8y1zzN",
        "colab": {
          "base_uri": "https://localhost:8080/"
        },
        "outputId": "dbe301f1-8ffb-453c-fe16-bc66fcfc28fa"
      },
      "outputs": [
        {
          "output_type": "execute_result",
          "data": {
            "text/plain": [
              "array([-0.51891  , -0.50084  , -0.0019202, -0.27244  , -0.29538  ,\n",
              "        0.53932  , -0.64673  , -0.071279 , -0.037663 ,  0.12372  ,\n",
              "        0.12885  ,  0.17083  , -0.44653  , -0.15452  , -0.16488  ,\n",
              "        0.27257  , -0.06937  ,  0.20336  , -0.035001 ,  0.69188  ,\n",
              "        0.054626 , -0.18631  , -0.26735  ,  0.14229  ,  0.0026101],\n",
              "      dtype=float32)"
            ]
          },
          "metadata": {},
          "execution_count": 88
        }
      ],
      "source": [
        "english_model_wv['star'][:25] "
      ]
    },
    {
      "cell_type": "code",
      "execution_count": null,
      "metadata": {
        "id": "9GsB7yZx1zzN",
        "colab": {
          "base_uri": "https://localhost:8080/"
        },
        "outputId": "50a2f44d-7e45-4c62-deb6-2dbb388d557c"
      },
      "outputs": [
        {
          "output_type": "stream",
          "name": "stdout",
          "text": [
            "\"Key 'bibliopole' not present\"\n"
          ]
        }
      ],
      "source": [
        "try:\n",
        "    english_model_wv['bibliopole'][:25] \n",
        "except KeyError as e:\n",
        "    print(e)"
      ]
    },
    {
      "cell_type": "markdown",
      "metadata": {
        "id": "5RCa3vge1zzN"
      },
      "source": [
        "The fastText English embeddings **without** sub-word information are also included in Gensim's `downloader` feature."
      ]
    },
    {
      "cell_type": "code",
      "execution_count": null,
      "metadata": {
        "id": "oFCUm2j81zzO",
        "colab": {
          "base_uri": "https://localhost:8080/"
        },
        "outputId": "fbf74487-1649-4853-8c2e-6e08988f7fcd"
      },
      "outputs": [
        {
          "output_type": "execute_result",
          "data": {
            "text/plain": [
              "{'num_records': 999999,\n",
              " 'file_size': 1005007116,\n",
              " 'base_dataset': 'Wikipedia 2017, UMBC webbase corpus and statmt.org news dataset (16B tokens)',\n",
              " 'reader_code': 'https://github.com/RaRe-Technologies/gensim-data/releases/download/fasttext-wiki-news-subwords-300/__init__.py',\n",
              " 'license': 'https://creativecommons.org/licenses/by-sa/3.0/',\n",
              " 'parameters': {'dimension': 300},\n",
              " 'description': '1 million word vectors trained on Wikipedia 2017, UMBC webbase corpus and statmt.org news dataset (16B tokens).',\n",
              " 'read_more': ['https://fasttext.cc/docs/en/english-vectors.html',\n",
              "  'https://arxiv.org/abs/1712.09405',\n",
              "  'https://arxiv.org/abs/1607.01759'],\n",
              " 'checksum': 'de2bb3a20c46ce65c9c131e1ad9a77af',\n",
              " 'file_name': 'fasttext-wiki-news-subwords-300.gz',\n",
              " 'parts': 1}"
            ]
          },
          "metadata": {},
          "execution_count": 90
        }
      ],
      "source": [
        "import gensim.downloader as pretrained\n",
        "\n",
        "pretrained.info()['models']['fasttext-wiki-news-subwords-300']"
      ]
    },
    {
      "cell_type": "code",
      "execution_count": null,
      "metadata": {
        "id": "Wgs-RMiG1zzO"
      },
      "outputs": [],
      "source": [
        "fasttext_english_wv = pretrained.load('fasttext-wiki-news-subwords-300')"
      ]
    },
    {
      "cell_type": "code",
      "execution_count": null,
      "metadata": {
        "id": "yC5EIkHe1zzP",
        "colab": {
          "base_uri": "https://localhost:8080/"
        },
        "outputId": "77be75be-2348-44d8-9ee1-46851bb262ce"
      },
      "outputs": [
        {
          "output_type": "execute_result",
          "data": {
            "text/plain": [
              "array([-0.023621  , -0.043329  , -0.021747  ,  0.00054497, -0.038798  ,\n",
              "       -0.062416  ,  0.048514  , -0.11514   ,  0.058782  ,  0.059644  ,\n",
              "       -0.018478  ,  0.080147  ,  0.078849  ,  0.074862  , -0.14981   ,\n",
              "        0.028318  ,  0.090226  , -0.051512  ,  0.07596   ,  0.077579  ,\n",
              "        0.081135  , -0.064339  , -0.038981  ,  0.10396   ,  0.030344  ],\n",
              "      dtype=float32)"
            ]
          },
          "metadata": {},
          "execution_count": 92
        }
      ],
      "source": [
        "fasttext_english_wv['star'][:25]"
      ]
    },
    {
      "cell_type": "markdown",
      "metadata": {
        "id": "QArJSjZP1zzP"
      },
      "source": [
        "By contrast, when using the `.bin` file and loading it in Gensim using the special `Fastext.load_fasttext_format()` method, out of vocabulary words suddenly have embeddings available."
      ]
    },
    {
      "cell_type": "code",
      "source": [
        "from gensim.models.fasttext import load_facebook_vectors\n",
        "\n",
        "english_oov_wv = load_facebook_vectors(\"wiki.simple.bin\")"
      ],
      "metadata": {
        "id": "rOoJjmYRCHvn"
      },
      "execution_count": null,
      "outputs": []
    },
    {
      "cell_type": "code",
      "execution_count": null,
      "metadata": {
        "id": "-MImdcji1zzQ",
        "colab": {
          "base_uri": "https://localhost:8080/"
        },
        "outputId": "ca7817fe-d121-4b7a-a04b-059fbbe7ff73"
      },
      "outputs": [
        {
          "output_type": "execute_result",
          "data": {
            "text/plain": [
              "array([ 0.33684155, -0.21645568,  0.10088772, -0.31464043,  0.43404934,\n",
              "        0.18256235, -0.17582272,  0.06149521,  0.08270859, -0.1805028 ,\n",
              "        0.10020217, -0.31335443, -0.02284648,  0.14990947, -0.24271098,\n",
              "       -0.15496296, -0.1578064 ,  0.15801108, -0.02311475, -0.14958373,\n",
              "        0.08699957,  0.37877825, -0.22605503, -0.08461908, -0.08053726],\n",
              "      dtype=float32)"
            ]
          },
          "metadata": {},
          "execution_count": 94
        }
      ],
      "source": [
        "english_oov_wv['bibliopole'][:25]"
      ]
    },
    {
      "cell_type": "markdown",
      "metadata": {
        "id": "PhLctAjD1zzR"
      },
      "source": [
        "As we've seen, non-existing words in English, such as the Somali `ciyaalsuuq`, also become available, so it's a feature we must be very careful when using."
      ]
    },
    {
      "cell_type": "code",
      "execution_count": null,
      "metadata": {
        "id": "MJeSjO4N1zzR",
        "colab": {
          "base_uri": "https://localhost:8080/"
        },
        "outputId": "c3e4f576-1992-44da-c5d2-18a6f409eea7"
      },
      "outputs": [
        {
          "output_type": "execute_result",
          "data": {
            "text/plain": [
              "array([ 0.12768339, -0.01905445, -0.00103076, -0.06297439, -0.03593783,\n",
              "        0.11456767, -0.10170168,  0.00269652,  0.00273871,  0.10672554,\n",
              "        0.07186358, -0.02042691, -0.04507094,  0.02207381, -0.00844228,\n",
              "       -0.03260252, -0.04484441,  0.04580003, -0.08975122, -0.04535848,\n",
              "        0.13865867,  0.23976174, -0.04955019, -0.02335513,  0.06891511],\n",
              "      dtype=float32)"
            ]
          },
          "metadata": {},
          "execution_count": 95
        }
      ],
      "source": [
        "english_oov_wv['ciyaalsuuq'][:25]"
      ]
    },
    {
      "cell_type": "markdown",
      "metadata": {
        "id": "UPJaihSy1zzR"
      },
      "source": [
        "Unsurprisingly, if we check what other words are similar in English to the Somali word `ciyaalsuuq` we get a bunch of words that are not really from English. To be completely fair, the Simple English corpus might not be as reliable as the full English one for finding semantic similarities."
      ]
    },
    {
      "cell_type": "code",
      "execution_count": null,
      "metadata": {
        "id": "aWP-IdQZ1zzS",
        "colab": {
          "base_uri": "https://localhost:8080/"
        },
        "outputId": "babce42a-558e-4900-f274-4db288161058"
      },
      "outputs": [
        {
          "output_type": "execute_result",
          "data": {
            "text/plain": [
              "[('staatsangehörigkeit', 0.676529586315155),\n",
              " ('vvv', 0.6732478141784668),\n",
              " ('aarwangen', 0.6647513508796692),\n",
              " ('wyrzysk', 0.6637654900550842),\n",
              " ('herzogenbuchsee', 0.6628784537315369),\n",
              " ('waalwijk', 0.6615055799484253),\n",
              " ('pfäffikon', 0.6590555310249329),\n",
              " ('rijkersstraat', 0.6582540273666382),\n",
              " ('verkhnekolymsky', 0.6578086018562317),\n",
              " ('распутина', 0.656043291091919)]"
            ]
          },
          "metadata": {},
          "execution_count": 96
        }
      ],
      "source": [
        "english_model_wv.similar_by_vector(english_oov_wv['ciyaalsuuq'])"
      ]
    },
    {
      "cell_type": "code",
      "source": [
        "del model \n",
        "del english_model_wv\n",
        "del fasttext_english_wv\n",
        "del somali_model_wv\n",
        "del fasttext_model"
      ],
      "metadata": {
        "id": "md4KABtWSGDY"
      },
      "execution_count": null,
      "outputs": []
    },
    {
      "cell_type": "markdown",
      "metadata": {
        "id": "bmgKIhhE1zzS"
      },
      "source": [
        "#### fastText package"
      ]
    },
    {
      "cell_type": "markdown",
      "metadata": {
        "id": "kINE8P1b1zzS"
      },
      "source": [
        "While Gensim provides a way to create fastText embeddings with sub-word information and even load fastText pre-trained word embeddings, there is also a standalone tool, `fasttext`, and an accompanying Python library to do the same. Unfortunately, the Python bindings haven't been updated and it seems to be broken when trying to load in binary models generated with newer versions of the fastText command line tool."
      ]
    },
    {
      "cell_type": "code",
      "execution_count": null,
      "metadata": {
        "id": "3GimEEnJ1zzT",
        "colab": {
          "base_uri": "https://localhost:8080/"
        },
        "outputId": "be1ce35f-1b89-4202-c20b-460e06fdfaba"
      },
      "outputs": [
        {
          "output_type": "stream",
          "name": "stderr",
          "text": [
            "Warning : `load_model` does not return WordVectorModel or SupervisedModel any more, but a `FastText` object which is very similar.\n"
          ]
        }
      ],
      "source": [
        "import fasttext\n",
        "\n",
        "try:\n",
        "    fasttext.load_model(\"wiki.simple.bin\")\n",
        "except Exception as e:\n",
        "    print(e)"
      ]
    },
    {
      "cell_type": "markdown",
      "metadata": {
        "id": "ElOcj4lI1zzY"
      },
      "source": [
        "Other functionalities, such as building embedding from your own corpus using either Skip-gram or CBOW, are available, as well as methods to create text classifiers very easily."
      ]
    },
    {
      "cell_type": "code",
      "execution_count": null,
      "metadata": {
        "id": "HoARomVq1zzZ"
      },
      "outputs": [],
      "source": [
        "alice_model_skip = fasttext.train_unsupervised(nltk.corpus.gutenberg.abspath('carroll-alice.txt'), model=\"skipgram\")\n",
        "del alice_model_skip"
      ]
    },
    {
      "cell_type": "code",
      "execution_count": null,
      "metadata": {
        "id": "_S8rn6G_1zzZ"
      },
      "outputs": [],
      "source": [
        "alice_model_cbow = fasttext.train_unsupervised(nltk.corpus.gutenberg.abspath('carroll-alice.txt'), model=\"cbow\")\n",
        "del alice_model_cbow"
      ]
    },
    {
      "cell_type": "code",
      "execution_count": null,
      "metadata": {
        "id": "aXYLy8pU1zza",
        "colab": {
          "base_uri": "https://localhost:8080/"
        },
        "outputId": "b6ebcf41-3a8c-4195-e411-39c765c2568e"
      },
      "outputs": [
        {
          "output_type": "stream",
          "name": "stdout",
          "text": [
            "Precision: 0.5\n",
            "Recall: 0.5\n",
            "Number of examples: 2\n",
            "\"This is wonderfully awful\": ['__label__neg']\n"
          ]
        }
      ],
      "source": [
        "text = \"\"\"\n",
        "__label__pos This is some wonderful positive text.\n",
        "__label__neg This is some awful negative text.\n",
        "\"\"\"\n",
        "with open('sentiment_train.txt', 'w') as f:\n",
        "    f.write(text.strip())\n",
        "test = \"\"\"\n",
        "__label__pos This is wonderful.\n",
        "__label__neg This is awful.\n",
        "\"\"\"\n",
        "with open('sentiment_test.txt', 'w') as f:\n",
        "    f.write(test.strip())\n",
        "\n",
        "classifier = fasttext.train_supervised('sentiment_train.txt')\n",
        "support, precision, recall = classifier.test('sentiment_test.txt')\n",
        "print('Precision:', precision)\n",
        "print('Recall:', recall)\n",
        "print('Number of examples:', support)\n",
        "print('\"This is wonderfully awful\":',\n",
        "      classifier.predict(['This is wonderfully awful'])[0][0])\n",
        "del classifier"
      ]
    },
    {
      "cell_type": "markdown",
      "metadata": {
        "id": "sbKCoWK41zza"
      },
      "source": [
        "#### Pre-trained vectors"
      ]
    },
    {
      "cell_type": "markdown",
      "metadata": {
        "id": "O95gc-Se1zzb"
      },
      "source": [
        "The list of pre-trained word vectors grows every day, and while it's impractical to enumerate them all, some of them are listed below.\n",
        "\n",
        "- English\n",
        "  - fastText. Embeddings (300 dimensions) by Facebook [with](https://s3-us-west-1.amazonaws.com/fasttext-vectors/wiki-news-300d-1M-subword.vec.zip) and [without sub-word information](https://s3-us-west-1.amazonaws.com/fasttext-vectors/wiki-news-300d-1M.vec.zip) trained on Wikipedia 2017, UMBC webbase corpus and statmt.org news dataset (16B tokens), and on [Common Crawl (600B tokens)](https://s3-us-west-1.amazonaws.com/fasttext-vectors/crawl-300d-2M.vec.zip).\n",
        "  - [Google News](https://drive.google.com/file/d/0B7XkCwpI5KDYNlNUTTlSS21pQmM/). Embeddings (300 dimensions) by Google trained on Google News (100B) using word2vec with negative sampling and context window BoW with size ~5 ([link](http://code.google.com/p/word2vec/)). There also fastText versions from 2016 with and without sub-word information for Wikipedia and with no sub-word information for Common Crawl.\n",
        "  - [LexVec](https://github.com/alexandres/lexvec). Embeddings (300 dimensions) trained using LexVec with and without sub-word information trained on Common Crawl, and on Wikipedia 2015 + NewsCrawl.\n",
        "  - Freebase [IDs](https://docs.google.com/file/d/0B7XkCwpI5KDYaDBDQm1tZGNDRHc/edit?usp=sharing) and [names](https://docs.google.com/file/d/0B7XkCwpI5KDYeFdmcVltWkhtbmM/edit?usp=sharing). Embeddings (1000 dimensions) by Google trained on Gooogle News (100B) using word2vec, skip-gram and context window BoW with size ~10 ([link](http://code.google.com/p/word2vec/)).\n",
        "  - [Wikipedia 2014 + Gigaword 5](http://nlp.stanford.edu/data/glove.6B.zip). Embeddings (50, 100, 200, and 300 dimensions) by GloVe trained on Wikipedia data from 2014 and newswire data from the mid 1990s through 2011 using GloVe with AdaGrad and context window 10+10 ([link](http://nlp.stanford.edu/projects/glove/)).\n",
        "  - Common Crawl [42B](http://nlp.stanford.edu/data/glove.42B.300d.zip) and [840B](http://nlp.stanford.edu/data/glove.840B.300d.zip). Embeddings (300 dimensions) by GloVe trained on Common Crawl (42B and 840B) using GloVe and AdaGrad ([link](http://nlp.stanford.edu/projects/glove/)).\n",
        "  - [Twitter (2B Tweets)](http://www-nlp.stanford.edu/data/glove.twitter.27B.zip). Embeddings (25, 50, 100, and 200 dimensions) by GloVe trained on Twitter (27B) using GloVe with GloVe and AdaGrad ([link](http://nlp.stanford.edu/projects/glove/)).\n",
        "  - [Wikipedia dependency](http://u.cs.biu.ac.il/~yogo/data/syntemb/deps.words.bz2). Embeddings (300 dimensions) by Levy & Goldberg trained on Wikipedia 2015 using word2vec modified with word2vec and context window syntactic dependencies ([link](https://levyomer.wordpress.com/2014/04/25/dependency-based-word-embeddings/)).\n",
        "  - [DBPedia vectors (wiki2vec)](https://github.com/idio/wiki2vec/raw/master/torrents/enwiki-gensim-word2vec-1000-nostem-10cbow.torrent). Embeddings (1000 dimensions) by Idio trained on Wikipedia 2013 using word2vec with word2vec, skip-gram and context window BoW, 10 ([link](https://github.com/idio/wiki2vec#prebuilt-models)).\n",
        "  - [60 Wikipedia embeddings with 4 kinds of context](http://vsmlib.readthedocs.io/en/latest/tutorial/getting_vectors.html#). Embeddings (25, 50, 100, 250, and 500 dimensions) by Li, Liu et al. trained on Wikipedia using Skip-Gram, CBOW, GloVe with original and modified and context window 2 ([link](http://vsmlib.readthedocs.io/en/latest/tutorial/getting_vectors.html#)).\n",
        "- Multi-lingual\n",
        "  - [fastText](https://fasttext.cc/docs/en/crawl-vectors.html). Embeddigns for 157 languages trained using fastText on Wikipedia 2016 and Common Crawl using CBOW with position-weights, 300 dimensions, with character n-grams of length 5, a window of size 5 and 10 negatives. Both vectors and binary models for OOV are available. There is an old version of these embeddings trained only on Wikipedia 2016 for almost [300 languages](https://fasttext.cc/docs/en/pretrained-vectors.html).\n",
        "  - [BPEemb](https://github.com/bheinzerling/bpemb). Pre-trained subword embeddings in 275 languages, based on Byte-Pair Encoding (BPE) on Wikipedia 2017 with sub-word information.\n",
        "  - [Kyubyong's wordvectors](https://github.com/Kyubyong/wordvectors#pre-trained-models). Embeddings with and without sub-word information trained on Wikipedia dumps from 2017 for +30 languages.\n",
        "  - [Polyglot](https://sites.google.com/site/rmyeid/projects/polyglot#h.p_ID_98). Embeddings for more than 100 languages trained on their Wikipedias from 2013. Provides competitive performance with near state-of-art methods in English, Danish and Swedish.\n",
        "\n",
        "There is even a tool, [`chakin`](https://github.com/chakki-works/chakin#supported-vectors), that allows to easily download word vectors with and without sub-word information for 11 languages.  "
      ]
    },
    {
      "cell_type": "markdown",
      "metadata": {
        "id": "HxtbEkNm1zzc"
      },
      "source": [
        "#### Historical Word Vectors"
      ]
    },
    {
      "cell_type": "markdown",
      "metadata": {
        "id": "SDmJ_Zar1zzc"
      },
      "source": [
        "In the Humanities, despite the value of word embeddings, we usually want to train our own models or to have access to models that are related to a specific time period of study. It might not be of much help to analyze 19th Century literature with word vectors trained on a Google News corpus, specially since the semantic of the words themselves have been proven to change over time.\n",
        "\n",
        "There is, however, a collection of [historical word vectors](https://nlp.stanford.edu/projects/histwords/) made avaliable to use by the Stanford NLP Group and others (special thanks to [Ryan Heuser](http://ryanheuser.org/)). The embeddings (300 dimensions) are generated using word2vec skip-gram with negative sampling and trained on Google N-Grams for English, English Fiction, French, German, and Simplified Chinese; on the Corpus of Historical American English (COHA); and on the Century Collections Online (ECCO):\n",
        "- English:\n",
        "  - [All English](http://snap.stanford.edu/historical_embeddings/eng-all_sgns.zip) (1800s-1990s by decade)\n",
        "  - [English Fiction](http://snap.stanford.edu/historical_embeddings/eng-fiction-all_sgns.zip) (1800s-1990s by decade)\n",
        "  - [Genre-Balanced American English](http://snap.stanford.edu/historical_embeddings/coha-word_sgns.zip) (1830s-2000s by decade) (COHA)\n",
        "  - [Genre-Balanced American English, word lemmas](http://snap.stanford.edu/historical_embeddings/coha-lemma_sgns.zip) (1830s-2000s) (COHA)\n",
        "  - [ECCO](http://ryanheuser.org/data/word2vec.ECCO.skipgram_n=10.model.txt.gz). Eighteenth Century Collections Online (ECCO), “Literature and Language,” 1700-99, with 1.9 billion words and trained using word2vec with skip-gram size of 10 words\n",
        "  - [ECCO20](https://archive.org/details/word-vectors-18c-word2vec-models-across-20-year-periods). ECCO split in twenty-year periods of 18C, with 150 million words each and trained using word2vec with skip-gram size of 10 words\n",
        "  - [ECCO-TCP](http://ryanheuser.org/data/word2vec.ECCO-TCP.txt.zip). ECCO with 80 million words trained using skip-gram size of 5 words. Also available for [size of 10 words](http://ryanheuser.org/data/word2vec.ECCO-TCP.skipgram_n=10.txt.zip).\n",
        "- Multi-lingual:\n",
        "  - [French](http://snap.stanford.edu/historical_embeddings/fre-all_sgns.zip) (1800s-1990s by decade)\n",
        "  - [German](http://snap.stanford.edu/historical_embeddings/ger-all_sgns.zip) (1800s-1990s by decade)\n",
        "  - [Simplified Chinese](Simplified Chinese (1950-1990s) (1950-1990s by decade)"
      ]
    },
    {
      "cell_type": "markdown",
      "metadata": {
        "id": "Y97zWmWk1zzd"
      },
      "source": [
        "Let's download and prepare some of these pre-trained word vectors."
      ]
    },
    {
      "cell_type": "code",
      "execution_count": null,
      "metadata": {
        "id": "y29NRepZ1zzd"
      },
      "outputs": [],
      "source": [
        "# Downloading and preparing the pre-trained embeddings\n",
        "pretrained.load('word2vec-google-news-300',\n",
        "                return_path=True)  # return_path avoids to load the model in memory\n",
        "\n",
        "for filename, dirname in (('eng-fiction-all_sgns.zip', 'fiction'),\n",
        "                          ('coha-word_sgns.zip', 'coha')):\n",
        "    if (not os.path.isfile(filename)\n",
        "            and not os.path.isdir(dirname)):\n",
        "        print(f'Downloading {filename}')\n",
        "        !curl --progress-bar -Lo $filename http://snap.stanford.edu/historical_embeddings/$filename\n",
        "    if (os.path.isfile(filename)\n",
        "            and not os.path.isdir(dirname)):\n",
        "        print(f'Uncompressing {filename}')\n",
        "        !unzip -q -o $filename -d $dirname"
      ]
    },
    {
      "cell_type": "code",
      "execution_count": null,
      "metadata": {
        "id": "Xr_Z1IbT1zze",
        "colab": {
          "base_uri": "https://localhost:8080/"
        },
        "outputId": "7d4975f8-fe3a-4d5d-859c-876b158772f7"
      },
      "outputs": [
        {
          "output_type": "stream",
          "name": "stderr",
          "text": [
            "Generating vector files - fiction: 100%|██████████| 2/2 [00:00<00:00, 14847.09it/s]\n",
            "Generating vector files - coha: 100%|██████████| 2/2 [00:00<00:00, 2179.99it/s]\n"
          ]
        }
      ],
      "source": [
        "for corpus, years in (('fiction', (1900, 1950)),  # range(1800, 1991, 10)\n",
        "                      ('coha', (1900, 1950))):  # range(1810, 2001, 10)\n",
        "    for year in tqdm(list(years), desc=f'Generating vector files - {corpus}'):\n",
        "        if os.path.isfile(f'{corpus}/{year}.vec'):\n",
        "            continue\n",
        "        with open(f'{corpus}/{year}.vec', 'w') as vector_file:\n",
        "            vectors = np.load(open(f'{corpus}/sgns/{year}-w.npy', 'rb'))\n",
        "            words = pickle.load(open(f'{corpus}/sgns/{year}-vocab.pkl', 'rb'))\n",
        "            vector_file.write(\"{} {}\".format(*vectors.shape))\n",
        "            for index, word in enumerate(words):\n",
        "                vector = np.array2string(vectors[index],\n",
        "                                         formatter={'float_kind':'{0:.9f}'.format})[1:-1]\n",
        "                vector = vector.replace('\\n', '')\n",
        "                vector_file.write(f'\\n{word} {vector}')"
      ]
    },
    {
      "cell_type": "markdown",
      "metadata": {
        "id": "XRFPH_vi1zze"
      },
      "source": [
        "Now we have historical word embeddings for English Fiction and COHA for 1900 and 1950, available as `.vec` files as `<fiction|coha>/<year>.vec`. For example, `fiction/1900.vec`."
      ]
    },
    {
      "cell_type": "markdown",
      "metadata": {
        "id": "P84cU9iX1zzf"
      },
      "source": [
        "### Analogies\n",
        "\n",
        "Word embeddigns allow for analogy checking. For example, `man is to king as woman is to queen`, expressed as `man:king :: woman:queen`, has its reflection on the vector representions of the words `man`, `king`, `woman`, `queen` in such a way that: $$\\vec{king} - \\vec{man} + \\vec{woman} \\approx \\vec{queen}$$\n",
        "\n",
        "However, this can also highlight some biases in the specific corpora the model has been trained on. Using as a base the pair `she-he`, let's find the most similar term for female from the term in the next list: doctor, captain, gallant, sheriff, engineer, scientist, author, surgeon, honorable, philosopher, warrior, architect, magician, liar, and coward.\n",
        "\n",
        "We will compute the similarity between the expected term for female and the one for male, using the Google News (2015), English Fiction (1900, 1950) and Genre-Balanced American English (1900, 1950) embeddings.\n",
        "\n",
        "We can use Gensim's `most_similar_cosmul()`/`most_similar()` and `similarity()` functions."
      ]
    },
    {
      "cell_type": "code",
      "source": [
        "%%capture --no-stdout\n",
        "import gensim.downloader as pretrained\n",
        "words = \"doctor, captain, gallant, sheriff, engineer, scientist, author, surgeon, honorable, philosopher, warrior, architect, magician, liar, coward\"\n",
        "words = words.split(', ')\n",
        "\n",
        "def get_models():\n",
        "    \"\"\"Yields a tuple of 2 elements: (model name, model instance)\"\"\"\n",
        "    yield ('Fiction 1900',\n",
        "        gensim.models.KeyedVectors.load_word2vec_format('fiction/1900.vec', binary=False))\n",
        "    yield ('Fiction 1950',\n",
        "        gensim.models.KeyedVectors.load_word2vec_format('fiction/1950.vec', binary=False))\n",
        "    yield ('COHA 1900',\n",
        "        gensim.models.KeyedVectors.load_word2vec_format('coha/1900.vec', binary=False))\n",
        "    yield ('COHA 1950',\n",
        "        gensim.models.KeyedVectors.load_word2vec_format('coha/1950.vec', binary=False))\n",
        "    yield ('Google News', pretrained.load('word2vec-google-news-300'))\n",
        "\n",
        "for (model_name, model) in get_models():\n",
        "    print(model_name)\n",
        "    print(len(model_name) * '=')\n",
        "    for word in words:\n",
        "        expected = model.most_similar(\n",
        "            positive=['she', word], negative=['he'])[0][0]\n",
        "        similarity = model.similarity(expected, word)\n",
        "        print(f\"he:{word:20} :: she:{expected:20}\\tsimilarity = {similarity:.4}\")\n",
        "    print()\n",
        "    del model"
      ],
      "metadata": {
        "id": "SCt5FsEibWQx",
        "colab": {
          "base_uri": "https://localhost:8080/"
        },
        "outputId": "6a64e115-c124-44ca-de16-9e44cfd73309"
      },
      "execution_count": null,
      "outputs": [
        {
          "output_type": "stream",
          "name": "stdout",
          "text": [
            "Fiction 1900\n",
            "============\n",
            "he:doctor               :: she:girl                \tsimilarity = 0.1677\n",
            "he:captain              :: she:major               \tsimilarity = 0.4955\n",
            "he:gallant              :: she:kindest             \tsimilarity = 0.2594\n",
            "he:sheriff              :: she:constable           \tsimilarity = 0.3965\n",
            "he:engineer             :: she:girl                \tsimilarity = 0.077\n",
            "he:scientist            :: she:ssh                 \tsimilarity = 0.0\n",
            "he:author               :: she:portrait            \tsimilarity = 0.3566\n",
            "he:surgeon              :: she:doctor              \tsimilarity = 0.3401\n",
            "he:honorable            :: she:virtuous            \tsimilarity = 0.3556\n",
            "he:philosopher          :: she:refinement          \tsimilarity = 0.3071\n",
            "he:warrior              :: she:rowena              \tsimilarity = 0.3402\n",
            "he:architect            :: she:portrait            \tsimilarity = 0.2631\n",
            "he:magician             :: she:wand                \tsimilarity = 0.6198\n",
            "he:liar                 :: she:hypocrite           \tsimilarity = 0.6489\n",
            "he:coward               :: she:liar                \tsimilarity = 0.6135\n",
            "\n",
            "Fiction 1950\n",
            "============\n",
            "he:doctor               :: she:nurse               \tsimilarity = 0.3974\n",
            "he:captain              :: she:macwhirr            \tsimilarity = 0.5391\n",
            "he:gallant              :: she:dresses             \tsimilarity = 0.2815\n",
            "he:sheriff              :: she:phoned              \tsimilarity = 0.3888\n",
            "he:engineer             :: she:doctor              \tsimilarity = 0.3716\n",
            "he:scientist            :: she:naive               \tsimilarity = 0.3419\n",
            "he:author               :: she:hawthorne           \tsimilarity = 0.4318\n",
            "he:surgeon              :: she:nurse               \tsimilarity = 0.2952\n",
            "he:honorable            :: she:affectation         \tsimilarity = 0.3555\n",
            "he:philosopher          :: she:naive               \tsimilarity = 0.3077\n",
            "he:warrior              :: she:joy                 \tsimilarity = 0.2483\n",
            "he:architect            :: she:rapture             \tsimilarity = 0.1504\n",
            "he:magician             :: she:pigeon              \tsimilarity = 0.5036\n",
            "he:liar                 :: she:hypocrite           \tsimilarity = 0.6274\n",
            "he:coward               :: she:hypocrite           \tsimilarity = 0.5595\n",
            "\n",
            "COHA 1900\n",
            "=========\n",
            "he:doctor               :: she:catherine           \tsimilarity = 0.3833\n",
            "he:captain              :: she:maid                \tsimilarity = 0.1626\n",
            "he:gallant              :: she:fawn                \tsimilarity = 0.5378\n",
            "he:sheriff              :: she:limberlost          \tsimilarity = 0.5401\n",
            "he:engineer             :: she:maid                \tsimilarity = -0.02841\n",
            "he:scientist            :: she:limberlost          \tsimilarity = 0.4519\n",
            "he:author               :: she:novel               \tsimilarity = 0.4716\n",
            "he:surgeon              :: she:limberlost          \tsimilarity = 0.5047\n",
            "he:honorable            :: she:unmarried           \tsimilarity = 0.5658\n",
            "he:philosopher          :: she:dreamer             \tsimilarity = 0.672\n",
            "he:warrior              :: she:necklace            \tsimilarity = 0.5718\n",
            "he:architect            :: she:womanhood           \tsimilarity = 0.5454\n",
            "he:magician             :: she:limberlost          \tsimilarity = 0.53\n",
            "he:liar                 :: she:blushing            \tsimilarity = 0.5808\n",
            "he:coward               :: she:wailed              \tsimilarity = 0.5758\n",
            "\n",
            "COHA 1950\n",
            "=========\n",
            "he:doctor               :: she:nurse               \tsimilarity = 0.5196\n",
            "he:captain              :: she:elizabeth           \tsimilarity = 0.1884\n",
            "he:gallant              :: she:feminine            \tsimilarity = 0.4939\n",
            "he:sheriff              :: she:maid                \tsimilarity = 0.2048\n",
            "he:engineer             :: she:actress             \tsimilarity = 0.2359\n",
            "he:scientist            :: she:actress             \tsimilarity = 0.4939\n",
            "he:author               :: she:beauty              \tsimilarity = 0.2112\n",
            "he:surgeon              :: she:handbag             \tsimilarity = 0.4449\n",
            "he:honorable            :: she:feminine            \tsimilarity = 0.4186\n",
            "he:philosopher          :: she:feminine            \tsimilarity = 0.4934\n",
            "he:warrior              :: she:virgin              \tsimilarity = 0.4567\n",
            "he:architect            :: she:actress             \tsimilarity = 0.534\n",
            "he:magician             :: she:profaned            \tsimilarity = 0.0\n",
            "he:liar                 :: she:actress             \tsimilarity = 0.5436\n",
            "he:coward               :: she:feminine            \tsimilarity = 0.4684\n",
            "\n",
            "Google News\n",
            "===========\n",
            "he:doctor               :: she:nurse               \tsimilarity = 0.632\n",
            "he:captain              :: she:captian             \tsimilarity = 0.7372\n",
            "he:gallant              :: she:valiant             \tsimilarity = 0.7676\n",
            "he:sheriff              :: she:Sheriff_Office      \tsimilarity = 0.8163\n",
            "he:engineer             :: she:electrical_engineer \tsimilarity = 0.7501\n",
            "he:scientist            :: she:researcher          \tsimilarity = 0.7907\n",
            "he:author               :: she:Mary_Pipher         \tsimilarity = 0.5494\n",
            "he:surgeon              :: she:gynecologist        \tsimilarity = 0.6356\n",
            "he:honorable            :: she:dignified           \tsimilarity = 0.5944\n",
            "he:philosopher          :: she:Mary_Wollstonecraft \tsimilarity = 0.5032\n",
            "he:warrior              :: she:heroine             \tsimilarity = 0.3826\n",
            "he:architect            :: she:interior_designer   \tsimilarity = 0.5969\n",
            "he:magician             :: she:illusionist         \tsimilarity = 0.7441\n",
            "he:liar                 :: she:whore               \tsimilarity = 0.5673\n",
            "he:coward               :: she:slut                \tsimilarity = 0.4333\n",
            "\n"
          ]
        }
      ]
    },
    {
      "cell_type": "markdown",
      "metadata": {
        "id": "nFpJsNj-1zzg"
      },
      "source": [
        "---"
      ]
    },
    {
      "cell_type": "markdown",
      "metadata": {
        "id": "io8HOPTD1zzh"
      },
      "source": [
        "### 2. Extending Vector Algorithms: Text Classification"
      ]
    },
    {
      "cell_type": "markdown",
      "metadata": {
        "id": "WcrB6s301zzh"
      },
      "source": [
        "#### Averaging vectors"
      ]
    },
    {
      "cell_type": "markdown",
      "metadata": {
        "id": "6-EtqznO1zzh"
      },
      "source": [
        "We've seen that vectors for out of vocabulary words are obtained by splitting the word into its n-grams, getting the embedding for the n-grams, and then averaging the composition to produce the final word vector for the OOV word.\n",
        "\n",
        "\n",
        "What is best in the word2vec approach is that operations on the vectors approximately keep the characteristics of the words, so that joining (averaging) vectors from the words of a sentence produce a vector that is somewhat representative of the general topic of the sentence."
      ]
    },
    {
      "cell_type": "markdown",
      "metadata": {
        "id": "n9a8Ng8L1zzh"
      },
      "source": [
        "Therefore, the same technique used for OOV words in fastText can also be used to produce embeddings for sentences, paragraphs and even entire documents, making it possible for text classification purposes.\n",
        "\n",
        "> The goal of text classification is to assign documents (such as emails, posts, text messages, product reviews, etc...) to one or multiple categories. Such categories can be review scores, spam v.s. non-spam, or the language in which the document was typed. Nowadays, the dominant approach to build such classifiers is machine learning, that is learning classification rules from examples. In order to build such classifiers, we need labeled data, which consists of documents and their corresponding categories (or tags, or labels).\n",
        "-- [fastText documentation](https://fasttext.cc/docs/en/supervised-tutorial.html#what-is-text-classification)"
      ]
    },
    {
      "cell_type": "markdown",
      "metadata": {
        "id": "6EISoz7C1zzi"
      },
      "source": [
        "Let's see how this way of seeing sentences and documents might actually work. Consider the next dummy sentiment texts with 1 positive sentence and 1 negative sentence."
      ]
    },
    {
      "cell_type": "code",
      "execution_count": null,
      "metadata": {
        "id": "gK96Fct21zzi"
      },
      "outputs": [],
      "source": [
        "positive_sentence = 'This is some wonderful positive text'\n",
        "negative_sentence = 'This is some awful negative text'"
      ]
    },
    {
      "cell_type": "markdown",
      "metadata": {
        "id": "ZLvatHqQ1zzi"
      },
      "source": [
        "Now let's get the embeddings for every single word then average them per sentence."
      ]
    },
    {
      "cell_type": "code",
      "execution_count": null,
      "metadata": {
        "id": "Fh1ggqso1zzj",
        "colab": {
          "base_uri": "https://localhost:8080/"
        },
        "outputId": "a5942d73-36e5-46c4-888c-de3217861f20"
      },
      "outputs": [
        {
          "output_type": "stream",
          "name": "stderr",
          "text": [
            "WARNING:gensim.models.word2vec:Effective 'alpha' higher than previous training cycles\n"
          ]
        },
        {
          "output_type": "execute_result",
          "data": {
            "text/plain": [
              "array([-0.00215224,  0.00094885,  0.02042012,  0.03604614, -0.03721015,\n",
              "       -0.02847572,  0.02583951,  0.03590124, -0.02006646, -0.01506037,\n",
              "        0.02952524, -0.00614149, -0.01815323,  0.02622519, -0.01944023,\n",
              "       -0.00725902,  0.01151328,  0.00397415, -0.03314796, -0.03780028,\n",
              "        0.02925251,  0.02027978,  0.02704091,  0.00304374,  0.02541217],\n",
              "      dtype=float32)"
            ]
          },
          "metadata": {},
          "execution_count": 106
        }
      ],
      "source": [
        "documents = [positive_sentence.split(), negative_sentence.split()]\n",
        "model = gensim.models.Word2Vec(\n",
        "    documents,\n",
        "    vector_size=25,\n",
        "    window=5,\n",
        "    min_count=1,\n",
        "    workers=10\n",
        ")\n",
        "model.train(documents, total_examples=len(documents), epochs=10)\n",
        "model.wv['text']"
      ]
    },
    {
      "cell_type": "code",
      "execution_count": null,
      "metadata": {
        "id": "pdkOP7Qm1zzj"
      },
      "outputs": [],
      "source": [
        "positive_vectors = [model.wv[word]\n",
        "                    for word in positive_sentence.split()]\n",
        "negative_vectors = [model.wv[word]\n",
        "                    for word in negative_sentence.split()]"
      ]
    },
    {
      "cell_type": "code",
      "execution_count": null,
      "metadata": {
        "id": "HYNrHe_D1zzk",
        "colab": {
          "base_uri": "https://localhost:8080/"
        },
        "outputId": "715cbda2-fff8-4494-8f8e-8a1c678fc2d8"
      },
      "outputs": [
        {
          "output_type": "execute_result",
          "data": {
            "text/plain": [
              "[array([ 0.00228852,  0.02976724, -0.00325454, -0.01055341, -0.03501517,\n",
              "        -0.0034265 ,  0.01130817,  0.02160439,  0.02820985, -0.02280948,\n",
              "         0.00743682,  0.02435803, -0.01919203, -0.01243141,  0.027188  ,\n",
              "         0.00652348,  0.00075779,  0.01389321,  0.00087005,  0.03847377,\n",
              "         0.02024426, -0.03566529, -0.02816791,  0.0036077 ,  0.02557   ],\n",
              "       dtype=float32),\n",
              " array([-0.03263623,  0.01798513, -0.0165483 ,  0.00329621,  0.03400405,\n",
              "        -0.0178481 ,  0.01806691, -0.02714958, -0.01419268,  0.03759271,\n",
              "        -0.00631508,  0.00128164, -0.01656308, -0.0307305 , -0.00602735,\n",
              "         0.00988431, -0.00354992,  0.02213833, -0.01096929,  0.00904537,\n",
              "         0.0218203 ,  0.03337834, -0.00581411, -0.03683858,  0.01748238],\n",
              "       dtype=float32)]"
            ]
          },
          "metadata": {},
          "execution_count": 108
        }
      ],
      "source": [
        "positive_vectors[:2]  # first 2 words"
      ]
    },
    {
      "cell_type": "markdown",
      "metadata": {
        "id": "rMUs6fRC1zzk"
      },
      "source": [
        "And now, let's get the average vectors por positive and negative sentences."
      ]
    },
    {
      "cell_type": "code",
      "execution_count": null,
      "metadata": {
        "id": "2Efiv7Ex1zzk",
        "colab": {
          "base_uri": "https://localhost:8080/"
        },
        "outputId": "343fc0f0-b335-4fcd-8c4a-f4dd9a4e12d5"
      },
      "outputs": [
        {
          "output_type": "execute_result",
          "data": {
            "text/plain": [
              "(array([-0.0069492 , -0.00357783,  0.00214776,  0.0055265 , -0.01206394,\n",
              "        -0.01395945,  0.01714136,  0.01903339, -0.01064849,  0.00434311,\n",
              "        -0.00325626,  0.01078826, -0.02262054, -0.00438953, -0.00365624,\n",
              "        -0.0005719 ,  0.00892142, -0.00155138, -0.01043558,  0.00420114,\n",
              "         0.01099177, -0.00437469,  0.00728494, -0.00371073,  0.02004622],\n",
              "       dtype=float32),\n",
              " array([-0.01149181,  0.00664177,  0.01034109,  0.00245205,  0.00045992,\n",
              "        -0.01076844,  0.00641079,  0.01505034, -0.01157821, -0.00315121,\n",
              "         0.00539954,  0.00764825, -0.01260517,  0.00830327,  0.00553582,\n",
              "         0.00520617,  0.00466645, -0.00025446, -0.01289895, -0.00084395,\n",
              "         0.01851692, -0.00116359,  0.00981589, -0.00727625,  0.02326994],\n",
              "       dtype=float32))"
            ]
          },
          "metadata": {},
          "execution_count": 109
        }
      ],
      "source": [
        "positive_vector = np.mean(positive_vectors, axis=0)\n",
        "negative_vector = np.mean(negative_vectors, axis=0)\n",
        "positive_vector, negative_vector"
      ]
    },
    {
      "cell_type": "markdown",
      "metadata": {
        "id": "jGT7Uuc91zzl"
      },
      "source": [
        "We can now run the same process for a couple of test sentences and see if their sentence vectors are similar to the positive or the negative one."
      ]
    },
    {
      "cell_type": "code",
      "execution_count": null,
      "metadata": {
        "id": "ei42XVF-1zzl",
        "colab": {
          "base_uri": "https://localhost:8080/"
        },
        "outputId": "142f14f9-2fd0-40bd-a4df-7fa4e880f718"
      },
      "outputs": [
        {
          "output_type": "stream",
          "name": "stdout",
          "text": [
            "This is awful\n",
            "\tSimilarity to positive sentence 0.21057273\n",
            "\tSimilarity to negative sentence 0.4531034\n",
            "This is wonderful\n",
            "\tSimilarity to positive sentence 0.67155784\n",
            "\tSimilarity to negative sentence 0.58288753\n"
          ]
        }
      ],
      "source": [
        "from sklearn.metrics.pairwise import cosine_similarity\n",
        "\n",
        "for test_sentence in ('This is awful', 'This is wonderful'):\n",
        "    test_vector = np.mean([model.wv[word] for word in test_sentence.split()], axis=0)\n",
        "    print(test_sentence)\n",
        "    print('\\tSimilarity to positive sentence',\n",
        "          cosine_similarity(positive_vector.reshape(1, -1), test_vector.reshape(1, -1))[0][0])\n",
        "    print('\\tSimilarity to negative sentence',\n",
        "          cosine_similarity(negative_vector.reshape(1, -1), test_vector.reshape(1, -1))[0][0])"
      ]
    },
    {
      "cell_type": "markdown",
      "metadata": {
        "id": "0cVe0ceM1zzl"
      },
      "source": [
        "Although this approach seems naive, it's still part of the way fastText does its text classification. Moreover, it uses a shallow neural network and ideas similar to CBOW but for word n-grams. The result, which rivals state-of-the-art text classification techniques based on deep learning for certain cases, runs several orders of magtinude faster."
      ]
    },
    {
      "cell_type": "code",
      "source": [
        "del model"
      ],
      "metadata": {
        "id": "ZyVdlEJ4SpE7"
      },
      "execution_count": null,
      "outputs": []
    },
    {
      "cell_type": "markdown",
      "metadata": {
        "id": "c1zhTweV1zzm"
      },
      "source": [
        "#### Doc2Vec"
      ]
    },
    {
      "cell_type": "markdown",
      "metadata": {
        "id": "0Y9z5WTm1zzm"
      },
      "source": [
        "In Gensim, this functionality is under `gensim.models.Doc2Vec`, and it uses a slightly different approach based on Word2Vec, the *Paragraph Vector*, where the model learns to correlate labels and words, rather than words with other words.\n",
        "\n",
        "> The idea is straightforward: we act as if a paragraph (or document) is just another vector like a word vector, but we will call it a paragraph vector. We determine the embedding of the paragraph in vector space in the same way as words. Our paragraph vector model considers local word order like bag of n-grams, but gives us a denser representation in vector space compared to a sparse, high-dimensional representation. -- [RaRe Technologies](http://nbviewer.jupyter.org/github/RaRe-Technologies/gensim/blob/develop/docs/notebooks/doc2vec-IMDB.ipynb#Paragraph-Vector)\n",
        "\n",
        "The first step is coming up with a vector that represents the *meaning* of a document, which can then be used as input to a supervised machine learning algorithm to associate documents with labels. There are 2 flavors that are roughly the equivalents of CBOW and Skip-gram. In the **Paragraph Vector Distributed Memory (PV-DM)** model, analogous to CBOW Word2vec, the paragraph vectors are obtained by training a neural network on the fake task of inferring a center word based on context words and a context paragraph. A paragraph is a context for all words in the paragraph, and a word in a paragraph can have that paragraph as a context. In the **Paragraph Vector Distributed Bag of Words (PV-DBOW)** model, analogous to Skip-gram Word2vec, the paragraph vectors are obtained by training a neural network on the fake task of predicting a probability distribution of words in a paragraph given a randomly-sampled word from the paragraph.\n",
        "\n",
        "Doc2Vec, which considers blocks of texts and units, has built-in support for the equivalent for CBOW as *distributed memory* (`dm`), and *distributed bag of words* (`dbow`) for Skip-gram. Since the distributed memory model performed noticeably better in the paper, that algorithm is the default when running Doc2Vec. You can still force the `dbow` model if you wish, by using the `dm=0` flag in constructor."
      ]
    },
    {
      "cell_type": "markdown",
      "metadata": {
        "id": "zZn5Y-B41zzm"
      },
      "source": [
        "Let's now see an example where we aim to build a classifier for Jane Austen and G.K. Chesterton's works, where each work is assigned a label or tag with its author. Let's also suppose we don't know who the author for Austen's *Emma* was but we know for sure that is either Austen or Chesterton. One way to approach this is by making building a classifier to predict a label or tag for the unseen anonymous work so we can see who the classifier thinks the work belongs to. This is, with some licenses, a very basic instance of authorship attribution.\n",
        "\n",
        "We start by obtaining the total number of words and sentences for all their works in the NLTK's Gutenberg corpus and consider that to be all the works that they ever wrote."
      ]
    },
    {
      "cell_type": "code",
      "execution_count": null,
      "metadata": {
        "id": "iQEk6b1P1zzn",
        "colab": {
          "base_uri": "https://localhost:8080/"
        },
        "outputId": "a8666bf6-4b19-4ef2-e3ec-d2d2c8c97d91"
      },
      "outputs": [
        {
          "output_type": "stream",
          "name": "stdout",
          "text": [
            "austen-emma.txt             192427 words  7752 sentences\n",
            "austen-persuasion.txt        98171 words  3747 sentences\n",
            "austen-sense.txt            141576 words  4999 sentences\n",
            "chesterton-ball.txt          96996 words  4779 sentences\n",
            "chesterton-brown.txt         86063 words  3806 sentences\n",
            "chesterton-thursday.txt      69213 words  3742 sentences\n"
          ]
        }
      ],
      "source": [
        "works = ['austen-emma.txt', 'austen-persuasion.txt', 'austen-sense.txt',\n",
        "         'chesterton-ball.txt', 'chesterton-brown.txt', 'chesterton-thursday.txt']\n",
        "for work in works:\n",
        "    print(\"{:25} {:8} words {:5} sentences\".format(\n",
        "        work,\n",
        "        len(nltk.corpus.gutenberg.words(work)),\n",
        "        len(nltk.corpus.gutenberg.sents(work)))\n",
        "    )"
      ]
    },
    {
      "cell_type": "markdown",
      "metadata": {
        "id": "9uyUNo4l1zzn"
      },
      "source": [
        "By removing *Emma* from our list of works, we roughly have the same amount of words per author, which should alleviate the class imbalance issue.\n",
        "\n",
        "| Austen's Work          | Words    | Sentences  |\n",
        "| ---------------------- |:--------:| ----------:|\n",
        "| austen-persuasion.txt  |  98171   |  3747      |\n",
        "| austen-sense.txt       |  141576  |  4999      |\n",
        "| **Total**              |**239747**|**8746**    |    \n",
        "\n",
        "| chesterton's Work      | Words    | Sentences  |\n",
        "| ---------------------- |:--------:| ----------:|\n",
        "| chesterton-ball.txt    |  96996   |  4779      |\n",
        "| chesterton-brown.txt   |  86063   |  3806      |\n",
        "| chesterton-thursday.txt|  69213   |  3742      |\n",
        "| **Total**              |**252272**|**12327**   |    \n",
        "\n"
      ]
    },
    {
      "cell_type": "markdown",
      "metadata": {
        "id": "aNWIFAq-1zzn"
      },
      "source": [
        "Gensim provides a couple of classes to encode sentences and entire documents: `LabeledSentence()` and `TaggedDocument()`, respectively. While their operation is very similar, the former is intended for short texts and sentences, while the latter performs better for large chunks of text.\n",
        "\n",
        "Once we have the words from our corpus of works, let's create instances of each of them as `TaggedDocument`s by passing the list of words and the label or tag. We will use the label `anonymous` for Austen's *Emma*. Similarly, we could have built `documents` to have a list of sentences instead and then predict the proportion of sentences in Austen's *Emma* properly assigned to her."
      ]
    },
    {
      "cell_type": "code",
      "execution_count": null,
      "metadata": {
        "id": "m7c9UpDe1zzo"
      },
      "outputs": [],
      "source": [
        "from gensim.models.doc2vec import TaggedDocument\n",
        "    \n",
        "documents = [\n",
        "    TaggedDocument(\n",
        "        words=nltk.corpus.gutenberg.words('austen-persuasion.txt'),\n",
        "        tags=['austen']),\n",
        "    TaggedDocument(\n",
        "        words=nltk.corpus.gutenberg.words('austen-sense.txt'),\n",
        "        tags=['austen']),\n",
        "    TaggedDocument(\n",
        "        words=nltk.corpus.gutenberg.words('chesterton-ball.txt'),\n",
        "        tags=['chesterton']),\n",
        "    TaggedDocument(\n",
        "        words=nltk.corpus.gutenberg.words('chesterton-brown.txt'),\n",
        "        tags=['chesterton']),\n",
        "    TaggedDocument(\n",
        "        words=nltk.corpus.gutenberg.words('chesterton-thursday.txt'),\n",
        "        tags=['chesterton']),\n",
        "    TaggedDocument(\n",
        "        words=nltk.corpus.gutenberg.words('austen-emma.txt'),\n",
        "        tags=['anonymous']),\n",
        "]"
      ]
    },
    {
      "cell_type": "markdown",
      "metadata": {
        "id": "HOOmPQ421zzo"
      },
      "source": [
        "Now, it's time to initialize a `Doc2Vec()` model with some learning rate `alpha`, build the vocabulary from our list of works, and start training over a number of epochs, 10 in this case. The values for `total_examples` and `epochs` are the default ones, although for some reason `Dov2Vec()` forces you to pass them in explicitly: `total_examples=model.corpus_count` and `epochs=model.epochs`."
      ]
    },
    {
      "cell_type": "code",
      "execution_count": null,
      "metadata": {
        "id": "PcWNNj0e1zzo",
        "colab": {
          "base_uri": "https://localhost:8080/"
        },
        "outputId": "4f8089c2-5be5-438a-8f87-7dbd6bec5e20"
      },
      "outputs": [
        {
          "output_type": "stream",
          "name": "stderr",
          "text": [
            "Epochs:  10%|█         | 1/10 [00:02<00:19,  2.18s/it]WARNING:gensim.models.word2vec:Effective 'alpha' higher than previous training cycles\n",
            "Epochs:  20%|██        | 2/10 [00:04<00:16,  2.03s/it]WARNING:gensim.models.word2vec:Effective 'alpha' higher than previous training cycles\n",
            "Epochs:  30%|███       | 3/10 [00:05<00:13,  1.90s/it]WARNING:gensim.models.word2vec:Effective 'alpha' higher than previous training cycles\n",
            "Epochs:  40%|████      | 4/10 [00:07<00:10,  1.83s/it]WARNING:gensim.models.word2vec:Effective 'alpha' higher than previous training cycles\n",
            "Epochs:  50%|█████     | 5/10 [00:09<00:08,  1.79s/it]WARNING:gensim.models.word2vec:Effective 'alpha' higher than previous training cycles\n",
            "Epochs:  60%|██████    | 6/10 [00:10<00:07,  1.76s/it]WARNING:gensim.models.word2vec:Effective 'alpha' higher than previous training cycles\n",
            "Epochs:  70%|███████   | 7/10 [00:12<00:05,  1.74s/it]WARNING:gensim.models.word2vec:Effective 'alpha' higher than previous training cycles\n",
            "Epochs:  80%|████████  | 8/10 [00:14<00:03,  1.82s/it]WARNING:gensim.models.word2vec:Effective 'alpha' higher than previous training cycles\n",
            "Epochs:  90%|█████████ | 9/10 [00:16<00:01,  1.95s/it]WARNING:gensim.models.word2vec:Effective 'alpha' higher than previous training cycles\n",
            "Epochs: 100%|██████████| 10/10 [00:19<00:00,  1.90s/it]\n"
          ]
        }
      ],
      "source": [
        "from gensim.models import Doc2Vec\n",
        "\n",
        "model = Doc2Vec(min_count=0)\n",
        "model.build_vocab(documents)\n",
        "for epoch in tqdm(range(10), desc='Epochs'):\n",
        "    model.train(documents, total_examples=model.corpus_count, epochs=model.epochs)"
      ]
    },
    {
      "cell_type": "markdown",
      "metadata": {
        "id": "bjwFLZcR1zzp"
      },
      "source": [
        "Once the model has been fit to out corpus, we have available the usual functions from word2vec but for documents, `docs2vec`. Let's see, from our list of tags that represent the authors of the works, which one is more similar to."
      ]
    },
    {
      "cell_type": "code",
      "execution_count": null,
      "metadata": {
        "id": "Spxe6yEl1zzp",
        "colab": {
          "base_uri": "https://localhost:8080/",
          "height": 70
        },
        "outputId": "470ed78d-8d70-4232-b670-ad92c64adc81"
      },
      "outputs": [
        {
          "output_type": "stream",
          "name": "stderr",
          "text": [
            "<ipython-input-115-10af3ee2beaf>:1: DeprecationWarning: Call to deprecated `docvecs` (The `docvecs` property has been renamed `dv`.).\n",
            "  model.docvecs.most_similar_to_given('anonymous', ['austen', 'chesterton'])\n"
          ]
        },
        {
          "output_type": "execute_result",
          "data": {
            "text/plain": [
              "'austen'"
            ],
            "application/vnd.google.colaboratory.intrinsic+json": {
              "type": "string"
            }
          },
          "metadata": {},
          "execution_count": 115
        }
      ],
      "source": [
        "model.docvecs.most_similar_to_given('anonymous', ['austen', 'chesterton'])"
      ]
    },
    {
      "cell_type": "markdown",
      "metadata": {
        "id": "6ekO3GN01zzq"
      },
      "source": [
        "Finally, let's compute similarity and distance from Austen's Emma (`anonymous`) to the vectors that represent Jane Austen and Chesterton."
      ]
    },
    {
      "cell_type": "code",
      "execution_count": null,
      "metadata": {
        "id": "uzfHDY7G1zzq",
        "colab": {
          "base_uri": "https://localhost:8080/"
        },
        "outputId": "7159d683-c5d5-47f8-ca69-cec7ed396378"
      },
      "outputs": [
        {
          "output_type": "stream",
          "name": "stdout",
          "text": [
            "austen\n",
            "\tSimilarity 0.46848026\n",
            "\tDistance 0.531519740819931\n",
            "chesterton\n",
            "\tSimilarity 0.34440815\n",
            "\tDistance 0.6555918455123901\n"
          ]
        },
        {
          "output_type": "stream",
          "name": "stderr",
          "text": [
            "<ipython-input-116-1acd56991ffb>:3: DeprecationWarning: Call to deprecated `docvecs` (The `docvecs` property has been renamed `dv`.).\n",
            "  print(\"\\tSimilarity\", model.docvecs.similarity('anonymous', author))\n",
            "<ipython-input-116-1acd56991ffb>:4: DeprecationWarning: Call to deprecated `docvecs` (The `docvecs` property has been renamed `dv`.).\n",
            "  print(\"\\tDistance\", model.docvecs.distance('anonymous', author))\n"
          ]
        }
      ],
      "source": [
        "for author in ('austen', 'chesterton'):\n",
        "    print(author)\n",
        "    print(\"\\tSimilarity\", model.docvecs.similarity('anonymous', author))\n",
        "    print(\"\\tDistance\", model.docvecs.distance('anonymous', author))    "
      ]
    },
    {
      "cell_type": "code",
      "source": [
        "del model"
      ],
      "metadata": {
        "id": "XDKUxjm1UFRk"
      },
      "execution_count": null,
      "outputs": []
    },
    {
      "cell_type": "markdown",
      "metadata": {
        "id": "ss95an0k1zzq"
      },
      "source": [
        "Of course, there are many interpretations of this and it's, by no means, the best way to tackle the problem of authorship attribution. However, it gives a sense of how extending ideas from word2vec can be leveraged to other problems."
      ]
    },
    {
      "cell_type": "markdown",
      "metadata": {
        "id": "HdXr38yG1zzr"
      },
      "source": [
        "Using the example code given for fastText text clasification, let's replicate the Austen and Chesterton classifier.\n",
        "\n",
        "We can use a sentence level approach, holding 25% of all sentences for testing and assessing the performance.Once the model has been fit, we can use it to predict the percentage of sentences from Austen's *Emma* that fall to either Austen or Chesterton."
      ]
    },
    {
      "cell_type": "code",
      "source": [
        "#- 1. Build the list of sentences, prefixing each one with __label__author\n",
        "texts = []\n",
        "for work in works:\n",
        "    for sent in nltk.corpus.gutenberg.sents(work):\n",
        "        if 'emma' not in work:  # Our anonymous work!\n",
        "            author = work.split('-')[0]\n",
        "            sentence = ' '.join(sent)\n",
        "            texts.append(f\"__label__{author} {sentence}\")\n",
        "\n",
        "#- 2. Randomly split the list in training and testing\n",
        "training_size = int(np.floor(len(texts) * 0.75))\n",
        "np.random.shuffle(texts)\n",
        "training, testing = texts[:training_size], texts[training_size:]\n",
        "\n",
        "#- 3. Get the texts from the training and testing lists\n",
        "training_text = '\\n'.join(training).strip()\n",
        "testing_text = '\\n'.join(testing).strip()\n",
        "\n",
        "#- 4. Create the temporary files so fastText can read them \n",
        "with open('author_train.txt', 'w', encoding=\"utf8\") as f:\n",
        "    f.write(training_text)\n",
        "with open('author_test.txt', 'w', encoding=\"utf8\") as f:\n",
        "    f.write(testing_text)\n",
        "\n",
        "#- 5. Build a classifier and test it on the testing sentences\n",
        "classifier = fasttext.train_supervised('author_train.txt')\n",
        "support, precision, recall = classifier.test('author_test.txt')\n",
        "print('Precision:', precision)\n",
        "print('Recall:', recall)\n",
        "print('Number of sentences:', support)\n",
        "\n",
        "#- 6. For each sentence in Austen's Emma, predict its author\n",
        "emma_sentences = [' '.join(sent)\n",
        "                  for sent in nltk.corpus.gutenberg.sents('austen-emma.txt')]\n",
        "predictions = classifier.predict(emma_sentences)\n",
        "\n",
        "#- 7. Print the percentage of sentences from Austen' Emma associated to each author\n",
        "authors, counts = np.unique(predictions[0], return_counts=True)\n",
        "counts = counts / sum(counts)\n",
        "print()\n",
        "print(\"Predicting Austen's Emma's sentences\")\n",
        "for author, percentage in zip(*[authors, counts]):\n",
        "    print(f\"{author.capitalize()} accounts for {100*percentage:.2f}% of sentences.\")"
      ],
      "metadata": {
        "id": "E37vWPYtcmrC",
        "colab": {
          "base_uri": "https://localhost:8080/"
        },
        "outputId": "ec67dc77-a935-43d4-ad5f-67dc33d5968a"
      },
      "execution_count": null,
      "outputs": [
        {
          "output_type": "stream",
          "name": "stdout",
          "text": [
            "Precision: 0.9081419624217119\n",
            "Recall: 0.9081419624217119\n",
            "Number of sentences: 5269\n",
            "\n",
            "Predicting Austen's Emma's sentences\n",
            "__label__austen accounts for 80.91% of sentences.\n",
            "__label__chesterton accounts for 19.09% of sentences.\n"
          ]
        }
      ]
    },
    {
      "cell_type": "markdown",
      "metadata": {
        "id": "we0E0bUUlIZn"
      },
      "source": [
        "## BERT: contextual vectors and transfer learning"
      ]
    },
    {
      "cell_type": "markdown",
      "metadata": {
        "id": "sMk0Y5J3-asb"
      },
      "source": [
        "One of the problems with static word vectors is that they assign the same vector regardless of the context in which they are used. In the following examples, the word `run` will exhibit ambiguity:\n",
        "\n",
        "> I need to go for a <u>_run_</u> in the park.\n",
        "\n",
        "> The faucet is leaking. Can you fix the <u>_run_</u>?\n",
        "\n",
        "> The candidate decided to <u>_run_</u> for president.\n",
        "\n",
        "Therefore, it is worth asking what kind of semantics these models truly capture."
      ]
    },
    {
      "cell_type": "code",
      "metadata": {
        "id": "0U7p3NudIX9B"
      },
      "source": [
        "from gensim.models.fasttext import load_facebook_vectors\n",
        "\n",
        "english_oov_wv = load_facebook_vectors(\"wiki.simple.bin\")\n",
        "english_oov_wv[\"run\"]\n",
        "del english_oov_wv"
      ],
      "execution_count": null,
      "outputs": []
    },
    {
      "cell_type": "markdown",
      "metadata": {
        "id": "Rzt1wRREFrPA"
      },
      "source": [
        "\n",
        "<div align=\"center\">\n",
        "\n",
        "![](http://jalammar.github.io/images/transformer-ber-ulmfit-elmo.png)\n",
        "\n",
        "</div>"
      ]
    },
    {
      "cell_type": "markdown",
      "metadata": {
        "id": "LV_zEyt_FIrP"
      },
      "source": [
        "A possible solution to this problem was introduced with the ULM-FiT and ELMo models, although it would become popular with the BERT type models."
      ]
    },
    {
      "cell_type": "markdown",
      "metadata": {
        "id": "u3snHGJ-GyoN"
      },
      "source": [
        "<div align=center>\n",
        "\n",
        "![](http://jalammar.github.io/images/elmo-embedding-robin-williams.png)\n",
        "\n",
        "</div>"
      ]
    },
    {
      "cell_type": "markdown",
      "metadata": {
        "id": "8L-zBE5aIpeN"
      },
      "source": [
        "In order to learn which words tend to be in the neighborhood of others, BERT models randomly hide a percentage of the words in the training corpus, and the neural network aims to try to predict which word is missing. That is, it is the typical task fill in the blanks.\n",
        "\n",
        "> I need to go for a <u>_____</u> in the park.\n",
        "\n",
        "> The faucet is leaking. Can you fix the <u>_____</u>?\n",
        "\n",
        "> The candidate decided to <u>_____</u> for president.\n",
        "\n",
        "When the model is trained on a large enough corpus, it ends up learning what the contexts of the words are and how they are used. In this way, the 3 versions of `run` above would give rise to 3 different word vectors."
      ]
    },
    {
      "cell_type": "code",
      "metadata": {
        "id": "URCqYLbaOg1X",
        "colab": {
          "base_uri": "https://localhost:8080/",
          "height": 249,
          "referenced_widgets": [
            "e902fcef85b94312a634376259692b56",
            "f0012376e32e42d4a9783dde8700b290",
            "8d2401e1c8f6441684747e59d5c61957",
            "44e768cbf8264ab08989ec0ee64bc446",
            "76c2121a55d14f7cad506cc64442cb8b",
            "01e0f06f4edb4cc4ab4674feb6d56574",
            "09e6970f89454a31b2a33c982260fb67",
            "bbac940bd1dc49c6a9352236968c406b",
            "39c7f309e6484168906125429c40ac99",
            "e53b62b2aef84185acea4408f900bfab",
            "b9d866d1b56440ff918d96048907c849",
            "7c32b2d83b9342e68352b77f7169bae4",
            "2f870063b0464507a219edbe6fc375eb",
            "235c3bce588a432486dcfb28678e32fa",
            "700fc29fb57c47ee837e88fcf9782f69",
            "7d306b19b8384f88bbf35cc520baff9e",
            "3ef800ef7c5046eabda36ec71f59af47",
            "ba74a27201e149f6b91fb47422d62dc7",
            "039fc29375c14a00b03490f0a9dd3de1",
            "7967fe5f5d3f489195add0d27b9c6014",
            "6d2e6aabf5ee4f1aad7013319c631fbc",
            "2565ca37025d4c91a3d77e7ffc4b5a51",
            "7fc10581708b4b02bf6918c1e45d6d75",
            "5c6ed6a2f9404897afcda5ab5384b0bc",
            "fac8ce1e5fad4f6c80a0c5fc5528d72b",
            "a86d26a59be8431899bf16abd9b33575",
            "b2a18a2ebb6148c282b7522b5c6f8ce0",
            "ba197289881a4cc999a50ce73e7ae134",
            "9386bd50d78b4d8e90a9f1a5e367a122",
            "274735ca6b5848029354ed365fd257df",
            "4227f6cec71542db94b97160046b7912",
            "0f77e57230c44c94809041bf66c24dd4",
            "a3ed69bc22d844bab8ce4bd72d40d678",
            "8df6aa535ef54c88871a045030def4ce",
            "ba83898446c74e7ab29636d7b6c082cf",
            "bd1a053bb3424c6b8fbceee23a5a9543",
            "fe9f575e386f4948a4d94265639aa017",
            "0dea924f6e3644f28e3ab0bfcfa6d1c5",
            "0f53ed7ede0f4d8e8f783584333e9ccb",
            "22b60375eab34f82966655837489f68f",
            "47772c920e214de995a5994f07510b30",
            "6c02f8c6c250401087ba57f214c57f49",
            "449da851d2c14d0387450fa18fcfccb5",
            "57225195f7694ac3a5221c3ec1dafe97",
            "6c5bc244e37242f9af9f008308ec862f",
            "89154aec6dc3448b9548303fa761ef57",
            "a168b53fd0b54d60857f35117f6a5142",
            "9297839d88824978b6f88b6136b77b1d",
            "596db092c72c4afd8aba24834a41615f",
            "1f86d04359bb43eab0740dcb8461c9ee",
            "17b7fad3dbe14114a1c0fac9b4b24d22",
            "d7b92885e9474209821e080cf9b10665",
            "b30ca5ac4f0741a6adfa12488619075a",
            "a80204a5058e4c528818dfb9d429f83a",
            "ae6d9faa59b942248aff9d334a42ae86"
          ]
        },
        "outputId": "26297df1-2d0b-440a-bd01-1015c1eebfb7"
      },
      "source": [
        "import transformers\n",
        "from transformers import pipeline\n",
        "\n",
        "extractor = pipeline(\"feature-extraction\", model=\"distilbert-base-cased\")"
      ],
      "execution_count": null,
      "outputs": [
        {
          "output_type": "display_data",
          "data": {
            "text/plain": [
              "Downloading (…)lve/main/config.json:   0%|          | 0.00/411 [00:00<?, ?B/s]"
            ],
            "application/vnd.jupyter.widget-view+json": {
              "version_major": 2,
              "version_minor": 0,
              "model_id": "e902fcef85b94312a634376259692b56"
            }
          },
          "metadata": {}
        },
        {
          "output_type": "display_data",
          "data": {
            "text/plain": [
              "Downloading pytorch_model.bin:   0%|          | 0.00/263M [00:00<?, ?B/s]"
            ],
            "application/vnd.jupyter.widget-view+json": {
              "version_major": 2,
              "version_minor": 0,
              "model_id": "7c32b2d83b9342e68352b77f7169bae4"
            }
          },
          "metadata": {}
        },
        {
          "output_type": "stream",
          "name": "stderr",
          "text": [
            "Some weights of the model checkpoint at distilbert-base-cased were not used when initializing DistilBertModel: ['vocab_layer_norm.bias', 'vocab_layer_norm.weight', 'vocab_transform.weight', 'vocab_transform.bias', 'vocab_projector.weight', 'vocab_projector.bias']\n",
            "- This IS expected if you are initializing DistilBertModel from the checkpoint of a model trained on another task or with another architecture (e.g. initializing a BertForSequenceClassification model from a BertForPreTraining model).\n",
            "- This IS NOT expected if you are initializing DistilBertModel from the checkpoint of a model that you expect to be exactly identical (initializing a BertForSequenceClassification model from a BertForSequenceClassification model).\n"
          ]
        },
        {
          "output_type": "display_data",
          "data": {
            "text/plain": [
              "Downloading (…)okenizer_config.json:   0%|          | 0.00/29.0 [00:00<?, ?B/s]"
            ],
            "application/vnd.jupyter.widget-view+json": {
              "version_major": 2,
              "version_minor": 0,
              "model_id": "7fc10581708b4b02bf6918c1e45d6d75"
            }
          },
          "metadata": {}
        },
        {
          "output_type": "display_data",
          "data": {
            "text/plain": [
              "Downloading (…)solve/main/vocab.txt:   0%|          | 0.00/213k [00:00<?, ?B/s]"
            ],
            "application/vnd.jupyter.widget-view+json": {
              "version_major": 2,
              "version_minor": 0,
              "model_id": "8df6aa535ef54c88871a045030def4ce"
            }
          },
          "metadata": {}
        },
        {
          "output_type": "display_data",
          "data": {
            "text/plain": [
              "Downloading (…)/main/tokenizer.json:   0%|          | 0.00/436k [00:00<?, ?B/s]"
            ],
            "application/vnd.jupyter.widget-view+json": {
              "version_major": 2,
              "version_minor": 0,
              "model_id": "6c5bc244e37242f9af9f008308ec862f"
            }
          },
          "metadata": {}
        }
      ]
    },
    {
      "cell_type": "markdown",
      "metadata": {
        "id": "TVN6NjywS4Tc"
      },
      "source": [
        "How do these BERT models tokenize?"
      ]
    },
    {
      "cell_type": "code",
      "metadata": {
        "id": "ligPVwqRR6T8",
        "colab": {
          "base_uri": "https://localhost:8080/"
        },
        "outputId": "f2c05543-61ea-4bc6-b6d6-13863a5d7103"
      },
      "source": [
        "from transformers import AutoTokenizer\n",
        "\n",
        "tokenizer = AutoTokenizer.from_pretrained(\"distilbert-base-cased\")\n",
        "tokenizer(\"I need to go for a run in the park\")"
      ],
      "execution_count": null,
      "outputs": [
        {
          "output_type": "execute_result",
          "data": {
            "text/plain": [
              "{'input_ids': [101, 146, 1444, 1106, 1301, 1111, 170, 1576, 1107, 1103, 2493, 102], 'attention_mask': [1, 1, 1, 1, 1, 1, 1, 1, 1, 1, 1, 1]}"
            ]
          },
          "metadata": {},
          "execution_count": 121
        }
      ]
    },
    {
      "cell_type": "code",
      "metadata": {
        "id": "EaZUaVsqTSfx",
        "colab": {
          "base_uri": "https://localhost:8080/"
        },
        "outputId": "1eb1c4ed-4976-4b14-e1a9-4c92e72c5b1b"
      },
      "source": [
        "tokenizer.tokenize(\"I need to go for a run in the park\")"
      ],
      "execution_count": null,
      "outputs": [
        {
          "output_type": "execute_result",
          "data": {
            "text/plain": [
              "['I', 'need', 'to', 'go', 'for', 'a', 'run', 'in', 'the', 'park']"
            ]
          },
          "metadata": {},
          "execution_count": 122
        }
      ]
    },
    {
      "cell_type": "markdown",
      "metadata": {
        "id": "LQnAFtVWS8je"
      },
      "source": [
        "Veamos entonces el vector asociado al token correspondiente"
      ]
    },
    {
      "cell_type": "code",
      "metadata": {
        "id": "XphM0CpPOwF3",
        "colab": {
          "base_uri": "https://localhost:8080/"
        },
        "outputId": "6d1c55fb-5d34-498f-a0c5-939f665adef7"
      },
      "source": [
        "extractor(\"I need to go for a run in the park\", return_hidden_states=True)[-1][-4][:5]"
      ],
      "execution_count": null,
      "outputs": [
        {
          "output_type": "execute_result",
          "data": {
            "text/plain": [
              "[0.2964971959590912,\n",
              " 0.2585686445236206,\n",
              " -0.36482441425323486,\n",
              " -0.22542567551136017,\n",
              " 0.18381059169769287]"
            ]
          },
          "metadata": {},
          "execution_count": 123
        }
      ]
    },
    {
      "cell_type": "code",
      "metadata": {
        "id": "lJN-SR6DPqpA",
        "colab": {
          "base_uri": "https://localhost:8080/"
        },
        "outputId": "f8587d82-1cec-4b0c-e2c2-961d93e061ac"
      },
      "source": [
        "extractor(\"The faucet is leaking. Can you fix the run?\", return_hidden_states=True)[-1][-2][:5]"
      ],
      "execution_count": null,
      "outputs": [
        {
          "output_type": "execute_result",
          "data": {
            "text/plain": [
              "[0.3919451832771301,\n",
              " 0.018219243735074997,\n",
              " 0.23800000548362732,\n",
              " 0.2178708165884018,\n",
              " 0.0613589733839035]"
            ]
          },
          "metadata": {},
          "execution_count": 124
        }
      ]
    },
    {
      "cell_type": "code",
      "metadata": {
        "id": "h6BUcqkRPhDU",
        "colab": {
          "base_uri": "https://localhost:8080/"
        },
        "outputId": "cdc090eb-d0ee-40a2-c0de-584793d8f93b"
      },
      "source": [
        "extractor(\"The candidate decided to run for president\", return_hidden_states=True)[-1][-3][:5]"
      ],
      "execution_count": null,
      "outputs": [
        {
          "output_type": "execute_result",
          "data": {
            "text/plain": [
              "[-0.2568860948085785,\n",
              " 0.38348695635795593,\n",
              " -0.2592836618423462,\n",
              " -0.05258405953645706,\n",
              " 0.24137955904006958]"
            ]
          },
          "metadata": {},
          "execution_count": 125
        }
      ]
    },
    {
      "cell_type": "markdown",
      "metadata": {
        "id": "UrqLgsmvOBVG"
      },
      "source": [
        "Based on these context vectors, BERT models are able to adjust to different tasks through a technique called transfer learning. The main idea is that the model is pre-trained on a massive corpus and the different vectors for each word according to its context maintain certain semantic properties common to the language. The tuning process consists of adapting those vectors using a corpus built for a specific task, normally adding an extra layer (head or _head_) to the BERT model so that it makes the appropriate association and produces the expected output."
      ]
    },
    {
      "cell_type": "markdown",
      "metadata": {
        "id": "BqQojLjYJvYa"
      },
      "source": [
        "<div align=center>\n",
        "\n",
        "![](http://jalammar.github.io/images/BERT-language-modeling-masked-lm.png)\n",
        "\n",
        "</div>"
      ]
    },
    {
      "cell_type": "markdown",
      "metadata": {
        "id": "Xt0m9uqRmDRD"
      },
      "source": [
        "## Pre-trained models and text classification"
      ]
    },
    {
      "cell_type": "markdown",
      "metadata": {
        "id": "H5FJZUPzNyTy"
      },
      "source": [
        "In the code above we have used a model called `distilbert-base-cased`, which is a compact and less precise version of a generic English BERT model. There are many generic models for different languages and monolinguals that work better or worse depending on the task, and there are even BERT models already adapted to specific tasks so that you just have to \"plug and go\"."
      ]
    },
    {
      "cell_type": "markdown",
      "metadata": {
        "id": "N0tSbQAWQh1-"
      },
      "source": [
        "One of the tasks for which these models are usually very good is classification, in its broadest sense. Let's see how to adjust (_fine-tune_) an existing model to a specific task. For example, let's imagine that we have extracts of text that we know belong to works written by Austen, and another series of extracts that belong to works written by Chesterton. Let's also imagine that we have a series of extracts that we know belong to one of the two works but we don't know which one. The idea is to train a model on the extracts that we know and use it to predict who owns each of the extracts for which we do not know their origin."
      ]
    },
    {
      "cell_type": "code",
      "execution_count": null,
      "metadata": {
        "id": "Z_yaTPG1Jrge"
      },
      "outputs": [],
      "source": [
        "import nltk\n",
        "\n",
        "austen = \"\\n\".join([\n",
        "    nltk.corpus.gutenberg.raw('austen-persuasion.txt'),\n",
        "    nltk.corpus.gutenberg.raw('austen-sense.txt'),\n",
        "])\n",
        "chesterton = \"\\n\".join([\n",
        "    nltk.corpus.gutenberg.raw('chesterton-ball.txt'),\n",
        "    nltk.corpus.gutenberg.raw('chesterton-brown.txt'),\n",
        "    nltk.corpus.gutenberg.raw('chesterton-thursday.txt'),\n",
        "])\n",
        "anonymous = nltk.corpus.gutenberg.raw('austen-emma.txt')"
      ]
    },
    {
      "cell_type": "markdown",
      "metadata": {
        "id": "8pm5cr5cRHzz"
      },
      "source": [
        "In our case we will use extracts from various works by to create a labeled data set to use to fit a BERT model. Since the BERT models are only capable of operating with inputs of 512 tokens (something similar to words), we will split each work into 250-word extracts."
      ]
    },
    {
      "cell_type": "code",
      "execution_count": null,
      "metadata": {
        "id": "7MUrea4BKqU5"
      },
      "outputs": [],
      "source": [
        "def get_chunks(text, words_per_chunk=250):\n",
        "    \"\"\"Splits text in chunks of words_per_chunk words\"\"\"\n",
        "    splits = text.split()\n",
        "    return [splits[i:i + words_per_chunk] for i in range(0, len(splits), words_per_chunk)]\n",
        "\n",
        "austen_chunks = get_chunks(austen)\n",
        "chesterton_chunks = get_chunks(chesterton)\n",
        "anonymous_chunks = get_chunks(anonymous)"
      ]
    },
    {
      "cell_type": "markdown",
      "metadata": {
        "id": "RNo9qj7ER6Sw"
      },
      "source": [
        "Now we will build a table (`DataFrame`) with the texts of each extract and a second column indicating whether they belong to Austen's work with a 1 or Chesterton's with a 0."
      ]
    },
    {
      "cell_type": "code",
      "execution_count": null,
      "metadata": {
        "id": "pWttdUdAki-D",
        "colab": {
          "base_uri": "https://localhost:8080/"
        },
        "outputId": "22a454e8-19de-4264-d255-b20f3231b49c"
      },
      "outputs": [
        {
          "output_type": "execute_result",
          "data": {
            "text/plain": [
              "(808, 845)"
            ]
          },
          "metadata": {},
          "execution_count": 128
        }
      ],
      "source": [
        "len(austen_chunks), len(chesterton_chunks)"
      ]
    },
    {
      "cell_type": "code",
      "execution_count": null,
      "metadata": {
        "id": "-Rsz-2CaSFFJ"
      },
      "outputs": [],
      "source": [
        "def prepare_dataframe(chunks, label):\n",
        "    \"\"\"Creates a DataFrame from text chunks and assign them label\"\"\"\n",
        "    return pd.DataFrame(\n",
        "        [\" \".join(chunk) for chunk in austen_chunks],\n",
        "        columns=[\"text\"]\n",
        "    ).assign(\n",
        "        labels=label,\n",
        "    )\n",
        "\n",
        "austen_df = prepare_dataframe(austen, label=1)\n",
        "chesterton_df = prepare_dataframe(chesterton, label=0)\n",
        "anonymous_df = prepare_dataframe(anonymous, label=1)  # We know the Anonymous is Austen"
      ]
    },
    {
      "cell_type": "markdown",
      "metadata": {
        "id": "d-nlA5-STMdO"
      },
      "source": [
        "From here we can train the model using 80% of the extracts as the ones we know where they came from, and 20% of the extracts as the \"anonymous\" ones."
      ]
    },
    {
      "cell_type": "code",
      "execution_count": null,
      "metadata": {
        "id": "2rgM7daPWuKF",
        "colab": {
          "base_uri": "https://localhost:8080/",
          "height": 424
        },
        "outputId": "0027b499-a4ed-4309-a033-c9781396809c"
      },
      "outputs": [
        {
          "output_type": "execute_result",
          "data": {
            "text/plain": [
              "                                                   text  labels\n",
              "0     deeply, and giving a momentary glance at Elino...       1\n",
              "1     manners formed a contrast sufficiently strikin...       1\n",
              "2     the Mansion-house; but it was different at the...       1\n",
              "3     as the door shut them out, but not to Anne. Sh...       0\n",
              "4     silent. Upon the hint of having spoken disresp...       0\n",
              "...                                                 ...     ...\n",
              "1611  spirit; and Elinor, impatient to soothe, thoug...       0\n",
              "1612  as long as it is in sight, and then turns away...       0\n",
              "1613  governed. He did not seem to want to be near e...       1\n",
              "1614  then, I know who it is from, Colonel. And I ho...       1\n",
              "1615  fine Christian names. I should never be out if...       0\n",
              "\n",
              "[1616 rows x 2 columns]"
            ],
            "text/html": [
              "\n",
              "  <div id=\"df-3c61f265-7284-4626-b9bd-fd926e6eaf72\">\n",
              "    <div class=\"colab-df-container\">\n",
              "      <div>\n",
              "<style scoped>\n",
              "    .dataframe tbody tr th:only-of-type {\n",
              "        vertical-align: middle;\n",
              "    }\n",
              "\n",
              "    .dataframe tbody tr th {\n",
              "        vertical-align: top;\n",
              "    }\n",
              "\n",
              "    .dataframe thead th {\n",
              "        text-align: right;\n",
              "    }\n",
              "</style>\n",
              "<table border=\"1\" class=\"dataframe\">\n",
              "  <thead>\n",
              "    <tr style=\"text-align: right;\">\n",
              "      <th></th>\n",
              "      <th>text</th>\n",
              "      <th>labels</th>\n",
              "    </tr>\n",
              "  </thead>\n",
              "  <tbody>\n",
              "    <tr>\n",
              "      <th>0</th>\n",
              "      <td>deeply, and giving a momentary glance at Elino...</td>\n",
              "      <td>1</td>\n",
              "    </tr>\n",
              "    <tr>\n",
              "      <th>1</th>\n",
              "      <td>manners formed a contrast sufficiently strikin...</td>\n",
              "      <td>1</td>\n",
              "    </tr>\n",
              "    <tr>\n",
              "      <th>2</th>\n",
              "      <td>the Mansion-house; but it was different at the...</td>\n",
              "      <td>1</td>\n",
              "    </tr>\n",
              "    <tr>\n",
              "      <th>3</th>\n",
              "      <td>as the door shut them out, but not to Anne. Sh...</td>\n",
              "      <td>0</td>\n",
              "    </tr>\n",
              "    <tr>\n",
              "      <th>4</th>\n",
              "      <td>silent. Upon the hint of having spoken disresp...</td>\n",
              "      <td>0</td>\n",
              "    </tr>\n",
              "    <tr>\n",
              "      <th>...</th>\n",
              "      <td>...</td>\n",
              "      <td>...</td>\n",
              "    </tr>\n",
              "    <tr>\n",
              "      <th>1611</th>\n",
              "      <td>spirit; and Elinor, impatient to soothe, thoug...</td>\n",
              "      <td>0</td>\n",
              "    </tr>\n",
              "    <tr>\n",
              "      <th>1612</th>\n",
              "      <td>as long as it is in sight, and then turns away...</td>\n",
              "      <td>0</td>\n",
              "    </tr>\n",
              "    <tr>\n",
              "      <th>1613</th>\n",
              "      <td>governed. He did not seem to want to be near e...</td>\n",
              "      <td>1</td>\n",
              "    </tr>\n",
              "    <tr>\n",
              "      <th>1614</th>\n",
              "      <td>then, I know who it is from, Colonel. And I ho...</td>\n",
              "      <td>1</td>\n",
              "    </tr>\n",
              "    <tr>\n",
              "      <th>1615</th>\n",
              "      <td>fine Christian names. I should never be out if...</td>\n",
              "      <td>0</td>\n",
              "    </tr>\n",
              "  </tbody>\n",
              "</table>\n",
              "<p>1616 rows × 2 columns</p>\n",
              "</div>\n",
              "      <button class=\"colab-df-convert\" onclick=\"convertToInteractive('df-3c61f265-7284-4626-b9bd-fd926e6eaf72')\"\n",
              "              title=\"Convert this dataframe to an interactive table.\"\n",
              "              style=\"display:none;\">\n",
              "        \n",
              "  <svg xmlns=\"http://www.w3.org/2000/svg\" height=\"24px\"viewBox=\"0 0 24 24\"\n",
              "       width=\"24px\">\n",
              "    <path d=\"M0 0h24v24H0V0z\" fill=\"none\"/>\n",
              "    <path d=\"M18.56 5.44l.94 2.06.94-2.06 2.06-.94-2.06-.94-.94-2.06-.94 2.06-2.06.94zm-11 1L8.5 8.5l.94-2.06 2.06-.94-2.06-.94L8.5 2.5l-.94 2.06-2.06.94zm10 10l.94 2.06.94-2.06 2.06-.94-2.06-.94-.94-2.06-.94 2.06-2.06.94z\"/><path d=\"M17.41 7.96l-1.37-1.37c-.4-.4-.92-.59-1.43-.59-.52 0-1.04.2-1.43.59L10.3 9.45l-7.72 7.72c-.78.78-.78 2.05 0 2.83L4 21.41c.39.39.9.59 1.41.59.51 0 1.02-.2 1.41-.59l7.78-7.78 2.81-2.81c.8-.78.8-2.07 0-2.86zM5.41 20L4 18.59l7.72-7.72 1.47 1.35L5.41 20z\"/>\n",
              "  </svg>\n",
              "      </button>\n",
              "      \n",
              "  <style>\n",
              "    .colab-df-container {\n",
              "      display:flex;\n",
              "      flex-wrap:wrap;\n",
              "      gap: 12px;\n",
              "    }\n",
              "\n",
              "    .colab-df-convert {\n",
              "      background-color: #E8F0FE;\n",
              "      border: none;\n",
              "      border-radius: 50%;\n",
              "      cursor: pointer;\n",
              "      display: none;\n",
              "      fill: #1967D2;\n",
              "      height: 32px;\n",
              "      padding: 0 0 0 0;\n",
              "      width: 32px;\n",
              "    }\n",
              "\n",
              "    .colab-df-convert:hover {\n",
              "      background-color: #E2EBFA;\n",
              "      box-shadow: 0px 1px 2px rgba(60, 64, 67, 0.3), 0px 1px 3px 1px rgba(60, 64, 67, 0.15);\n",
              "      fill: #174EA6;\n",
              "    }\n",
              "\n",
              "    [theme=dark] .colab-df-convert {\n",
              "      background-color: #3B4455;\n",
              "      fill: #D2E3FC;\n",
              "    }\n",
              "\n",
              "    [theme=dark] .colab-df-convert:hover {\n",
              "      background-color: #434B5C;\n",
              "      box-shadow: 0px 1px 3px 1px rgba(0, 0, 0, 0.15);\n",
              "      filter: drop-shadow(0px 1px 2px rgba(0, 0, 0, 0.3));\n",
              "      fill: #FFFFFF;\n",
              "    }\n",
              "  </style>\n",
              "\n",
              "      <script>\n",
              "        const buttonEl =\n",
              "          document.querySelector('#df-3c61f265-7284-4626-b9bd-fd926e6eaf72 button.colab-df-convert');\n",
              "        buttonEl.style.display =\n",
              "          google.colab.kernel.accessAllowed ? 'block' : 'none';\n",
              "\n",
              "        async function convertToInteractive(key) {\n",
              "          const element = document.querySelector('#df-3c61f265-7284-4626-b9bd-fd926e6eaf72');\n",
              "          const dataTable =\n",
              "            await google.colab.kernel.invokeFunction('convertToInteractive',\n",
              "                                                     [key], {});\n",
              "          if (!dataTable) return;\n",
              "\n",
              "          const docLinkHtml = 'Like what you see? Visit the ' +\n",
              "            '<a target=\"_blank\" href=https://colab.research.google.com/notebooks/data_table.ipynb>data table notebook</a>'\n",
              "            + ' to learn more about interactive tables.';\n",
              "          element.innerHTML = '';\n",
              "          dataTable['output_type'] = 'display_data';\n",
              "          await google.colab.output.renderOutput(dataTable, element);\n",
              "          const docLink = document.createElement('div');\n",
              "          docLink.innerHTML = docLinkHtml;\n",
              "          element.appendChild(docLink);\n",
              "        }\n",
              "      </script>\n",
              "    </div>\n",
              "  </div>\n",
              "  "
            ]
          },
          "metadata": {},
          "execution_count": 130
        }
      ],
      "source": [
        "train_df = pd.concat([austen_df, chesterton_df], ignore_index=True).sample(frac=1).reset_index(drop=True)\n",
        "train_df"
      ]
    },
    {
      "cell_type": "code",
      "execution_count": null,
      "metadata": {
        "id": "Rzl7gM12W_op",
        "colab": {
          "base_uri": "https://localhost:8080/",
          "height": 424
        },
        "outputId": "2bff9b98-d330-487f-cbc5-78d3ce279b6c"
      },
      "outputs": [
        {
          "output_type": "execute_result",
          "data": {
            "text/plain": [
              "                                                  text  labels\n",
              "0    as long as Marianne remained ill, and of endea...       1\n",
              "1    through. But it was more probable that he shou...       1\n",
              "2    half an hour) to his lectures and restrictions...       1\n",
              "3    did not stop here; for she soon afterwards fel...       1\n",
              "4    to bed.\" But this, from the momentary perverse...       1\n",
              "..                                                 ...     ...\n",
              "803  without being heard at the other. \"Well,\" said...       1\n",
              "804  for it was all tumbled down her back; and he k...       1\n",
              "805  Anne would have been ashamed to have it known ...       1\n",
              "806  with an expression half serious, half arch, \"W...       1\n",
              "807  assurance of her affection. Elinor could not b...       1\n",
              "\n",
              "[808 rows x 2 columns]"
            ],
            "text/html": [
              "\n",
              "  <div id=\"df-0799c82f-a8b1-41b4-9027-7f630dc17b18\">\n",
              "    <div class=\"colab-df-container\">\n",
              "      <div>\n",
              "<style scoped>\n",
              "    .dataframe tbody tr th:only-of-type {\n",
              "        vertical-align: middle;\n",
              "    }\n",
              "\n",
              "    .dataframe tbody tr th {\n",
              "        vertical-align: top;\n",
              "    }\n",
              "\n",
              "    .dataframe thead th {\n",
              "        text-align: right;\n",
              "    }\n",
              "</style>\n",
              "<table border=\"1\" class=\"dataframe\">\n",
              "  <thead>\n",
              "    <tr style=\"text-align: right;\">\n",
              "      <th></th>\n",
              "      <th>text</th>\n",
              "      <th>labels</th>\n",
              "    </tr>\n",
              "  </thead>\n",
              "  <tbody>\n",
              "    <tr>\n",
              "      <th>0</th>\n",
              "      <td>as long as Marianne remained ill, and of endea...</td>\n",
              "      <td>1</td>\n",
              "    </tr>\n",
              "    <tr>\n",
              "      <th>1</th>\n",
              "      <td>through. But it was more probable that he shou...</td>\n",
              "      <td>1</td>\n",
              "    </tr>\n",
              "    <tr>\n",
              "      <th>2</th>\n",
              "      <td>half an hour) to his lectures and restrictions...</td>\n",
              "      <td>1</td>\n",
              "    </tr>\n",
              "    <tr>\n",
              "      <th>3</th>\n",
              "      <td>did not stop here; for she soon afterwards fel...</td>\n",
              "      <td>1</td>\n",
              "    </tr>\n",
              "    <tr>\n",
              "      <th>4</th>\n",
              "      <td>to bed.\" But this, from the momentary perverse...</td>\n",
              "      <td>1</td>\n",
              "    </tr>\n",
              "    <tr>\n",
              "      <th>...</th>\n",
              "      <td>...</td>\n",
              "      <td>...</td>\n",
              "    </tr>\n",
              "    <tr>\n",
              "      <th>803</th>\n",
              "      <td>without being heard at the other. \"Well,\" said...</td>\n",
              "      <td>1</td>\n",
              "    </tr>\n",
              "    <tr>\n",
              "      <th>804</th>\n",
              "      <td>for it was all tumbled down her back; and he k...</td>\n",
              "      <td>1</td>\n",
              "    </tr>\n",
              "    <tr>\n",
              "      <th>805</th>\n",
              "      <td>Anne would have been ashamed to have it known ...</td>\n",
              "      <td>1</td>\n",
              "    </tr>\n",
              "    <tr>\n",
              "      <th>806</th>\n",
              "      <td>with an expression half serious, half arch, \"W...</td>\n",
              "      <td>1</td>\n",
              "    </tr>\n",
              "    <tr>\n",
              "      <th>807</th>\n",
              "      <td>assurance of her affection. Elinor could not b...</td>\n",
              "      <td>1</td>\n",
              "    </tr>\n",
              "  </tbody>\n",
              "</table>\n",
              "<p>808 rows × 2 columns</p>\n",
              "</div>\n",
              "      <button class=\"colab-df-convert\" onclick=\"convertToInteractive('df-0799c82f-a8b1-41b4-9027-7f630dc17b18')\"\n",
              "              title=\"Convert this dataframe to an interactive table.\"\n",
              "              style=\"display:none;\">\n",
              "        \n",
              "  <svg xmlns=\"http://www.w3.org/2000/svg\" height=\"24px\"viewBox=\"0 0 24 24\"\n",
              "       width=\"24px\">\n",
              "    <path d=\"M0 0h24v24H0V0z\" fill=\"none\"/>\n",
              "    <path d=\"M18.56 5.44l.94 2.06.94-2.06 2.06-.94-2.06-.94-.94-2.06-.94 2.06-2.06.94zm-11 1L8.5 8.5l.94-2.06 2.06-.94-2.06-.94L8.5 2.5l-.94 2.06-2.06.94zm10 10l.94 2.06.94-2.06 2.06-.94-2.06-.94-.94-2.06-.94 2.06-2.06.94z\"/><path d=\"M17.41 7.96l-1.37-1.37c-.4-.4-.92-.59-1.43-.59-.52 0-1.04.2-1.43.59L10.3 9.45l-7.72 7.72c-.78.78-.78 2.05 0 2.83L4 21.41c.39.39.9.59 1.41.59.51 0 1.02-.2 1.41-.59l7.78-7.78 2.81-2.81c.8-.78.8-2.07 0-2.86zM5.41 20L4 18.59l7.72-7.72 1.47 1.35L5.41 20z\"/>\n",
              "  </svg>\n",
              "      </button>\n",
              "      \n",
              "  <style>\n",
              "    .colab-df-container {\n",
              "      display:flex;\n",
              "      flex-wrap:wrap;\n",
              "      gap: 12px;\n",
              "    }\n",
              "\n",
              "    .colab-df-convert {\n",
              "      background-color: #E8F0FE;\n",
              "      border: none;\n",
              "      border-radius: 50%;\n",
              "      cursor: pointer;\n",
              "      display: none;\n",
              "      fill: #1967D2;\n",
              "      height: 32px;\n",
              "      padding: 0 0 0 0;\n",
              "      width: 32px;\n",
              "    }\n",
              "\n",
              "    .colab-df-convert:hover {\n",
              "      background-color: #E2EBFA;\n",
              "      box-shadow: 0px 1px 2px rgba(60, 64, 67, 0.3), 0px 1px 3px 1px rgba(60, 64, 67, 0.15);\n",
              "      fill: #174EA6;\n",
              "    }\n",
              "\n",
              "    [theme=dark] .colab-df-convert {\n",
              "      background-color: #3B4455;\n",
              "      fill: #D2E3FC;\n",
              "    }\n",
              "\n",
              "    [theme=dark] .colab-df-convert:hover {\n",
              "      background-color: #434B5C;\n",
              "      box-shadow: 0px 1px 3px 1px rgba(0, 0, 0, 0.15);\n",
              "      filter: drop-shadow(0px 1px 2px rgba(0, 0, 0, 0.3));\n",
              "      fill: #FFFFFF;\n",
              "    }\n",
              "  </style>\n",
              "\n",
              "      <script>\n",
              "        const buttonEl =\n",
              "          document.querySelector('#df-0799c82f-a8b1-41b4-9027-7f630dc17b18 button.colab-df-convert');\n",
              "        buttonEl.style.display =\n",
              "          google.colab.kernel.accessAllowed ? 'block' : 'none';\n",
              "\n",
              "        async function convertToInteractive(key) {\n",
              "          const element = document.querySelector('#df-0799c82f-a8b1-41b4-9027-7f630dc17b18');\n",
              "          const dataTable =\n",
              "            await google.colab.kernel.invokeFunction('convertToInteractive',\n",
              "                                                     [key], {});\n",
              "          if (!dataTable) return;\n",
              "\n",
              "          const docLinkHtml = 'Like what you see? Visit the ' +\n",
              "            '<a target=\"_blank\" href=https://colab.research.google.com/notebooks/data_table.ipynb>data table notebook</a>'\n",
              "            + ' to learn more about interactive tables.';\n",
              "          element.innerHTML = '';\n",
              "          dataTable['output_type'] = 'display_data';\n",
              "          await google.colab.output.renderOutput(dataTable, element);\n",
              "          const docLink = document.createElement('div');\n",
              "          docLink.innerHTML = docLinkHtml;\n",
              "          element.appendChild(docLink);\n",
              "        }\n",
              "      </script>\n",
              "    </div>\n",
              "  </div>\n",
              "  "
            ]
          },
          "metadata": {},
          "execution_count": 131
        }
      ],
      "source": [
        "eval_df = anonymous_df.sample(frac=1).reset_index(drop=True)\n",
        "eval_df"
      ]
    },
    {
      "cell_type": "code",
      "execution_count": null,
      "metadata": {
        "id": "iRGtSqPJTkXW",
        "colab": {
          "base_uri": "https://localhost:8080/"
        },
        "outputId": "ec251510-a3c9-4f8e-df19-f45e4c192b54"
      },
      "outputs": [
        {
          "output_type": "stream",
          "name": "stderr",
          "text": [
            "Some weights of the model checkpoint at distilbert-base-cased were not used when initializing DistilBertForSequenceClassification: ['vocab_layer_norm.bias', 'vocab_layer_norm.weight', 'vocab_transform.weight', 'vocab_transform.bias', 'vocab_projector.weight', 'vocab_projector.bias']\n",
            "- This IS expected if you are initializing DistilBertForSequenceClassification from the checkpoint of a model trained on another task or with another architecture (e.g. initializing a BertForSequenceClassification model from a BertForPreTraining model).\n",
            "- This IS NOT expected if you are initializing DistilBertForSequenceClassification from the checkpoint of a model that you expect to be exactly identical (initializing a BertForSequenceClassification model from a BertForSequenceClassification model).\n",
            "Some weights of DistilBertForSequenceClassification were not initialized from the model checkpoint at distilbert-base-cased and are newly initialized: ['classifier.bias', 'pre_classifier.weight', 'pre_classifier.bias', 'classifier.weight']\n",
            "You should probably TRAIN this model on a down-stream task to be able to use it for predictions and inference.\n"
          ]
        }
      ],
      "source": [
        "from simpletransformers.classification import ClassificationModel\n",
        "\n",
        "model = ClassificationModel(\n",
        "    \"distilbert\", \"distilbert-base-cased\", use_cuda=True,\n",
        "    args = {\n",
        "        \"num_train_epochs\": 3,\n",
        "        \"learning_rate\": 1e-4,\n",
        "        \"train_batch_size\": 32,\n",
        "        \"overwrite_output_dir\": True,\n",
        "    }\n",
        ")"
      ]
    },
    {
      "cell_type": "code",
      "execution_count": null,
      "metadata": {
        "id": "1K2S6KVyWeZr",
        "colab": {
          "base_uri": "https://localhost:8080/",
          "height": 49,
          "referenced_widgets": [
            "8309dd00a5674436b0e7e4d9379854b6",
            "4bbbed48752a411ead4490dd766a35fb",
            "da449af0fa76421e99923443ae37c2bd",
            "d0a19e3bfc494119ba42daad9ab81d04",
            "9069cb935414460986d0db9a2047ca2f",
            "50b9c008a0574ad1bfb7897b57b930b4",
            "3e8eac3cd89c429e802c1f0e30f8684c",
            "3f66cd5025e345fd9da9043b3a336141",
            "4ed91fdf6dd547868ed6ff73e561ee89",
            "8c90256ee6504e86aeb28d51ec734a5c",
            "d090b10578e44e2cbc22a2935d25ee93"
          ]
        },
        "outputId": "6b36fc5b-6ba5-4913-a497-0ab837503709"
      },
      "outputs": [
        {
          "output_type": "display_data",
          "data": {
            "text/plain": [
              "  0%|          | 0/1616 [00:00<?, ?it/s]"
            ],
            "application/vnd.jupyter.widget-view+json": {
              "version_major": 2,
              "version_minor": 0,
              "model_id": "8309dd00a5674436b0e7e4d9379854b6"
            }
          },
          "metadata": {}
        }
      ],
      "source": [
        "model.train_model(train_df=train_df)"
      ]
    },
    {
      "cell_type": "code",
      "execution_count": null,
      "metadata": {
        "id": "dhM_aiwTcue7"
      },
      "outputs": [],
      "source": [
        "results = model.eval_model(eval_df)[0]\n",
        "results"
      ]
    },
    {
      "cell_type": "markdown",
      "metadata": {
        "id": "DpCxpu900P6v"
      },
      "source": [
        "And even show how many of those bits have been misattributed."
      ]
    },
    {
      "cell_type": "code",
      "execution_count": null,
      "metadata": {
        "id": "8jTNfFlZQpML"
      },
      "outputs": [],
      "source": [
        "confusion = pd.DataFrame(\n",
        "    [[results[\"tp\"] , results[\"fp\"]], [results[\"fn\"] , results[\"tn\"]]],\n",
        "    index=[\"Austen\", \"Chesterton\"],\n",
        "    columns=[\"Austen\", \"Chesterton\"],\n",
        ")\n",
        "confusion.columns.name = \"Written by\"\n",
        "confusion.index.name = \"Attributed to\"\n",
        "confusion"
      ]
    }
  ]
}